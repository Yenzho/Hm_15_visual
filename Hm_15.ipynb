{
 "cells": [
  {
   "cell_type": "code",
   "execution_count": 59,
   "id": "e7af5a50",
   "metadata": {},
   "outputs": [],
   "source": [
    "import matplotlib.pyplot as plt\n",
    "import pandas as pd\n",
    "import numpy as np\n",
    "from pylab import rcParams\n",
    "from plotly.offline import init_notebook_mode, iplot\n",
    "import plotly\n",
    "import plotly.graph_objs as go\n",
    "import seaborn as sns\n",
    "import plotly.express as px"
   ]
  },
  {
   "cell_type": "code",
   "execution_count": 2,
   "id": "2a763830",
   "metadata": {},
   "outputs": [],
   "source": [
    "df15 = pd.read_csv('files//2015.csv')\n",
    "df16 = pd.read_csv('files//2016.csv')\n",
    "df17 = pd.read_csv('files//2017.csv')\n",
    "df18 = pd.read_csv('files//2018.csv')\n",
    "df19 = pd.read_csv('files//2019.csv')"
   ]
  },
  {
   "cell_type": "code",
   "execution_count": 3,
   "id": "2517887c",
   "metadata": {},
   "outputs": [
    {
     "data": {
      "text/html": [
       "<div>\n",
       "<style scoped>\n",
       "    .dataframe tbody tr th:only-of-type {\n",
       "        vertical-align: middle;\n",
       "    }\n",
       "\n",
       "    .dataframe tbody tr th {\n",
       "        vertical-align: top;\n",
       "    }\n",
       "\n",
       "    .dataframe thead th {\n",
       "        text-align: right;\n",
       "    }\n",
       "</style>\n",
       "<table border=\"1\" class=\"dataframe\">\n",
       "  <thead>\n",
       "    <tr style=\"text-align: right;\">\n",
       "      <th></th>\n",
       "      <th>Country</th>\n",
       "      <th>Region</th>\n",
       "      <th>Happiness Rank</th>\n",
       "      <th>Happiness Score</th>\n",
       "      <th>Standard Error</th>\n",
       "      <th>Economy (GDP per Capita)</th>\n",
       "      <th>Family</th>\n",
       "      <th>Health (Life Expectancy)</th>\n",
       "      <th>Freedom</th>\n",
       "      <th>Trust (Government Corruption)</th>\n",
       "      <th>Generosity</th>\n",
       "      <th>Dystopia Residual</th>\n",
       "    </tr>\n",
       "  </thead>\n",
       "  <tbody>\n",
       "    <tr>\n",
       "      <th>0</th>\n",
       "      <td>Switzerland</td>\n",
       "      <td>Western Europe</td>\n",
       "      <td>1</td>\n",
       "      <td>7.587</td>\n",
       "      <td>0.03411</td>\n",
       "      <td>1.39651</td>\n",
       "      <td>1.34951</td>\n",
       "      <td>0.94143</td>\n",
       "      <td>0.66557</td>\n",
       "      <td>0.41978</td>\n",
       "      <td>0.29678</td>\n",
       "      <td>2.51738</td>\n",
       "    </tr>\n",
       "    <tr>\n",
       "      <th>1</th>\n",
       "      <td>Iceland</td>\n",
       "      <td>Western Europe</td>\n",
       "      <td>2</td>\n",
       "      <td>7.561</td>\n",
       "      <td>0.04884</td>\n",
       "      <td>1.30232</td>\n",
       "      <td>1.40223</td>\n",
       "      <td>0.94784</td>\n",
       "      <td>0.62877</td>\n",
       "      <td>0.14145</td>\n",
       "      <td>0.43630</td>\n",
       "      <td>2.70201</td>\n",
       "    </tr>\n",
       "    <tr>\n",
       "      <th>2</th>\n",
       "      <td>Denmark</td>\n",
       "      <td>Western Europe</td>\n",
       "      <td>3</td>\n",
       "      <td>7.527</td>\n",
       "      <td>0.03328</td>\n",
       "      <td>1.32548</td>\n",
       "      <td>1.36058</td>\n",
       "      <td>0.87464</td>\n",
       "      <td>0.64938</td>\n",
       "      <td>0.48357</td>\n",
       "      <td>0.34139</td>\n",
       "      <td>2.49204</td>\n",
       "    </tr>\n",
       "    <tr>\n",
       "      <th>3</th>\n",
       "      <td>Norway</td>\n",
       "      <td>Western Europe</td>\n",
       "      <td>4</td>\n",
       "      <td>7.522</td>\n",
       "      <td>0.03880</td>\n",
       "      <td>1.45900</td>\n",
       "      <td>1.33095</td>\n",
       "      <td>0.88521</td>\n",
       "      <td>0.66973</td>\n",
       "      <td>0.36503</td>\n",
       "      <td>0.34699</td>\n",
       "      <td>2.46531</td>\n",
       "    </tr>\n",
       "    <tr>\n",
       "      <th>4</th>\n",
       "      <td>Canada</td>\n",
       "      <td>North America</td>\n",
       "      <td>5</td>\n",
       "      <td>7.427</td>\n",
       "      <td>0.03553</td>\n",
       "      <td>1.32629</td>\n",
       "      <td>1.32261</td>\n",
       "      <td>0.90563</td>\n",
       "      <td>0.63297</td>\n",
       "      <td>0.32957</td>\n",
       "      <td>0.45811</td>\n",
       "      <td>2.45176</td>\n",
       "    </tr>\n",
       "    <tr>\n",
       "      <th>...</th>\n",
       "      <td>...</td>\n",
       "      <td>...</td>\n",
       "      <td>...</td>\n",
       "      <td>...</td>\n",
       "      <td>...</td>\n",
       "      <td>...</td>\n",
       "      <td>...</td>\n",
       "      <td>...</td>\n",
       "      <td>...</td>\n",
       "      <td>...</td>\n",
       "      <td>...</td>\n",
       "      <td>...</td>\n",
       "    </tr>\n",
       "    <tr>\n",
       "      <th>153</th>\n",
       "      <td>Rwanda</td>\n",
       "      <td>Sub-Saharan Africa</td>\n",
       "      <td>154</td>\n",
       "      <td>3.465</td>\n",
       "      <td>0.03464</td>\n",
       "      <td>0.22208</td>\n",
       "      <td>0.77370</td>\n",
       "      <td>0.42864</td>\n",
       "      <td>0.59201</td>\n",
       "      <td>0.55191</td>\n",
       "      <td>0.22628</td>\n",
       "      <td>0.67042</td>\n",
       "    </tr>\n",
       "    <tr>\n",
       "      <th>154</th>\n",
       "      <td>Benin</td>\n",
       "      <td>Sub-Saharan Africa</td>\n",
       "      <td>155</td>\n",
       "      <td>3.340</td>\n",
       "      <td>0.03656</td>\n",
       "      <td>0.28665</td>\n",
       "      <td>0.35386</td>\n",
       "      <td>0.31910</td>\n",
       "      <td>0.48450</td>\n",
       "      <td>0.08010</td>\n",
       "      <td>0.18260</td>\n",
       "      <td>1.63328</td>\n",
       "    </tr>\n",
       "    <tr>\n",
       "      <th>155</th>\n",
       "      <td>Syria</td>\n",
       "      <td>Middle East and Northern Africa</td>\n",
       "      <td>156</td>\n",
       "      <td>3.006</td>\n",
       "      <td>0.05015</td>\n",
       "      <td>0.66320</td>\n",
       "      <td>0.47489</td>\n",
       "      <td>0.72193</td>\n",
       "      <td>0.15684</td>\n",
       "      <td>0.18906</td>\n",
       "      <td>0.47179</td>\n",
       "      <td>0.32858</td>\n",
       "    </tr>\n",
       "    <tr>\n",
       "      <th>156</th>\n",
       "      <td>Burundi</td>\n",
       "      <td>Sub-Saharan Africa</td>\n",
       "      <td>157</td>\n",
       "      <td>2.905</td>\n",
       "      <td>0.08658</td>\n",
       "      <td>0.01530</td>\n",
       "      <td>0.41587</td>\n",
       "      <td>0.22396</td>\n",
       "      <td>0.11850</td>\n",
       "      <td>0.10062</td>\n",
       "      <td>0.19727</td>\n",
       "      <td>1.83302</td>\n",
       "    </tr>\n",
       "    <tr>\n",
       "      <th>157</th>\n",
       "      <td>Togo</td>\n",
       "      <td>Sub-Saharan Africa</td>\n",
       "      <td>158</td>\n",
       "      <td>2.839</td>\n",
       "      <td>0.06727</td>\n",
       "      <td>0.20868</td>\n",
       "      <td>0.13995</td>\n",
       "      <td>0.28443</td>\n",
       "      <td>0.36453</td>\n",
       "      <td>0.10731</td>\n",
       "      <td>0.16681</td>\n",
       "      <td>1.56726</td>\n",
       "    </tr>\n",
       "  </tbody>\n",
       "</table>\n",
       "<p>158 rows × 12 columns</p>\n",
       "</div>"
      ],
      "text/plain": [
       "         Country                           Region  Happiness Rank  \\\n",
       "0    Switzerland                   Western Europe               1   \n",
       "1        Iceland                   Western Europe               2   \n",
       "2        Denmark                   Western Europe               3   \n",
       "3         Norway                   Western Europe               4   \n",
       "4         Canada                    North America               5   \n",
       "..           ...                              ...             ...   \n",
       "153       Rwanda               Sub-Saharan Africa             154   \n",
       "154        Benin               Sub-Saharan Africa             155   \n",
       "155        Syria  Middle East and Northern Africa             156   \n",
       "156      Burundi               Sub-Saharan Africa             157   \n",
       "157         Togo               Sub-Saharan Africa             158   \n",
       "\n",
       "     Happiness Score  Standard Error  Economy (GDP per Capita)   Family  \\\n",
       "0              7.587         0.03411                   1.39651  1.34951   \n",
       "1              7.561         0.04884                   1.30232  1.40223   \n",
       "2              7.527         0.03328                   1.32548  1.36058   \n",
       "3              7.522         0.03880                   1.45900  1.33095   \n",
       "4              7.427         0.03553                   1.32629  1.32261   \n",
       "..               ...             ...                       ...      ...   \n",
       "153            3.465         0.03464                   0.22208  0.77370   \n",
       "154            3.340         0.03656                   0.28665  0.35386   \n",
       "155            3.006         0.05015                   0.66320  0.47489   \n",
       "156            2.905         0.08658                   0.01530  0.41587   \n",
       "157            2.839         0.06727                   0.20868  0.13995   \n",
       "\n",
       "     Health (Life Expectancy)  Freedom  Trust (Government Corruption)  \\\n",
       "0                     0.94143  0.66557                        0.41978   \n",
       "1                     0.94784  0.62877                        0.14145   \n",
       "2                     0.87464  0.64938                        0.48357   \n",
       "3                     0.88521  0.66973                        0.36503   \n",
       "4                     0.90563  0.63297                        0.32957   \n",
       "..                        ...      ...                            ...   \n",
       "153                   0.42864  0.59201                        0.55191   \n",
       "154                   0.31910  0.48450                        0.08010   \n",
       "155                   0.72193  0.15684                        0.18906   \n",
       "156                   0.22396  0.11850                        0.10062   \n",
       "157                   0.28443  0.36453                        0.10731   \n",
       "\n",
       "     Generosity  Dystopia Residual  \n",
       "0       0.29678            2.51738  \n",
       "1       0.43630            2.70201  \n",
       "2       0.34139            2.49204  \n",
       "3       0.34699            2.46531  \n",
       "4       0.45811            2.45176  \n",
       "..          ...                ...  \n",
       "153     0.22628            0.67042  \n",
       "154     0.18260            1.63328  \n",
       "155     0.47179            0.32858  \n",
       "156     0.19727            1.83302  \n",
       "157     0.16681            1.56726  \n",
       "\n",
       "[158 rows x 12 columns]"
      ]
     },
     "execution_count": 3,
     "metadata": {},
     "output_type": "execute_result"
    }
   ],
   "source": [
    "df15"
   ]
  },
  {
   "cell_type": "code",
   "execution_count": 4,
   "id": "36569c21",
   "metadata": {},
   "outputs": [
    {
     "name": "stdout",
     "output_type": "stream",
     "text": [
      "<class 'pandas.core.frame.DataFrame'>\n",
      "RangeIndex: 158 entries, 0 to 157\n",
      "Data columns (total 12 columns):\n",
      " #   Column                         Non-Null Count  Dtype  \n",
      "---  ------                         --------------  -----  \n",
      " 0   Country                        158 non-null    object \n",
      " 1   Region                         158 non-null    object \n",
      " 2   Happiness Rank                 158 non-null    int64  \n",
      " 3   Happiness Score                158 non-null    float64\n",
      " 4   Standard Error                 158 non-null    float64\n",
      " 5   Economy (GDP per Capita)       158 non-null    float64\n",
      " 6   Family                         158 non-null    float64\n",
      " 7   Health (Life Expectancy)       158 non-null    float64\n",
      " 8   Freedom                        158 non-null    float64\n",
      " 9   Trust (Government Corruption)  158 non-null    float64\n",
      " 10  Generosity                     158 non-null    float64\n",
      " 11  Dystopia Residual              158 non-null    float64\n",
      "dtypes: float64(9), int64(1), object(2)\n",
      "memory usage: 14.9+ KB\n"
     ]
    }
   ],
   "source": [
    "df15.info()"
   ]
  },
  {
   "cell_type": "code",
   "execution_count": 5,
   "id": "800ae9c1",
   "metadata": {},
   "outputs": [
    {
     "data": {
      "text/plain": [
       "<bound method Series.unique of 0                       Western Europe\n",
       "1                       Western Europe\n",
       "2                       Western Europe\n",
       "3                       Western Europe\n",
       "4                        North America\n",
       "                    ...               \n",
       "153                 Sub-Saharan Africa\n",
       "154                 Sub-Saharan Africa\n",
       "155    Middle East and Northern Africa\n",
       "156                 Sub-Saharan Africa\n",
       "157                 Sub-Saharan Africa\n",
       "Name: Region, Length: 158, dtype: object>"
      ]
     },
     "execution_count": 5,
     "metadata": {},
     "output_type": "execute_result"
    }
   ],
   "source": [
    "df15['Region'].unique"
   ]
  },
  {
   "cell_type": "code",
   "execution_count": 6,
   "id": "85938139",
   "metadata": {},
   "outputs": [
    {
     "data": {
      "text/html": [
       "<div>\n",
       "<style scoped>\n",
       "    .dataframe tbody tr th:only-of-type {\n",
       "        vertical-align: middle;\n",
       "    }\n",
       "\n",
       "    .dataframe tbody tr th {\n",
       "        vertical-align: top;\n",
       "    }\n",
       "\n",
       "    .dataframe thead th {\n",
       "        text-align: right;\n",
       "    }\n",
       "</style>\n",
       "<table border=\"1\" class=\"dataframe\">\n",
       "  <thead>\n",
       "    <tr style=\"text-align: right;\">\n",
       "      <th></th>\n",
       "      <th>Happiness Score</th>\n",
       "      <th>Economy (GDP per Capita)</th>\n",
       "      <th>Health (Life Expectancy)</th>\n",
       "      <th>Freedom</th>\n",
       "      <th>Trust (Government Corruption)</th>\n",
       "    </tr>\n",
       "    <tr>\n",
       "      <th>Region</th>\n",
       "      <th></th>\n",
       "      <th></th>\n",
       "      <th></th>\n",
       "      <th></th>\n",
       "      <th></th>\n",
       "    </tr>\n",
       "  </thead>\n",
       "  <tbody>\n",
       "    <tr>\n",
       "      <th>Australia and New Zealand</th>\n",
       "      <td>7.285</td>\n",
       "      <td>1.291880</td>\n",
       "      <td>0.919965</td>\n",
       "      <td>0.645310</td>\n",
       "      <td>0.392795</td>\n",
       "    </tr>\n",
       "    <tr>\n",
       "      <th>Central and Eastern Europe</th>\n",
       "      <td>5.286</td>\n",
       "      <td>1.012160</td>\n",
       "      <td>0.731280</td>\n",
       "      <td>0.350680</td>\n",
       "      <td>0.042120</td>\n",
       "    </tr>\n",
       "    <tr>\n",
       "      <th>Eastern Asia</th>\n",
       "      <td>5.729</td>\n",
       "      <td>1.257675</td>\n",
       "      <td>0.920340</td>\n",
       "      <td>0.466205</td>\n",
       "      <td>0.079930</td>\n",
       "    </tr>\n",
       "    <tr>\n",
       "      <th>Latin America and Caribbean</th>\n",
       "      <td>6.149</td>\n",
       "      <td>0.909400</td>\n",
       "      <td>0.696060</td>\n",
       "      <td>0.519540</td>\n",
       "      <td>0.108260</td>\n",
       "    </tr>\n",
       "    <tr>\n",
       "      <th>Middle East and Northern Africa</th>\n",
       "      <td>5.262</td>\n",
       "      <td>1.017220</td>\n",
       "      <td>0.721090</td>\n",
       "      <td>0.347435</td>\n",
       "      <td>0.140405</td>\n",
       "    </tr>\n",
       "    <tr>\n",
       "      <th>North America</th>\n",
       "      <td>7.273</td>\n",
       "      <td>1.360400</td>\n",
       "      <td>0.883710</td>\n",
       "      <td>0.589505</td>\n",
       "      <td>0.244235</td>\n",
       "    </tr>\n",
       "    <tr>\n",
       "      <th>Southeastern Asia</th>\n",
       "      <td>5.360</td>\n",
       "      <td>0.705320</td>\n",
       "      <td>0.637930</td>\n",
       "      <td>0.556640</td>\n",
       "      <td>0.105010</td>\n",
       "    </tr>\n",
       "    <tr>\n",
       "      <th>Southern Asia</th>\n",
       "      <td>4.565</td>\n",
       "      <td>0.595430</td>\n",
       "      <td>0.568740</td>\n",
       "      <td>0.397860</td>\n",
       "      <td>0.097190</td>\n",
       "    </tr>\n",
       "    <tr>\n",
       "      <th>Sub-Saharan Africa</th>\n",
       "      <td>4.272</td>\n",
       "      <td>0.308445</td>\n",
       "      <td>0.298155</td>\n",
       "      <td>0.382910</td>\n",
       "      <td>0.103875</td>\n",
       "    </tr>\n",
       "    <tr>\n",
       "      <th>Western Europe</th>\n",
       "      <td>6.937</td>\n",
       "      <td>1.302320</td>\n",
       "      <td>0.896670</td>\n",
       "      <td>0.614770</td>\n",
       "      <td>0.218430</td>\n",
       "    </tr>\n",
       "  </tbody>\n",
       "</table>\n",
       "</div>"
      ],
      "text/plain": [
       "                                 Happiness Score  Economy (GDP per Capita)  \\\n",
       "Region                                                                       \n",
       "Australia and New Zealand                  7.285                  1.291880   \n",
       "Central and Eastern Europe                 5.286                  1.012160   \n",
       "Eastern Asia                               5.729                  1.257675   \n",
       "Latin America and Caribbean                6.149                  0.909400   \n",
       "Middle East and Northern Africa            5.262                  1.017220   \n",
       "North America                              7.273                  1.360400   \n",
       "Southeastern Asia                          5.360                  0.705320   \n",
       "Southern Asia                              4.565                  0.595430   \n",
       "Sub-Saharan Africa                         4.272                  0.308445   \n",
       "Western Europe                             6.937                  1.302320   \n",
       "\n",
       "                                 Health (Life Expectancy)   Freedom  \\\n",
       "Region                                                                \n",
       "Australia and New Zealand                        0.919965  0.645310   \n",
       "Central and Eastern Europe                       0.731280  0.350680   \n",
       "Eastern Asia                                     0.920340  0.466205   \n",
       "Latin America and Caribbean                      0.696060  0.519540   \n",
       "Middle East and Northern Africa                  0.721090  0.347435   \n",
       "North America                                    0.883710  0.589505   \n",
       "Southeastern Asia                                0.637930  0.556640   \n",
       "Southern Asia                                    0.568740  0.397860   \n",
       "Sub-Saharan Africa                               0.298155  0.382910   \n",
       "Western Europe                                   0.896670  0.614770   \n",
       "\n",
       "                                 Trust (Government Corruption)  \n",
       "Region                                                          \n",
       "Australia and New Zealand                             0.392795  \n",
       "Central and Eastern Europe                            0.042120  \n",
       "Eastern Asia                                          0.079930  \n",
       "Latin America and Caribbean                           0.108260  \n",
       "Middle East and Northern Africa                       0.140405  \n",
       "North America                                         0.244235  \n",
       "Southeastern Asia                                     0.105010  \n",
       "Southern Asia                                         0.097190  \n",
       "Sub-Saharan Africa                                    0.103875  \n",
       "Western Europe                                        0.218430  "
      ]
     },
     "execution_count": 6,
     "metadata": {},
     "output_type": "execute_result"
    }
   ],
   "source": [
    "dynamics_by_region = df15[['Region','Happiness Score','Economy (GDP per Capita)', 'Health (Life Expectancy)', 'Freedom', 'Trust (Government Corruption)']].groupby('Region').median()\n",
    "dynamics_by_region"
   ]
  },
  {
   "cell_type": "code",
   "execution_count": 9,
   "id": "74d8d254",
   "metadata": {},
   "outputs": [
    {
     "data": {
      "text/plain": [
       "<Axes: title={'center': 'Топ 5 регионов по счастью населения'}, xlabel='Регион', ylabel='Оценка счастья'>"
      ]
     },
     "execution_count": 9,
     "metadata": {},
     "output_type": "execute_result"
    },
    {
     "data": {
      "image/png": "[encoded data removed]",
      "text/plain": [
       "<Figure size 640x480 with 1 Axes>"
      ]
     },
     "metadata": {},
     "output_type": "display_data"
    }
   ],
   "source": [
    "dynamics_by_region.loc[['Australia and New Zealand', 'Central and Eastern Europe', 'Eastern Asia', 'Latin America and Caribbean', 'Middle East and Northern Africa', 'North America', 'Southeastern Asia', 'Southern Asia', 'Sub-Saharan Africa', 'Sub-Saharan Africa', 'Western Europe']].sort_values(by='Region', ascending=False).plot(kind='bar',\n",
    "                                                                  title='Наглядное представление об уровне жизни',\n",
    "                                                                  xlabel='Регион',\n",
    "                                                                  ylabel='Оценка')"
   ]
  },
  {
   "cell_type": "code",
   "execution_count": 12,
   "id": "84cb374b",
   "metadata": {},
   "outputs": [
    {
     "data": {
      "text/plain": [
       "<Axes: xlabel='Region'>"
      ]
     },
     "execution_count": 12,
     "metadata": {},
     "output_type": "execute_result"
    },
    {
     "data": {
      "image/png": "[encoded data removed]",
      "text/plain": [
       "<Figure size 1200x400 with 1 Axes>"
      ]
     },
     "metadata": {},
     "output_type": "display_data"
    }
   ],
   "source": [
    "#По данной столбчатой накопительной диаграмме мы можем видеть общий уровень жизни в регионах. А также узнать где он больше и за счет чего.\n",
    "dynamics_by_region.drop('Happiness Score', axis=1).plot(kind='bar', stacked=True, figsize=(12, 4))"
   ]
  },
  {
   "cell_type": "code",
   "execution_count": 13,
   "id": "4a948bb8",
   "metadata": {},
   "outputs": [
    {
     "data": {
      "text/plain": [
       "<Axes: title={'center': 'Уровень счастья к экономической состовляющей'}, xlabel='Happiness Score', ylabel='Economy (GDP per Capita)'>"
      ]
     },
     "execution_count": 13,
     "metadata": {},
     "output_type": "execute_result"
    },
    {
     "data": {
      "image/png": "[encoded data removed]",
      "text/plain": [
       "<Figure size 640x480 with 1 Axes>"
      ]
     },
     "metadata": {},
     "output_type": "display_data"
    }
   ],
   "source": [
    "df15.plot(kind='scatter',\n",
    "        x='Happiness Score',\n",
    "        y='Economy (GDP per Capita)',\n",
    "        title='Уровень счастья к экономической составляющей') \n",
    "#На данном графике можно увидеть прямую зависимость экономической состовляющей к уровню счастью жизни. Чем она больше тем больше и счастье в среднем."
   ]
  },
  {
   "cell_type": "code",
   "execution_count": 15,
   "id": "ab96fac8",
   "metadata": {},
   "outputs": [
    {
     "data": {
      "text/html": [
       "<style type=\"text/css\">\n",
       "#T_1d091_row0_col0 {\n",
       "  width: 10em;\n",
       "  background: linear-gradient(90deg, green 100.0%, transparent 100.0%);\n",
       "}\n",
       "#T_1d091_row1_col0 {\n",
       "  width: 10em;\n",
       "  background: linear-gradient(90deg, green 99.8%, transparent 99.8%);\n",
       "}\n",
       "#T_1d091_row2_col0 {\n",
       "  width: 10em;\n",
       "  background: linear-gradient(90deg, green 95.2%, transparent 95.2%);\n",
       "}\n",
       "#T_1d091_row3_col0 {\n",
       "  width: 10em;\n",
       "  background: linear-gradient(90deg, green 84.4%, transparent 84.4%);\n",
       "}\n",
       "#T_1d091_row4_col0 {\n",
       "  width: 10em;\n",
       "  background: linear-gradient(90deg, green 78.6%, transparent 78.6%);\n",
       "}\n",
       "#T_1d091_row5_col0 {\n",
       "  width: 10em;\n",
       "  background: linear-gradient(90deg, green 73.6%, transparent 73.6%);\n",
       "}\n",
       "#T_1d091_row6_col0 {\n",
       "  width: 10em;\n",
       "  background: linear-gradient(90deg, green 72.6%, transparent 72.6%);\n",
       "}\n",
       "#T_1d091_row7_col0 {\n",
       "  width: 10em;\n",
       "  background: linear-gradient(90deg, green 72.2%, transparent 72.2%);\n",
       "}\n",
       "#T_1d091_row8_col0 {\n",
       "  width: 10em;\n",
       "  background: linear-gradient(90deg, green 62.7%, transparent 62.7%);\n",
       "}\n",
       "#T_1d091_row9_col0 {\n",
       "  width: 10em;\n",
       "  background: linear-gradient(90deg, green 58.6%, transparent 58.6%);\n",
       "}\n",
       "</style>\n",
       "<table id=\"T_1d091\">\n",
       "  <thead>\n",
       "    <tr>\n",
       "      <th class=\"blank level0\" >&nbsp;</th>\n",
       "      <th id=\"T_1d091_level0_col0\" class=\"col_heading level0 col0\" >Happiness Score</th>\n",
       "    </tr>\n",
       "    <tr>\n",
       "      <th class=\"index_name level0\" >Region</th>\n",
       "      <th class=\"blank col0\" >&nbsp;</th>\n",
       "    </tr>\n",
       "  </thead>\n",
       "  <tbody>\n",
       "    <tr>\n",
       "      <th id=\"T_1d091_level0_row0\" class=\"row_heading level0 row0\" >Australia and New Zealand</th>\n",
       "      <td id=\"T_1d091_row0_col0\" class=\"data row0 col0\" >7.285000</td>\n",
       "    </tr>\n",
       "    <tr>\n",
       "      <th id=\"T_1d091_level0_row1\" class=\"row_heading level0 row1\" >North America</th>\n",
       "      <td id=\"T_1d091_row1_col0\" class=\"data row1 col0\" >7.273000</td>\n",
       "    </tr>\n",
       "    <tr>\n",
       "      <th id=\"T_1d091_level0_row2\" class=\"row_heading level0 row2\" >Western Europe</th>\n",
       "      <td id=\"T_1d091_row2_col0\" class=\"data row2 col0\" >6.937000</td>\n",
       "    </tr>\n",
       "    <tr>\n",
       "      <th id=\"T_1d091_level0_row3\" class=\"row_heading level0 row3\" >Latin America and Caribbean</th>\n",
       "      <td id=\"T_1d091_row3_col0\" class=\"data row3 col0\" >6.149000</td>\n",
       "    </tr>\n",
       "    <tr>\n",
       "      <th id=\"T_1d091_level0_row4\" class=\"row_heading level0 row4\" >Eastern Asia</th>\n",
       "      <td id=\"T_1d091_row4_col0\" class=\"data row4 col0\" >5.729000</td>\n",
       "    </tr>\n",
       "    <tr>\n",
       "      <th id=\"T_1d091_level0_row5\" class=\"row_heading level0 row5\" >Southeastern Asia</th>\n",
       "      <td id=\"T_1d091_row5_col0\" class=\"data row5 col0\" >5.360000</td>\n",
       "    </tr>\n",
       "    <tr>\n",
       "      <th id=\"T_1d091_level0_row6\" class=\"row_heading level0 row6\" >Central and Eastern Europe</th>\n",
       "      <td id=\"T_1d091_row6_col0\" class=\"data row6 col0\" >5.286000</td>\n",
       "    </tr>\n",
       "    <tr>\n",
       "      <th id=\"T_1d091_level0_row7\" class=\"row_heading level0 row7\" >Middle East and Northern Africa</th>\n",
       "      <td id=\"T_1d091_row7_col0\" class=\"data row7 col0\" >5.262000</td>\n",
       "    </tr>\n",
       "    <tr>\n",
       "      <th id=\"T_1d091_level0_row8\" class=\"row_heading level0 row8\" >Southern Asia</th>\n",
       "      <td id=\"T_1d091_row8_col0\" class=\"data row8 col0\" >4.565000</td>\n",
       "    </tr>\n",
       "    <tr>\n",
       "      <th id=\"T_1d091_level0_row9\" class=\"row_heading level0 row9\" >Sub-Saharan Africa</th>\n",
       "      <td id=\"T_1d091_row9_col0\" class=\"data row9 col0\" >4.272000</td>\n",
       "    </tr>\n",
       "  </tbody>\n",
       "</table>\n"
      ],
      "text/plain": [
       "<pandas.io.formats.style.Styler at 0x28ae0933010>"
      ]
     },
     "execution_count": 15,
     "metadata": {},
     "output_type": "execute_result"
    }
   ],
   "source": [
    "top_region_hap = df15.groupby('Region')[['Happiness Score']].median()\\\n",
    "    .sort_values('Happiness Score', ascending=False)\n",
    "top_region_hap.style.bar(align='mid', color='green') #Тут можно увидеть различия регионов по уровню счастья"
   ]
  },
  {
   "cell_type": "code",
   "execution_count": 32,
   "id": "0ce565ef",
   "metadata": {},
   "outputs": [
    {
     "data": {
      "text/plain": [
       "Text(0.5, 1.0, 'Сравнение показателей свобод за 2015 и 2019')"
      ]
     },
     "execution_count": 32,
     "metadata": {},
     "output_type": "execute_result"
    },
    {
     "data": {
      "image/png": "[encoded data removed]",
      "text/plain": [
       "<Figure size 640x480 with 1 Axes>"
      ]
     },
     "metadata": {},
     "output_type": "display_data"
    }
   ],
   "source": [
    "# сравнение 2 гистограм по показателям свобод за 2015 и 2019 год\n",
    "df15['Freedom'].plot(kind='hist',\n",
    "                     alpha = 0.5,\n",
    "                     bins=20,\n",
    "                     density = True,\n",
    "                     label='2015')\n",
    "\n",
    "df19['Freedom to make life choices'].plot(kind='hist',\n",
    "                     alpha = 0.5,\n",
    "                     bins=20,\n",
    "                     density = True,\n",
    "                     label='2019)\n",
    "plt.legend(loc='upper left')\n",
    "plt.title('Сравнение показателей свобод за 2015 и 2019')\n",
    "#Тут можно увидеть что в среднем по странам покатели свобод увеличились,однако максимальные значения свобод стали гораздо меньше встречатся в данных."
   ]
  },
  {
   "cell_type": "code",
   "execution_count": 39,
   "id": "8d0bf909",
   "metadata": {},
   "outputs": [
    {
     "data": {
      "text/plain": [
       "<Axes: >"
      ]
     },
     "execution_count": 39,
     "metadata": {},
     "output_type": "execute_result"
    },
    {
     "data": {
      "image/png": "[encoded data removed]",
      "text/plain": [
       "<Figure size 640x480 with 2 Axes>"
      ]
     },
     "metadata": {},
     "output_type": "display_data"
    }
   ],
   "source": [
    "df15_corel = df15.drop(['Country','Region'], axis=1)    #Убрал данные значения так как они мешают в отображении корреляции\n",
    "sns.heatmap(df15_corel.corr(), annot=True, linewidths=1, cmap=\"ocean_r\", fmt=\".2f\")\n",
    "#На данной схеме можем увидеть корреляцию значений в базе данных(Белые и Зеленые наиболее коррелирующие значения)"
   ]
  },
  {
   "cell_type": "code",
   "execution_count": 42,
   "id": "15dd1b7f",
   "metadata": {},
   "outputs": [
    {
     "data": {
      "text/plain": [
       "<seaborn.axisgrid.PairGrid at 0x28af2784cd0>"
      ]
     },
     "execution_count": 42,
     "metadata": {},
     "output_type": "execute_result"
    },
    {
     "data": {
      "image/png": "[encoded data removed]",
      "text/plain": [
       "<Figure size 750x750 with 12 Axes>"
      ]
     },
     "metadata": {},
     "output_type": "display_data"
    }
   ],
   "source": [
    "# sns.pairplot(df15) #Посмотрим как связаны друг с другом данные \n",
    "sns.pairplot(df15[['Happiness Score', 'Family', 'Health (Life Expectancy)']])# посмотрим как связаны наиболее коррелирующие данные. Экономику брать не стал так как показал зависимость ранее."
   ]
  },
  {
   "cell_type": "code",
   "execution_count": 54,
   "id": "192c7082",
   "metadata": {},
   "outputs": [
    {
     "data": {
      "text/plain": [
       "<Axes: >"
      ]
     },
     "execution_count": 54,
     "metadata": {},
     "output_type": "execute_result"
    },
    {
     "data": {
      "image/png": "[encoded data removed]",
      "text/plain": [
       "<Figure size 1500x700 with 1 Axes>"
      ]
     },
     "metadata": {},
     "output_type": "display_data"
    }
   ],
   "source": [
    "fig, ax = plt.subplots(1, 1, figsize=(15, 7)) #Данная строка позволяет исправить наплыв букв друг на друга в графике\n",
    "sns.boxplot(df15[['Freedom', 'Family', 'Health (Life Expectancy)', 'Trust (Government Corruption)', 'Generosity']], ax=ax)\n",
    "#Данная схем с boxplot позволяет увидеть выбросы а также распределение значений в выборке 15 года"
   ]
  },
  {
   "cell_type": "code",
   "execution_count": 65,
   "id": "5702b54b",
   "metadata": {},
   "outputs": [
    {
     "data": {
      "application/vnd.plotly.v1+json": {
       "config": {
        "plotlyServerURL": "https://plot.ly"
       },
       "data": [
        {
         "hovertemplate": "<b>%{hovertext}</b><br><br>Country=Switzerland<br>Region=Western Europe<br>Economy (GDP per Capita)=%{x}<br>Happiness Score=%{marker.size}<extra></extra>",
         "hovertext": [
          1
         ],
         "ids": [
          "Switzerland"
         ],
         "legendgroup": "Switzerland",
         "marker": {
          "color": "#636efa",
          "size": [
           7.587
          ],
          "sizemode": "area",
          "sizeref": 0.018967499999999998,
          "symbol": "circle"
         },
         "mode": "markers",
         "name": "Switzerland",
         "orientation": "v",
         "showlegend": true,
         "type": "scatter",
         "x": [
          1.39651
         ],
         "xaxis": "x",
         "y": [
          7.587
         ],
         "yaxis": "y"
        },
        {
         "hovertemplate": "<b>%{hovertext}</b><br><br>Country=Iceland<br>Region=Western Europe<br>Economy (GDP per Capita)=%{x}<br>Happiness Score=%{marker.size}<extra></extra>",
         "hovertext": [
          2
         ],
         "ids": [
          "Iceland"
         ],
         "legendgroup": "Iceland",
         "marker": {
          "color": "#EF553B",
          "size": [
           7.561
          ],
          "sizemode": "area",
          "sizeref": 0.018967499999999998,
          "symbol": "circle"
         },
         "mode": "markers",
         "name": "Iceland",
         "orientation": "v",
         "showlegend": true,
         "type": "scatter",
         "x": [
          1.30232
         ],
         "xaxis": "x",
         "y": [
          7.561
         ],
         "yaxis": "y"
        },
        {
         "hovertemplate": "<b>%{hovertext}</b><br><br>Country=Denmark<br>Region=Western Europe<br>Economy (GDP per Capita)=%{x}<br>Happiness Score=%{marker.size}<extra></extra>",
         "hovertext": [
          3
         ],
         "ids": [
          "Denmark"
         ],
         "legendgroup": "Denmark",
         "marker": {
          "color": "#00cc96",
          "size": [
           7.527
          ],
          "sizemode": "area",
          "sizeref": 0.018967499999999998,
          "symbol": "circle"
         },
         "mode": "markers",
         "name": "Denmark",
         "orientation": "v",
         "showlegend": true,
         "type": "scatter",
         "x": [
          1.32548
         ],
         "xaxis": "x",
         "y": [
          7.527
         ],
         "yaxis": "y"
        },
        {
         "hovertemplate": "<b>%{hovertext}</b><br><br>Country=Norway<br>Region=Western Europe<br>Economy (GDP per Capita)=%{x}<br>Happiness Score=%{marker.size}<extra></extra>",
         "hovertext": [
          4
         ],
         "ids": [
          "Norway"
         ],
         "legendgroup": "Norway",
         "marker": {
          "color": "#ab63fa",
          "size": [
           7.522
          ],
          "sizemode": "area",
          "sizeref": 0.018967499999999998,
          "symbol": "circle"
         },
         "mode": "markers",
         "name": "Norway",
         "orientation": "v",
         "showlegend": true,
         "type": "scatter",
         "x": [
          1.459
         ],
         "xaxis": "x",
         "y": [
          7.522
         ],
         "yaxis": "y"
        },
        {
         "hovertemplate": "<b>%{hovertext}</b><br><br>Country=Finland<br>Region=Western Europe<br>Economy (GDP per Capita)=%{x}<br>Happiness Score=%{marker.size}<extra></extra>",
         "hovertext": [
          6
         ],
         "ids": [
          "Finland"
         ],
         "legendgroup": "Finland",
         "marker": {
          "color": "#19d3f3",
          "size": [
           7.406
          ],
          "sizemode": "area",
          "sizeref": 0.018967499999999998,
          "symbol": "circle"
         },
         "mode": "markers",
         "name": "Finland",
         "orientation": "v",
         "showlegend": true,
         "type": "scatter",
         "x": [
          1.29025
         ],
         "xaxis": "x",
         "y": [
          7.406
         ],
         "yaxis": "y"
        },
        {
         "hovertemplate": "<b>%{hovertext}</b><br><br>Country=Netherlands<br>Region=Western Europe<br>Economy (GDP per Capita)=%{x}<br>Happiness Score=%{marker.size}<extra></extra>",
         "hovertext": [
          7
         ],
         "ids": [
          "Netherlands"
         ],
         "legendgroup": "Netherlands",
         "marker": {
          "color": "#FF6692",
          "size": [
           7.378
          ],
          "sizemode": "area",
          "sizeref": 0.018967499999999998,
          "symbol": "circle"
         },
         "mode": "markers",
         "name": "Netherlands",
         "orientation": "v",
         "showlegend": true,
         "type": "scatter",
         "x": [
          1.32944
         ],
         "xaxis": "x",
         "y": [
          7.378
         ],
         "yaxis": "y"
        },
        {
         "hovertemplate": "<b>%{hovertext}</b><br><br>Country=Sweden<br>Region=Western Europe<br>Economy (GDP per Capita)=%{x}<br>Happiness Score=%{marker.size}<extra></extra>",
         "hovertext": [
          8
         ],
         "ids": [
          "Sweden"
         ],
         "legendgroup": "Sweden",
         "marker": {
          "color": "#B6E880",
          "size": [
           7.364
          ],
          "sizemode": "area",
          "sizeref": 0.018967499999999998,
          "symbol": "circle"
         },
         "mode": "markers",
         "name": "Sweden",
         "orientation": "v",
         "showlegend": true,
         "type": "scatter",
         "x": [
          1.33171
         ],
         "xaxis": "x",
         "y": [
          7.364
         ],
         "yaxis": "y"
        },
        {
         "hovertemplate": "<b>%{hovertext}</b><br><br>Country=Austria<br>Region=Western Europe<br>Economy (GDP per Capita)=%{x}<br>Happiness Score=%{marker.size}<extra></extra>",
         "hovertext": [
          13
         ],
         "ids": [
          "Austria"
         ],
         "legendgroup": "Austria",
         "marker": {
          "color": "#00cc96",
          "size": [
           7.2
          ],
          "sizemode": "area",
          "sizeref": 0.018967499999999998,
          "symbol": "circle"
         },
         "mode": "markers",
         "name": "Austria",
         "orientation": "v",
         "showlegend": true,
         "type": "scatter",
         "x": [
          1.33723
         ],
         "xaxis": "x",
         "y": [
          7.2
         ],
         "yaxis": "y"
        },
        {
         "hovertemplate": "<b>%{hovertext}</b><br><br>Country=Luxembourg<br>Region=Western Europe<br>Economy (GDP per Capita)=%{x}<br>Happiness Score=%{marker.size}<extra></extra>",
         "hovertext": [
          17
         ],
         "ids": [
          "Luxembourg"
         ],
         "legendgroup": "Luxembourg",
         "marker": {
          "color": "#FF6692",
          "size": [
           6.946
          ],
          "sizemode": "area",
          "sizeref": 0.018967499999999998,
          "symbol": "circle"
         },
         "mode": "markers",
         "name": "Luxembourg",
         "orientation": "v",
         "showlegend": true,
         "type": "scatter",
         "x": [
          1.56391
         ],
         "xaxis": "x",
         "y": [
          6.946
         ],
         "yaxis": "y"
        },
        {
         "hovertemplate": "<b>%{hovertext}</b><br><br>Country=Ireland<br>Region=Western Europe<br>Economy (GDP per Capita)=%{x}<br>Happiness Score=%{marker.size}<extra></extra>",
         "hovertext": [
          18
         ],
         "ids": [
          "Ireland"
         ],
         "legendgroup": "Ireland",
         "marker": {
          "color": "#B6E880",
          "size": [
           6.94
          ],
          "sizemode": "area",
          "sizeref": 0.018967499999999998,
          "symbol": "circle"
         },
         "mode": "markers",
         "name": "Ireland",
         "orientation": "v",
         "showlegend": true,
         "type": "scatter",
         "x": [
          1.33596
         ],
         "xaxis": "x",
         "y": [
          6.94
         ],
         "yaxis": "y"
        },
        {
         "hovertemplate": "<b>%{hovertext}</b><br><br>Country=Belgium<br>Region=Western Europe<br>Economy (GDP per Capita)=%{x}<br>Happiness Score=%{marker.size}<extra></extra>",
         "hovertext": [
          19
         ],
         "ids": [
          "Belgium"
         ],
         "legendgroup": "Belgium",
         "marker": {
          "color": "#FF97FF",
          "size": [
           6.937
          ],
          "sizemode": "area",
          "sizeref": 0.018967499999999998,
          "symbol": "circle"
         },
         "mode": "markers",
         "name": "Belgium",
         "orientation": "v",
         "showlegend": true,
         "type": "scatter",
         "x": [
          1.30782
         ],
         "xaxis": "x",
         "y": [
          6.937
         ],
         "yaxis": "y"
        },
        {
         "hovertemplate": "<b>%{hovertext}</b><br><br>Country=United Kingdom<br>Region=Western Europe<br>Economy (GDP per Capita)=%{x}<br>Happiness Score=%{marker.size}<extra></extra>",
         "hovertext": [
          21
         ],
         "ids": [
          "United Kingdom"
         ],
         "legendgroup": "United Kingdom",
         "marker": {
          "color": "#636efa",
          "size": [
           6.867
          ],
          "sizemode": "area",
          "sizeref": 0.018967499999999998,
          "symbol": "circle"
         },
         "mode": "markers",
         "name": "United Kingdom",
         "orientation": "v",
         "showlegend": true,
         "type": "scatter",
         "x": [
          1.26637
         ],
         "xaxis": "x",
         "y": [
          6.867
         ],
         "yaxis": "y"
        },
        {
         "hovertemplate": "<b>%{hovertext}</b><br><br>Country=Germany<br>Region=Western Europe<br>Economy (GDP per Capita)=%{x}<br>Happiness Score=%{marker.size}<extra></extra>",
         "hovertext": [
          26
         ],
         "ids": [
          "Germany"
         ],
         "legendgroup": "Germany",
         "marker": {
          "color": "#19d3f3",
          "size": [
           6.75
          ],
          "sizemode": "area",
          "sizeref": 0.018967499999999998,
          "symbol": "circle"
         },
         "mode": "markers",
         "name": "Germany",
         "orientation": "v",
         "showlegend": true,
         "type": "scatter",
         "x": [
          1.32792
         ],
         "xaxis": "x",
         "y": [
          6.75
         ],
         "yaxis": "y"
        },
        {
         "hovertemplate": "<b>%{hovertext}</b><br><br>Country=France<br>Region=Western Europe<br>Economy (GDP per Capita)=%{x}<br>Happiness Score=%{marker.size}<extra></extra>",
         "hovertext": [
          29
         ],
         "ids": [
          "France"
         ],
         "legendgroup": "France",
         "marker": {
          "color": "#FF97FF",
          "size": [
           6.575
          ],
          "sizemode": "area",
          "sizeref": 0.018967499999999998,
          "symbol": "circle"
         },
         "mode": "markers",
         "name": "France",
         "orientation": "v",
         "showlegend": true,
         "type": "scatter",
         "x": [
          1.27778
         ],
         "xaxis": "x",
         "y": [
          6.575
         ],
         "yaxis": "y"
        },
        {
         "hovertemplate": "<b>%{hovertext}</b><br><br>Country=Spain<br>Region=Western Europe<br>Economy (GDP per Capita)=%{x}<br>Happiness Score=%{marker.size}<extra></extra>",
         "hovertext": [
          36
         ],
         "ids": [
          "Spain"
         ],
         "legendgroup": "Spain",
         "marker": {
          "color": "#19d3f3",
          "size": [
           6.329
          ],
          "sizemode": "area",
          "sizeref": 0.018967499999999998,
          "symbol": "circle"
         },
         "mode": "markers",
         "name": "Spain",
         "orientation": "v",
         "showlegend": true,
         "type": "scatter",
         "x": [
          1.23011
         ],
         "xaxis": "x",
         "y": [
          6.329
         ],
         "yaxis": "y"
        },
        {
         "hovertemplate": "<b>%{hovertext}</b><br><br>Country=Malta<br>Region=Western Europe<br>Economy (GDP per Capita)=%{x}<br>Happiness Score=%{marker.size}<extra></extra>",
         "hovertext": [
          37
         ],
         "ids": [
          "Malta"
         ],
         "legendgroup": "Malta",
         "marker": {
          "color": "#FF6692",
          "size": [
           6.302
          ],
          "sizemode": "area",
          "sizeref": 0.018967499999999998,
          "symbol": "circle"
         },
         "mode": "markers",
         "name": "Malta",
         "orientation": "v",
         "showlegend": true,
         "type": "scatter",
         "x": [
          1.2074
         ],
         "xaxis": "x",
         "y": [
          6.302
         ],
         "yaxis": "y"
        },
        {
         "hovertemplate": "<b>%{hovertext}</b><br><br>Country=Italy<br>Region=Western Europe<br>Economy (GDP per Capita)=%{x}<br>Happiness Score=%{marker.size}<extra></extra>",
         "hovertext": [
          50
         ],
         "ids": [
          "Italy"
         ],
         "legendgroup": "Italy",
         "marker": {
          "color": "#FECB52",
          "size": [
           5.948
          ],
          "sizemode": "area",
          "sizeref": 0.018967499999999998,
          "symbol": "circle"
         },
         "mode": "markers",
         "name": "Italy",
         "orientation": "v",
         "showlegend": true,
         "type": "scatter",
         "x": [
          1.25114
         ],
         "xaxis": "x",
         "y": [
          5.948
         ],
         "yaxis": "y"
        },
        {
         "hovertemplate": "<b>%{hovertext}</b><br><br>Country=North Cyprus<br>Region=Western Europe<br>Economy (GDP per Capita)=%{x}<br>Happiness Score=%{marker.size}<extra></extra>",
         "hovertext": [
          66
         ],
         "ids": [
          "North Cyprus"
         ],
         "legendgroup": "North Cyprus",
         "marker": {
          "color": "#19d3f3",
          "size": [
           5.695
          ],
          "sizemode": "area",
          "sizeref": 0.018967499999999998,
          "symbol": "circle"
         },
         "mode": "markers",
         "name": "North Cyprus",
         "orientation": "v",
         "showlegend": true,
         "type": "scatter",
         "x": [
          1.20806
         ],
         "xaxis": "x",
         "y": [
          5.695
         ],
         "yaxis": "y"
        },
        {
         "hovertemplate": "<b>%{hovertext}</b><br><br>Country=Cyprus<br>Region=Western Europe<br>Economy (GDP per Capita)=%{x}<br>Happiness Score=%{marker.size}<extra></extra>",
         "hovertext": [
          67
         ],
         "ids": [
          "Cyprus"
         ],
         "legendgroup": "Cyprus",
         "marker": {
          "color": "#FF6692",
          "size": [
           5.689
          ],
          "sizemode": "area",
          "sizeref": 0.018967499999999998,
          "symbol": "circle"
         },
         "mode": "markers",
         "name": "Cyprus",
         "orientation": "v",
         "showlegend": true,
         "type": "scatter",
         "x": [
          1.20813
         ],
         "xaxis": "x",
         "y": [
          5.689
         ],
         "yaxis": "y"
        },
        {
         "hovertemplate": "<b>%{hovertext}</b><br><br>Country=Portugal<br>Region=Western Europe<br>Economy (GDP per Capita)=%{x}<br>Happiness Score=%{marker.size}<extra></extra>",
         "hovertext": [
          88
         ],
         "ids": [
          "Portugal"
         ],
         "legendgroup": "Portugal",
         "marker": {
          "color": "#B6E880",
          "size": [
           5.102
          ],
          "sizemode": "area",
          "sizeref": 0.018967499999999998,
          "symbol": "circle"
         },
         "mode": "markers",
         "name": "Portugal",
         "orientation": "v",
         "showlegend": true,
         "type": "scatter",
         "x": [
          1.15991
         ],
         "xaxis": "x",
         "y": [
          5.102
         ],
         "yaxis": "y"
        },
        {
         "hovertemplate": "<b>%{hovertext}</b><br><br>Country=Greece<br>Region=Western Europe<br>Economy (GDP per Capita)=%{x}<br>Happiness Score=%{marker.size}<extra></extra>",
         "hovertext": [
          102
         ],
         "ids": [
          "Greece"
         ],
         "legendgroup": "Greece",
         "marker": {
          "color": "#EF553B",
          "size": [
           4.857
          ],
          "sizemode": "area",
          "sizeref": 0.018967499999999998,
          "symbol": "circle"
         },
         "mode": "markers",
         "name": "Greece",
         "orientation": "v",
         "showlegend": true,
         "type": "scatter",
         "x": [
          1.15406
         ],
         "xaxis": "x",
         "y": [
          4.857
         ],
         "yaxis": "y"
        }
       ],
       "frames": [
        {
         "data": [
          {
           "hovertemplate": "<b>%{hovertext}</b><br><br>Country=Switzerland<br>Region=Western Europe<br>Economy (GDP per Capita)=%{x}<br>Happiness Score=%{marker.size}<extra></extra>",
           "hovertext": [
            1
           ],
           "ids": [
            "Switzerland"
           ],
           "legendgroup": "Switzerland",
           "marker": {
            "color": "#636efa",
            "size": [
             7.587
            ],
            "sizemode": "area",
            "sizeref": 0.018967499999999998,
            "symbol": "circle"
           },
           "mode": "markers",
           "name": "Switzerland",
           "orientation": "v",
           "showlegend": true,
           "type": "scatter",
           "x": [
            1.39651
           ],
           "xaxis": "x",
           "y": [
            7.587
           ],
           "yaxis": "y"
          },
          {
           "hovertemplate": "<b>%{hovertext}</b><br><br>Country=Iceland<br>Region=Western Europe<br>Economy (GDP per Capita)=%{x}<br>Happiness Score=%{marker.size}<extra></extra>",
           "hovertext": [
            2
           ],
           "ids": [
            "Iceland"
           ],
           "legendgroup": "Iceland",
           "marker": {
            "color": "#EF553B",
            "size": [
             7.561
            ],
            "sizemode": "area",
            "sizeref": 0.018967499999999998,
            "symbol": "circle"
           },
           "mode": "markers",
           "name": "Iceland",
           "orientation": "v",
           "showlegend": true,
           "type": "scatter",
           "x": [
            1.30232
           ],
           "xaxis": "x",
           "y": [
            7.561
           ],
           "yaxis": "y"
          },
          {
           "hovertemplate": "<b>%{hovertext}</b><br><br>Country=Denmark<br>Region=Western Europe<br>Economy (GDP per Capita)=%{x}<br>Happiness Score=%{marker.size}<extra></extra>",
           "hovertext": [
            3
           ],
           "ids": [
            "Denmark"
           ],
           "legendgroup": "Denmark",
           "marker": {
            "color": "#00cc96",
            "size": [
             7.527
            ],
            "sizemode": "area",
            "sizeref": 0.018967499999999998,
            "symbol": "circle"
           },
           "mode": "markers",
           "name": "Denmark",
           "orientation": "v",
           "showlegend": true,
           "type": "scatter",
           "x": [
            1.32548
           ],
           "xaxis": "x",
           "y": [
            7.527
           ],
           "yaxis": "y"
          },
          {
           "hovertemplate": "<b>%{hovertext}</b><br><br>Country=Norway<br>Region=Western Europe<br>Economy (GDP per Capita)=%{x}<br>Happiness Score=%{marker.size}<extra></extra>",
           "hovertext": [
            4
           ],
           "ids": [
            "Norway"
           ],
           "legendgroup": "Norway",
           "marker": {
            "color": "#ab63fa",
            "size": [
             7.522
            ],
            "sizemode": "area",
            "sizeref": 0.018967499999999998,
            "symbol": "circle"
           },
           "mode": "markers",
           "name": "Norway",
           "orientation": "v",
           "showlegend": true,
           "type": "scatter",
           "x": [
            1.459
           ],
           "xaxis": "x",
           "y": [
            7.522
           ],
           "yaxis": "y"
          },
          {
           "hovertemplate": "<b>%{hovertext}</b><br><br>Country=Finland<br>Region=Western Europe<br>Economy (GDP per Capita)=%{x}<br>Happiness Score=%{marker.size}<extra></extra>",
           "hovertext": [
            6
           ],
           "ids": [
            "Finland"
           ],
           "legendgroup": "Finland",
           "marker": {
            "color": "#19d3f3",
            "size": [
             7.406
            ],
            "sizemode": "area",
            "sizeref": 0.018967499999999998,
            "symbol": "circle"
           },
           "mode": "markers",
           "name": "Finland",
           "orientation": "v",
           "showlegend": true,
           "type": "scatter",
           "x": [
            1.29025
           ],
           "xaxis": "x",
           "y": [
            7.406
           ],
           "yaxis": "y"
          },
          {
           "hovertemplate": "<b>%{hovertext}</b><br><br>Country=Netherlands<br>Region=Western Europe<br>Economy (GDP per Capita)=%{x}<br>Happiness Score=%{marker.size}<extra></extra>",
           "hovertext": [
            7
           ],
           "ids": [
            "Netherlands"
           ],
           "legendgroup": "Netherlands",
           "marker": {
            "color": "#FF6692",
            "size": [
             7.378
            ],
            "sizemode": "area",
            "sizeref": 0.018967499999999998,
            "symbol": "circle"
           },
           "mode": "markers",
           "name": "Netherlands",
           "orientation": "v",
           "showlegend": true,
           "type": "scatter",
           "x": [
            1.32944
           ],
           "xaxis": "x",
           "y": [
            7.378
           ],
           "yaxis": "y"
          },
          {
           "hovertemplate": "<b>%{hovertext}</b><br><br>Country=Sweden<br>Region=Western Europe<br>Economy (GDP per Capita)=%{x}<br>Happiness Score=%{marker.size}<extra></extra>",
           "hovertext": [
            8
           ],
           "ids": [
            "Sweden"
           ],
           "legendgroup": "Sweden",
           "marker": {
            "color": "#B6E880",
            "size": [
             7.364
            ],
            "sizemode": "area",
            "sizeref": 0.018967499999999998,
            "symbol": "circle"
           },
           "mode": "markers",
           "name": "Sweden",
           "orientation": "v",
           "showlegend": true,
           "type": "scatter",
           "x": [
            1.33171
           ],
           "xaxis": "x",
           "y": [
            7.364
           ],
           "yaxis": "y"
          },
          {
           "hovertemplate": "<b>%{hovertext}</b><br><br>Country=Austria<br>Region=Western Europe<br>Economy (GDP per Capita)=%{x}<br>Happiness Score=%{marker.size}<extra></extra>",
           "hovertext": [
            13
           ],
           "ids": [
            "Austria"
           ],
           "legendgroup": "Austria",
           "marker": {
            "color": "#00cc96",
            "size": [
             7.2
            ],
            "sizemode": "area",
            "sizeref": 0.018967499999999998,
            "symbol": "circle"
           },
           "mode": "markers",
           "name": "Austria",
           "orientation": "v",
           "showlegend": true,
           "type": "scatter",
           "x": [
            1.33723
           ],
           "xaxis": "x",
           "y": [
            7.2
           ],
           "yaxis": "y"
          },
          {
           "hovertemplate": "<b>%{hovertext}</b><br><br>Country=Luxembourg<br>Region=Western Europe<br>Economy (GDP per Capita)=%{x}<br>Happiness Score=%{marker.size}<extra></extra>",
           "hovertext": [
            17
           ],
           "ids": [
            "Luxembourg"
           ],
           "legendgroup": "Luxembourg",
           "marker": {
            "color": "#FF6692",
            "size": [
             6.946
            ],
            "sizemode": "area",
            "sizeref": 0.018967499999999998,
            "symbol": "circle"
           },
           "mode": "markers",
           "name": "Luxembourg",
           "orientation": "v",
           "showlegend": true,
           "type": "scatter",
           "x": [
            1.56391
           ],
           "xaxis": "x",
           "y": [
            6.946
           ],
           "yaxis": "y"
          },
          {
           "hovertemplate": "<b>%{hovertext}</b><br><br>Country=Ireland<br>Region=Western Europe<br>Economy (GDP per Capita)=%{x}<br>Happiness Score=%{marker.size}<extra></extra>",
           "hovertext": [
            18
           ],
           "ids": [
            "Ireland"
           ],
           "legendgroup": "Ireland",
           "marker": {
            "color": "#B6E880",
            "size": [
             6.94
            ],
            "sizemode": "area",
            "sizeref": 0.018967499999999998,
            "symbol": "circle"
           },
           "mode": "markers",
           "name": "Ireland",
           "orientation": "v",
           "showlegend": true,
           "type": "scatter",
           "x": [
            1.33596
           ],
           "xaxis": "x",
           "y": [
            6.94
           ],
           "yaxis": "y"
          },
          {
           "hovertemplate": "<b>%{hovertext}</b><br><br>Country=Belgium<br>Region=Western Europe<br>Economy (GDP per Capita)=%{x}<br>Happiness Score=%{marker.size}<extra></extra>",
           "hovertext": [
            19
           ],
           "ids": [
            "Belgium"
           ],
           "legendgroup": "Belgium",
           "marker": {
            "color": "#FF97FF",
            "size": [
             6.937
            ],
            "sizemode": "area",
            "sizeref": 0.018967499999999998,
            "symbol": "circle"
           },
           "mode": "markers",
           "name": "Belgium",
           "orientation": "v",
           "showlegend": true,
           "type": "scatter",
           "x": [
            1.30782
           ],
           "xaxis": "x",
           "y": [
            6.937
           ],
           "yaxis": "y"
          },
          {
           "hovertemplate": "<b>%{hovertext}</b><br><br>Country=United Kingdom<br>Region=Western Europe<br>Economy (GDP per Capita)=%{x}<br>Happiness Score=%{marker.size}<extra></extra>",
           "hovertext": [
            21
           ],
           "ids": [
            "United Kingdom"
           ],
           "legendgroup": "United Kingdom",
           "marker": {
            "color": "#636efa",
            "size": [
             6.867
            ],
            "sizemode": "area",
            "sizeref": 0.018967499999999998,
            "symbol": "circle"
           },
           "mode": "markers",
           "name": "United Kingdom",
           "orientation": "v",
           "showlegend": true,
           "type": "scatter",
           "x": [
            1.26637
           ],
           "xaxis": "x",
           "y": [
            6.867
           ],
           "yaxis": "y"
          },
          {
           "hovertemplate": "<b>%{hovertext}</b><br><br>Country=Germany<br>Region=Western Europe<br>Economy (GDP per Capita)=%{x}<br>Happiness Score=%{marker.size}<extra></extra>",
           "hovertext": [
            26
           ],
           "ids": [
            "Germany"
           ],
           "legendgroup": "Germany",
           "marker": {
            "color": "#19d3f3",
            "size": [
             6.75
            ],
            "sizemode": "area",
            "sizeref": 0.018967499999999998,
            "symbol": "circle"
           },
           "mode": "markers",
           "name": "Germany",
           "orientation": "v",
           "showlegend": true,
           "type": "scatter",
           "x": [
            1.32792
           ],
           "xaxis": "x",
           "y": [
            6.75
           ],
           "yaxis": "y"
          },
          {
           "hovertemplate": "<b>%{hovertext}</b><br><br>Country=France<br>Region=Western Europe<br>Economy (GDP per Capita)=%{x}<br>Happiness Score=%{marker.size}<extra></extra>",
           "hovertext": [
            29
           ],
           "ids": [
            "France"
           ],
           "legendgroup": "France",
           "marker": {
            "color": "#FF97FF",
            "size": [
             6.575
            ],
            "sizemode": "area",
            "sizeref": 0.018967499999999998,
            "symbol": "circle"
           },
           "mode": "markers",
           "name": "France",
           "orientation": "v",
           "showlegend": true,
           "type": "scatter",
           "x": [
            1.27778
           ],
           "xaxis": "x",
           "y": [
            6.575
           ],
           "yaxis": "y"
          },
          {
           "hovertemplate": "<b>%{hovertext}</b><br><br>Country=Spain<br>Region=Western Europe<br>Economy (GDP per Capita)=%{x}<br>Happiness Score=%{marker.size}<extra></extra>",
           "hovertext": [
            36
           ],
           "ids": [
            "Spain"
           ],
           "legendgroup": "Spain",
           "marker": {
            "color": "#19d3f3",
            "size": [
             6.329
            ],
            "sizemode": "area",
            "sizeref": 0.018967499999999998,
            "symbol": "circle"
           },
           "mode": "markers",
           "name": "Spain",
           "orientation": "v",
           "showlegend": true,
           "type": "scatter",
           "x": [
            1.23011
           ],
           "xaxis": "x",
           "y": [
            6.329
           ],
           "yaxis": "y"
          },
          {
           "hovertemplate": "<b>%{hovertext}</b><br><br>Country=Malta<br>Region=Western Europe<br>Economy (GDP per Capita)=%{x}<br>Happiness Score=%{marker.size}<extra></extra>",
           "hovertext": [
            37
           ],
           "ids": [
            "Malta"
           ],
           "legendgroup": "Malta",
           "marker": {
            "color": "#FF6692",
            "size": [
             6.302
            ],
            "sizemode": "area",
            "sizeref": 0.018967499999999998,
            "symbol": "circle"
           },
           "mode": "markers",
           "name": "Malta",
           "orientation": "v",
           "showlegend": true,
           "type": "scatter",
           "x": [
            1.2074
           ],
           "xaxis": "x",
           "y": [
            6.302
           ],
           "yaxis": "y"
          },
          {
           "hovertemplate": "<b>%{hovertext}</b><br><br>Country=Italy<br>Region=Western Europe<br>Economy (GDP per Capita)=%{x}<br>Happiness Score=%{marker.size}<extra></extra>",
           "hovertext": [
            50
           ],
           "ids": [
            "Italy"
           ],
           "legendgroup": "Italy",
           "marker": {
            "color": "#FECB52",
            "size": [
             5.948
            ],
            "sizemode": "area",
            "sizeref": 0.018967499999999998,
            "symbol": "circle"
           },
           "mode": "markers",
           "name": "Italy",
           "orientation": "v",
           "showlegend": true,
           "type": "scatter",
           "x": [
            1.25114
           ],
           "xaxis": "x",
           "y": [
            5.948
           ],
           "yaxis": "y"
          },
          {
           "hovertemplate": "<b>%{hovertext}</b><br><br>Country=North Cyprus<br>Region=Western Europe<br>Economy (GDP per Capita)=%{x}<br>Happiness Score=%{marker.size}<extra></extra>",
           "hovertext": [
            66
           ],
           "ids": [
            "North Cyprus"
           ],
           "legendgroup": "North Cyprus",
           "marker": {
            "color": "#19d3f3",
            "size": [
             5.695
            ],
            "sizemode": "area",
            "sizeref": 0.018967499999999998,
            "symbol": "circle"
           },
           "mode": "markers",
           "name": "North Cyprus",
           "orientation": "v",
           "showlegend": true,
           "type": "scatter",
           "x": [
            1.20806
           ],
           "xaxis": "x",
           "y": [
            5.695
           ],
           "yaxis": "y"
          },
          {
           "hovertemplate": "<b>%{hovertext}</b><br><br>Country=Cyprus<br>Region=Western Europe<br>Economy (GDP per Capita)=%{x}<br>Happiness Score=%{marker.size}<extra></extra>",
           "hovertext": [
            67
           ],
           "ids": [
            "Cyprus"
           ],
           "legendgroup": "Cyprus",
           "marker": {
            "color": "#FF6692",
            "size": [
             5.689
            ],
            "sizemode": "area",
            "sizeref": 0.018967499999999998,
            "symbol": "circle"
           },
           "mode": "markers",
           "name": "Cyprus",
           "orientation": "v",
           "showlegend": true,
           "type": "scatter",
           "x": [
            1.20813
           ],
           "xaxis": "x",
           "y": [
            5.689
           ],
           "yaxis": "y"
          },
          {
           "hovertemplate": "<b>%{hovertext}</b><br><br>Country=Portugal<br>Region=Western Europe<br>Economy (GDP per Capita)=%{x}<br>Happiness Score=%{marker.size}<extra></extra>",
           "hovertext": [
            88
           ],
           "ids": [
            "Portugal"
           ],
           "legendgroup": "Portugal",
           "marker": {
            "color": "#B6E880",
            "size": [
             5.102
            ],
            "sizemode": "area",
            "sizeref": 0.018967499999999998,
            "symbol": "circle"
           },
           "mode": "markers",
           "name": "Portugal",
           "orientation": "v",
           "showlegend": true,
           "type": "scatter",
           "x": [
            1.15991
           ],
           "xaxis": "x",
           "y": [
            5.102
           ],
           "yaxis": "y"
          },
          {
           "hovertemplate": "<b>%{hovertext}</b><br><br>Country=Greece<br>Region=Western Europe<br>Economy (GDP per Capita)=%{x}<br>Happiness Score=%{marker.size}<extra></extra>",
           "hovertext": [
            102
           ],
           "ids": [
            "Greece"
           ],
           "legendgroup": "Greece",
           "marker": {
            "color": "#EF553B",
            "size": [
             4.857
            ],
            "sizemode": "area",
            "sizeref": 0.018967499999999998,
            "symbol": "circle"
           },
           "mode": "markers",
           "name": "Greece",
           "orientation": "v",
           "showlegend": true,
           "type": "scatter",
           "x": [
            1.15406
           ],
           "xaxis": "x",
           "y": [
            4.857
           ],
           "yaxis": "y"
          }
         ],
         "name": "Western Europe"
        },
        {
         "data": [
          {
           "hovertemplate": "<b>%{hovertext}</b><br><br>Country=Canada<br>Region=North America<br>Economy (GDP per Capita)=%{x}<br>Happiness Score=%{marker.size}<extra></extra>",
           "hovertext": [
            5
           ],
           "ids": [
            "Canada"
           ],
           "legendgroup": "Canada",
           "marker": {
            "color": "#FFA15A",
            "size": [
             7.427
            ],
            "sizemode": "area",
            "sizeref": 0.018967499999999998,
            "symbol": "circle"
           },
           "mode": "markers",
           "name": "Canada",
           "orientation": "v",
           "showlegend": true,
           "type": "scatter",
           "x": [
            1.32629
           ],
           "xaxis": "x",
           "y": [
            7.427
           ],
           "yaxis": "y"
          },
          {
           "hovertemplate": "<b>%{hovertext}</b><br><br>Country=United States<br>Region=North America<br>Economy (GDP per Capita)=%{x}<br>Happiness Score=%{marker.size}<extra></extra>",
           "hovertext": [
            15
           ],
           "ids": [
            "United States"
           ],
           "legendgroup": "United States",
           "marker": {
            "color": "#FFA15A",
            "size": [
             7.119
            ],
            "sizemode": "area",
            "sizeref": 0.018967499999999998,
            "symbol": "circle"
           },
           "mode": "markers",
           "name": "United States",
           "orientation": "v",
           "showlegend": true,
           "type": "scatter",
           "x": [
            1.39451
           ],
           "xaxis": "x",
           "y": [
            7.119
           ],
           "yaxis": "y"
          }
         ],
         "name": "North America"
        },
        {
         "data": [
          {
           "hovertemplate": "<b>%{hovertext}</b><br><br>Country=New Zealand<br>Region=Australia and New Zealand<br>Economy (GDP per Capita)=%{x}<br>Happiness Score=%{marker.size}<extra></extra>",
           "hovertext": [
            9
           ],
           "ids": [
            "New Zealand"
           ],
           "legendgroup": "New Zealand",
           "marker": {
            "color": "#FF97FF",
            "size": [
             7.286
            ],
            "sizemode": "area",
            "sizeref": 0.018967499999999998,
            "symbol": "circle"
           },
           "mode": "markers",
           "name": "New Zealand",
           "orientation": "v",
           "showlegend": true,
           "type": "scatter",
           "x": [
            1.25018
           ],
           "xaxis": "x",
           "y": [
            7.286
           ],
           "yaxis": "y"
          },
          {
           "hovertemplate": "<b>%{hovertext}</b><br><br>Country=Australia<br>Region=Australia and New Zealand<br>Economy (GDP per Capita)=%{x}<br>Happiness Score=%{marker.size}<extra></extra>",
           "hovertext": [
            10
           ],
           "ids": [
            "Australia"
           ],
           "legendgroup": "Australia",
           "marker": {
            "color": "#FECB52",
            "size": [
             7.284
            ],
            "sizemode": "area",
            "sizeref": 0.018967499999999998,
            "symbol": "circle"
           },
           "mode": "markers",
           "name": "Australia",
           "orientation": "v",
           "showlegend": true,
           "type": "scatter",
           "x": [
            1.33358
           ],
           "xaxis": "x",
           "y": [
            7.284
           ],
           "yaxis": "y"
          }
         ],
         "name": "Australia and New Zealand"
        },
        {
         "data": [
          {
           "hovertemplate": "<b>%{hovertext}</b><br><br>Country=Israel<br>Region=Middle East and Northern Africa<br>Economy (GDP per Capita)=%{x}<br>Happiness Score=%{marker.size}<extra></extra>",
           "hovertext": [
            11
           ],
           "ids": [
            "Israel"
           ],
           "legendgroup": "Israel",
           "marker": {
            "color": "#636efa",
            "size": [
             7.278
            ],
            "sizemode": "area",
            "sizeref": 0.018967499999999998,
            "symbol": "circle"
           },
           "mode": "markers",
           "name": "Israel",
           "orientation": "v",
           "showlegend": true,
           "type": "scatter",
           "x": [
            1.22857
           ],
           "xaxis": "x",
           "y": [
            7.278
           ],
           "yaxis": "y"
          },
          {
           "hovertemplate": "<b>%{hovertext}</b><br><br>Country=United Arab Emirates<br>Region=Middle East and Northern Africa<br>Economy (GDP per Capita)=%{x}<br>Happiness Score=%{marker.size}<extra></extra>",
           "hovertext": [
            20
           ],
           "ids": [
            "United Arab Emirates"
           ],
           "legendgroup": "United Arab Emirates",
           "marker": {
            "color": "#FECB52",
            "size": [
             6.901
            ],
            "sizemode": "area",
            "sizeref": 0.018967499999999998,
            "symbol": "circle"
           },
           "mode": "markers",
           "name": "United Arab Emirates",
           "orientation": "v",
           "showlegend": true,
           "type": "scatter",
           "x": [
            1.42727
           ],
           "xaxis": "x",
           "y": [
            6.901
           ],
           "yaxis": "y"
          },
          {
           "hovertemplate": "<b>%{hovertext}</b><br><br>Country=Oman<br>Region=Middle East and Northern Africa<br>Economy (GDP per Capita)=%{x}<br>Happiness Score=%{marker.size}<extra></extra>",
           "hovertext": [
            22
           ],
           "ids": [
            "Oman"
           ],
           "legendgroup": "Oman",
           "marker": {
            "color": "#EF553B",
            "size": [
             6.853
            ],
            "sizemode": "area",
            "sizeref": 0.018967499999999998,
            "symbol": "circle"
           },
           "mode": "markers",
           "name": "Oman",
           "orientation": "v",
           "showlegend": true,
           "type": "scatter",
           "x": [
            1.36011
           ],
           "xaxis": "x",
           "y": [
            6.853
           ],
           "yaxis": "y"
          },
          {
           "hovertemplate": "<b>%{hovertext}</b><br><br>Country=Qatar<br>Region=Middle East and Northern Africa<br>Economy (GDP per Capita)=%{x}<br>Happiness Score=%{marker.size}<extra></extra>",
           "hovertext": [
            28
           ],
           "ids": [
            "Qatar"
           ],
           "legendgroup": "Qatar",
           "marker": {
            "color": "#B6E880",
            "size": [
             6.611
            ],
            "sizemode": "area",
            "sizeref": 0.018967499999999998,
            "symbol": "circle"
           },
           "mode": "markers",
           "name": "Qatar",
           "orientation": "v",
           "showlegend": true,
           "type": "scatter",
           "x": [
            1.69042
           ],
           "xaxis": "x",
           "y": [
            6.611
           ],
           "yaxis": "y"
          },
          {
           "hovertemplate": "<b>%{hovertext}</b><br><br>Country=Saudi Arabia<br>Region=Middle East and Northern Africa<br>Economy (GDP per Capita)=%{x}<br>Happiness Score=%{marker.size}<extra></extra>",
           "hovertext": [
            35
           ],
           "ids": [
            "Saudi Arabia"
           ],
           "legendgroup": "Saudi Arabia",
           "marker": {
            "color": "#FFA15A",
            "size": [
             6.411
            ],
            "sizemode": "area",
            "sizeref": 0.018967499999999998,
            "symbol": "circle"
           },
           "mode": "markers",
           "name": "Saudi Arabia",
           "orientation": "v",
           "showlegend": true,
           "type": "scatter",
           "x": [
            1.39541
           ],
           "xaxis": "x",
           "y": [
            6.411
           ],
           "yaxis": "y"
          },
          {
           "hovertemplate": "<b>%{hovertext}</b><br><br>Country=Kuwait<br>Region=Middle East and Northern Africa<br>Economy (GDP per Capita)=%{x}<br>Happiness Score=%{marker.size}<extra></extra>",
           "hovertext": [
            39
           ],
           "ids": [
            "Kuwait"
           ],
           "legendgroup": "Kuwait",
           "marker": {
            "color": "#FF97FF",
            "size": [
             6.295
            ],
            "sizemode": "area",
            "sizeref": 0.018967499999999998,
            "symbol": "circle"
           },
           "mode": "markers",
           "name": "Kuwait",
           "orientation": "v",
           "showlegend": true,
           "type": "scatter",
           "x": [
            1.55422
           ],
           "xaxis": "x",
           "y": [
            6.295
           ],
           "yaxis": "y"
          },
          {
           "hovertemplate": "<b>%{hovertext}</b><br><br>Country=Bahrain<br>Region=Middle East and Northern Africa<br>Economy (GDP per Capita)=%{x}<br>Happiness Score=%{marker.size}<extra></extra>",
           "hovertext": [
            49
           ],
           "ids": [
            "Bahrain"
           ],
           "legendgroup": "Bahrain",
           "marker": {
            "color": "#FF97FF",
            "size": [
             5.96
            ],
            "sizemode": "area",
            "sizeref": 0.018967499999999998,
            "symbol": "circle"
           },
           "mode": "markers",
           "name": "Bahrain",
           "orientation": "v",
           "showlegend": true,
           "type": "scatter",
           "x": [
            1.32376
           ],
           "xaxis": "x",
           "y": [
            5.96
           ],
           "yaxis": "y"
          },
          {
           "hovertemplate": "<b>%{hovertext}</b><br><br>Country=Libya<br>Region=Middle East and Northern Africa<br>Economy (GDP per Capita)=%{x}<br>Happiness Score=%{marker.size}<extra></extra>",
           "hovertext": [
            63
           ],
           "ids": [
            "Libya"
           ],
           "legendgroup": "Libya",
           "marker": {
            "color": "#00cc96",
            "size": [
             5.754
            ],
            "sizemode": "area",
            "sizeref": 0.018967499999999998,
            "symbol": "circle"
           },
           "mode": "markers",
           "name": "Libya",
           "orientation": "v",
           "showlegend": true,
           "type": "scatter",
           "x": [
            1.13145
           ],
           "xaxis": "x",
           "y": [
            5.754
           ],
           "yaxis": "y"
          },
          {
           "hovertemplate": "<b>%{hovertext}</b><br><br>Country=Algeria<br>Region=Middle East and Northern Africa<br>Economy (GDP per Capita)=%{x}<br>Happiness Score=%{marker.size}<extra></extra>",
           "hovertext": [
            68
           ],
           "ids": [
            "Algeria"
           ],
           "legendgroup": "Algeria",
           "marker": {
            "color": "#B6E880",
            "size": [
             5.605
            ],
            "sizemode": "area",
            "sizeref": 0.018967499999999998,
            "symbol": "circle"
           },
           "mode": "markers",
           "name": "Algeria",
           "orientation": "v",
           "showlegend": true,
           "type": "scatter",
           "x": [
            0.93929
           ],
           "xaxis": "x",
           "y": [
            5.605
           ],
           "yaxis": "y"
          },
          {
           "hovertemplate": "<b>%{hovertext}</b><br><br>Country=Turkey<br>Region=Middle East and Northern Africa<br>Economy (GDP per Capita)=%{x}<br>Happiness Score=%{marker.size}<extra></extra>",
           "hovertext": [
            76
           ],
           "ids": [
            "Turkey"
           ],
           "legendgroup": "Turkey",
           "marker": {
            "color": "#19d3f3",
            "size": [
             5.332
            ],
            "sizemode": "area",
            "sizeref": 0.018967499999999998,
            "symbol": "circle"
           },
           "mode": "markers",
           "name": "Turkey",
           "orientation": "v",
           "showlegend": true,
           "type": "scatter",
           "x": [
            1.06098
           ],
           "xaxis": "x",
           "y": [
            5.332
           ],
           "yaxis": "y"
          },
          {
           "hovertemplate": "<b>%{hovertext}</b><br><br>Country=Jordan<br>Region=Middle East and Northern Africa<br>Economy (GDP per Capita)=%{x}<br>Happiness Score=%{marker.size}<extra></extra>",
           "hovertext": [
            82
           ],
           "ids": [
            "Jordan"
           ],
           "legendgroup": "Jordan",
           "marker": {
            "color": "#EF553B",
            "size": [
             5.192
            ],
            "sizemode": "area",
            "sizeref": 0.018967499999999998,
            "symbol": "circle"
           },
           "mode": "markers",
           "name": "Jordan",
           "orientation": "v",
           "showlegend": true,
           "type": "scatter",
           "x": [
            0.90198
           ],
           "xaxis": "x",
           "y": [
            5.192
           ],
           "yaxis": "y"
          },
          {
           "hovertemplate": "<b>%{hovertext}</b><br><br>Country=Morocco<br>Region=Middle East and Northern Africa<br>Economy (GDP per Capita)=%{x}<br>Happiness Score=%{marker.size}<extra></extra>",
           "hovertext": [
            92
           ],
           "ids": [
            "Morocco"
           ],
           "legendgroup": "Morocco",
           "marker": {
            "color": "#EF553B",
            "size": [
             5.013
            ],
            "sizemode": "area",
            "sizeref": 0.018967499999999998,
            "symbol": "circle"
           },
           "mode": "markers",
           "name": "Morocco",
           "orientation": "v",
           "showlegend": true,
           "type": "scatter",
           "x": [
            0.73479
           ],
           "xaxis": "x",
           "y": [
            5.013
           ],
           "yaxis": "y"
          },
          {
           "hovertemplate": "<b>%{hovertext}</b><br><br>Country=Lebanon<br>Region=Middle East and Northern Africa<br>Economy (GDP per Capita)=%{x}<br>Happiness Score=%{marker.size}<extra></extra>",
           "hovertext": [
            103
           ],
           "ids": [
            "Lebanon"
           ],
           "legendgroup": "Lebanon",
           "marker": {
            "color": "#00cc96",
            "size": [
             4.839
            ],
            "sizemode": "area",
            "sizeref": 0.018967499999999998,
            "symbol": "circle"
           },
           "mode": "markers",
           "name": "Lebanon",
           "orientation": "v",
           "showlegend": true,
           "type": "scatter",
           "x": [
            1.02564
           ],
           "xaxis": "x",
           "y": [
            4.839
           ],
           "yaxis": "y"
          },
          {
           "hovertemplate": "<b>%{hovertext}</b><br><br>Country=Tunisia<br>Region=Middle East and Northern Africa<br>Economy (GDP per Capita)=%{x}<br>Happiness Score=%{marker.size}<extra></extra>",
           "hovertext": [
            107
           ],
           "ids": [
            "Tunisia"
           ],
           "legendgroup": "Tunisia",
           "marker": {
            "color": "#FF6692",
            "size": [
             4.739
            ],
            "sizemode": "area",
            "sizeref": 0.018967499999999998,
            "symbol": "circle"
           },
           "mode": "markers",
           "name": "Tunisia",
           "orientation": "v",
           "showlegend": true,
           "type": "scatter",
           "x": [
            0.88113
           ],
           "xaxis": "x",
           "y": [
            4.739
           ],
           "yaxis": "y"
          },
          {
           "hovertemplate": "<b>%{hovertext}</b><br><br>Country=Palestinian Territories<br>Region=Middle East and Northern Africa<br>Economy (GDP per Capita)=%{x}<br>Happiness Score=%{marker.size}<extra></extra>",
           "hovertext": [
            108
           ],
           "ids": [
            "Palestinian Territories"
           ],
           "legendgroup": "Palestinian Territories",
           "marker": {
            "color": "#B6E880",
            "size": [
             4.715
            ],
            "sizemode": "area",
            "sizeref": 0.018967499999999998,
            "symbol": "circle"
           },
           "mode": "markers",
           "name": "Palestinian Territories",
           "orientation": "v",
           "showlegend": true,
           "type": "scatter",
           "x": [
            0.59867
           ],
           "xaxis": "x",
           "y": [
            4.715
           ],
           "yaxis": "y"
          },
          {
           "hovertemplate": "<b>%{hovertext}</b><br><br>Country=Iran<br>Region=Middle East and Northern Africa<br>Economy (GDP per Capita)=%{x}<br>Happiness Score=%{marker.size}<extra></extra>",
           "hovertext": [
            110
           ],
           "ids": [
            "Iran"
           ],
           "legendgroup": "Iran",
           "marker": {
            "color": "#FECB52",
            "size": [
             4.686
            ],
            "sizemode": "area",
            "sizeref": 0.018967499999999998,
            "symbol": "circle"
           },
           "mode": "markers",
           "name": "Iran",
           "orientation": "v",
           "showlegend": true,
           "type": "scatter",
           "x": [
            1.0088
           ],
           "xaxis": "x",
           "y": [
            4.686
           ],
           "yaxis": "y"
          },
          {
           "hovertemplate": "<b>%{hovertext}</b><br><br>Country=Iraq<br>Region=Middle East and Northern Africa<br>Economy (GDP per Capita)=%{x}<br>Happiness Score=%{marker.size}<extra></extra>",
           "hovertext": [
            112
           ],
           "ids": [
            "Iraq"
           ],
           "legendgroup": "Iraq",
           "marker": {
            "color": "#EF553B",
            "size": [
             4.677
            ],
            "sizemode": "area",
            "sizeref": 0.018967499999999998,
            "symbol": "circle"
           },
           "mode": "markers",
           "name": "Iraq",
           "orientation": "v",
           "showlegend": true,
           "type": "scatter",
           "x": [
            0.98549
           ],
           "xaxis": "x",
           "y": [
            4.677
           ],
           "yaxis": "y"
          },
          {
           "hovertemplate": "<b>%{hovertext}</b><br><br>Country=Egypt<br>Region=Middle East and Northern Africa<br>Economy (GDP per Capita)=%{x}<br>Happiness Score=%{marker.size}<extra></extra>",
           "hovertext": [
            135
           ],
           "ids": [
            "Egypt"
           ],
           "legendgroup": "Egypt",
           "marker": {
            "color": "#FFA15A",
            "size": [
             4.194
            ],
            "sizemode": "area",
            "sizeref": 0.018967499999999998,
            "symbol": "circle"
           },
           "mode": "markers",
           "name": "Egypt",
           "orientation": "v",
           "showlegend": true,
           "type": "scatter",
           "x": [
            0.8818
           ],
           "xaxis": "x",
           "y": [
            4.194
           ],
           "yaxis": "y"
          },
          {
           "hovertemplate": "<b>%{hovertext}</b><br><br>Country=Yemen<br>Region=Middle East and Northern Africa<br>Economy (GDP per Capita)=%{x}<br>Happiness Score=%{marker.size}<extra></extra>",
           "hovertext": [
            136
           ],
           "ids": [
            "Yemen"
           ],
           "legendgroup": "Yemen",
           "marker": {
            "color": "#19d3f3",
            "size": [
             4.077
            ],
            "sizemode": "area",
            "sizeref": 0.018967499999999998,
            "symbol": "circle"
           },
           "mode": "markers",
           "name": "Yemen",
           "orientation": "v",
           "showlegend": true,
           "type": "scatter",
           "x": [
            0.54649
           ],
           "xaxis": "x",
           "y": [
            4.077
           ],
           "yaxis": "y"
          },
          {
           "hovertemplate": "<b>%{hovertext}</b><br><br>Country=Syria<br>Region=Middle East and Northern Africa<br>Economy (GDP per Capita)=%{x}<br>Happiness Score=%{marker.size}<extra></extra>",
           "hovertext": [
            156
           ],
           "ids": [
            "Syria"
           ],
           "legendgroup": "Syria",
           "marker": {
            "color": "#19d3f3",
            "size": [
             3.006
            ],
            "sizemode": "area",
            "sizeref": 0.018967499999999998,
            "symbol": "circle"
           },
           "mode": "markers",
           "name": "Syria",
           "orientation": "v",
           "showlegend": true,
           "type": "scatter",
           "x": [
            0.6632
           ],
           "xaxis": "x",
           "y": [
            3.006
           ],
           "yaxis": "y"
          }
         ],
         "name": "Middle East and Northern Africa"
        },
        {
         "data": [
          {
           "hovertemplate": "<b>%{hovertext}</b><br><br>Country=Costa Rica<br>Region=Latin America and Caribbean<br>Economy (GDP per Capita)=%{x}<br>Happiness Score=%{marker.size}<extra></extra>",
           "hovertext": [
            12
           ],
           "ids": [
            "Costa Rica"
           ],
           "legendgroup": "Costa Rica",
           "marker": {
            "color": "#EF553B",
            "size": [
             7.226
            ],
            "sizemode": "area",
            "sizeref": 0.018967499999999998,
            "symbol": "circle"
           },
           "mode": "markers",
           "name": "Costa Rica",
           "orientation": "v",
           "showlegend": true,
           "type": "scatter",
           "x": [
            0.95578
           ],
           "xaxis": "x",
           "y": [
            7.226
           ],
           "yaxis": "y"
          },
          {
           "hovertemplate": "<b>%{hovertext}</b><br><br>Country=Mexico<br>Region=Latin America and Caribbean<br>Economy (GDP per Capita)=%{x}<br>Happiness Score=%{marker.size}<extra></extra>",
           "hovertext": [
            14
           ],
           "ids": [
            "Mexico"
           ],
           "legendgroup": "Mexico",
           "marker": {
            "color": "#ab63fa",
            "size": [
             7.187
            ],
            "sizemode": "area",
            "sizeref": 0.018967499999999998,
            "symbol": "circle"
           },
           "mode": "markers",
           "name": "Mexico",
           "orientation": "v",
           "showlegend": true,
           "type": "scatter",
           "x": [
            1.02054
           ],
           "xaxis": "x",
           "y": [
            7.187
           ],
           "yaxis": "y"
          },
          {
           "hovertemplate": "<b>%{hovertext}</b><br><br>Country=Brazil<br>Region=Latin America and Caribbean<br>Economy (GDP per Capita)=%{x}<br>Happiness Score=%{marker.size}<extra></extra>",
           "hovertext": [
            16
           ],
           "ids": [
            "Brazil"
           ],
           "legendgroup": "Brazil",
           "marker": {
            "color": "#19d3f3",
            "size": [
             6.983
            ],
            "sizemode": "area",
            "sizeref": 0.018967499999999998,
            "symbol": "circle"
           },
           "mode": "markers",
           "name": "Brazil",
           "orientation": "v",
           "showlegend": true,
           "type": "scatter",
           "x": [
            0.98124
           ],
           "xaxis": "x",
           "y": [
            6.983
           ],
           "yaxis": "y"
          },
          {
           "hovertemplate": "<b>%{hovertext}</b><br><br>Country=Venezuela<br>Region=Latin America and Caribbean<br>Economy (GDP per Capita)=%{x}<br>Happiness Score=%{marker.size}<extra></extra>",
           "hovertext": [
            23
           ],
           "ids": [
            "Venezuela"
           ],
           "legendgroup": "Venezuela",
           "marker": {
            "color": "#00cc96",
            "size": [
             6.81
            ],
            "sizemode": "area",
            "sizeref": 0.018967499999999998,
            "symbol": "circle"
           },
           "mode": "markers",
           "name": "Venezuela",
           "orientation": "v",
           "showlegend": true,
           "type": "scatter",
           "x": [
            1.04424
           ],
           "xaxis": "x",
           "y": [
            6.81
           ],
           "yaxis": "y"
          },
          {
           "hovertemplate": "<b>%{hovertext}</b><br><br>Country=Panama<br>Region=Latin America and Caribbean<br>Economy (GDP per Capita)=%{x}<br>Happiness Score=%{marker.size}<extra></extra>",
           "hovertext": [
            25
           ],
           "ids": [
            "Panama"
           ],
           "legendgroup": "Panama",
           "marker": {
            "color": "#FFA15A",
            "size": [
             6.786
            ],
            "sizemode": "area",
            "sizeref": 0.018967499999999998,
            "symbol": "circle"
           },
           "mode": "markers",
           "name": "Panama",
           "orientation": "v",
           "showlegend": true,
           "type": "scatter",
           "x": [
            1.06353
           ],
           "xaxis": "x",
           "y": [
            6.786
           ],
           "yaxis": "y"
          },
          {
           "hovertemplate": "<b>%{hovertext}</b><br><br>Country=Chile<br>Region=Latin America and Caribbean<br>Economy (GDP per Capita)=%{x}<br>Happiness Score=%{marker.size}<extra></extra>",
           "hovertext": [
            27
           ],
           "ids": [
            "Chile"
           ],
           "legendgroup": "Chile",
           "marker": {
            "color": "#FF6692",
            "size": [
             6.67
            ],
            "sizemode": "area",
            "sizeref": 0.018967499999999998,
            "symbol": "circle"
           },
           "mode": "markers",
           "name": "Chile",
           "orientation": "v",
           "showlegend": true,
           "type": "scatter",
           "x": [
            1.10715
           ],
           "xaxis": "x",
           "y": [
            6.67
           ],
           "yaxis": "y"
          },
          {
           "hovertemplate": "<b>%{hovertext}</b><br><br>Country=Argentina<br>Region=Latin America and Caribbean<br>Economy (GDP per Capita)=%{x}<br>Happiness Score=%{marker.size}<extra></extra>",
           "hovertext": [
            30
           ],
           "ids": [
            "Argentina"
           ],
           "legendgroup": "Argentina",
           "marker": {
            "color": "#FECB52",
            "size": [
             6.574
            ],
            "sizemode": "area",
            "sizeref": 0.018967499999999998,
            "symbol": "circle"
           },
           "mode": "markers",
           "name": "Argentina",
           "orientation": "v",
           "showlegend": true,
           "type": "scatter",
           "x": [
            1.05351
           ],
           "xaxis": "x",
           "y": [
            6.574
           ],
           "yaxis": "y"
          },
          {
           "hovertemplate": "<b>%{hovertext}</b><br><br>Country=Uruguay<br>Region=Latin America and Caribbean<br>Economy (GDP per Capita)=%{x}<br>Happiness Score=%{marker.size}<extra></extra>",
           "hovertext": [
            32
           ],
           "ids": [
            "Uruguay"
           ],
           "legendgroup": "Uruguay",
           "marker": {
            "color": "#EF553B",
            "size": [
             6.485
            ],
            "sizemode": "area",
            "sizeref": 0.018967499999999998,
            "symbol": "circle"
           },
           "mode": "markers",
           "name": "Uruguay",
           "orientation": "v",
           "showlegend": true,
           "type": "scatter",
           "x": [
            1.06166
           ],
           "xaxis": "x",
           "y": [
            6.485
           ],
           "yaxis": "y"
          },
          {
           "hovertemplate": "<b>%{hovertext}</b><br><br>Country=Colombia<br>Region=Latin America and Caribbean<br>Economy (GDP per Capita)=%{x}<br>Happiness Score=%{marker.size}<extra></extra>",
           "hovertext": [
            33
           ],
           "ids": [
            "Colombia"
           ],
           "legendgroup": "Colombia",
           "marker": {
            "color": "#00cc96",
            "size": [
             6.477
            ],
            "sizemode": "area",
            "sizeref": 0.018967499999999998,
            "symbol": "circle"
           },
           "mode": "markers",
           "name": "Colombia",
           "orientation": "v",
           "showlegend": true,
           "type": "scatter",
           "x": [
            0.91861
           ],
           "xaxis": "x",
           "y": [
            6.477
           ],
           "yaxis": "y"
          },
          {
           "hovertemplate": "<b>%{hovertext}</b><br><br>Country=Suriname<br>Region=Latin America and Caribbean<br>Economy (GDP per Capita)=%{x}<br>Happiness Score=%{marker.size}<extra></extra>",
           "hovertext": [
            40
           ],
           "ids": [
            "Suriname"
           ],
           "legendgroup": "Suriname",
           "marker": {
            "color": "#FECB52",
            "size": [
             6.269
            ],
            "sizemode": "area",
            "sizeref": 0.018967499999999998,
            "symbol": "circle"
           },
           "mode": "markers",
           "name": "Suriname",
           "orientation": "v",
           "showlegend": true,
           "type": "scatter",
           "x": [
            0.99534
           ],
           "xaxis": "x",
           "y": [
            6.269
           ],
           "yaxis": "y"
          },
          {
           "hovertemplate": "<b>%{hovertext}</b><br><br>Country=Trinidad and Tobago<br>Region=Latin America and Caribbean<br>Economy (GDP per Capita)=%{x}<br>Happiness Score=%{marker.size}<extra></extra>",
           "hovertext": [
            41
           ],
           "ids": [
            "Trinidad and Tobago"
           ],
           "legendgroup": "Trinidad and Tobago",
           "marker": {
            "color": "#636efa",
            "size": [
             6.168
            ],
            "sizemode": "area",
            "sizeref": 0.018967499999999998,
            "symbol": "circle"
           },
           "mode": "markers",
           "name": "Trinidad and Tobago",
           "orientation": "v",
           "showlegend": true,
           "type": "scatter",
           "x": [
            1.21183
           ],
           "xaxis": "x",
           "y": [
            6.168
           ],
           "yaxis": "y"
          },
          {
           "hovertemplate": "<b>%{hovertext}</b><br><br>Country=El Salvador<br>Region=Latin America and Caribbean<br>Economy (GDP per Capita)=%{x}<br>Happiness Score=%{marker.size}<extra></extra>",
           "hovertext": [
            42
           ],
           "ids": [
            "El Salvador"
           ],
           "legendgroup": "El Salvador",
           "marker": {
            "color": "#EF553B",
            "size": [
             6.13
            ],
            "sizemode": "area",
            "sizeref": 0.018967499999999998,
            "symbol": "circle"
           },
           "mode": "markers",
           "name": "El Salvador",
           "orientation": "v",
           "showlegend": true,
           "type": "scatter",
           "x": [
            0.76454
           ],
           "xaxis": "x",
           "y": [
            6.13
           ],
           "yaxis": "y"
          },
          {
           "hovertemplate": "<b>%{hovertext}</b><br><br>Country=Guatemala<br>Region=Latin America and Caribbean<br>Economy (GDP per Capita)=%{x}<br>Happiness Score=%{marker.size}<extra></extra>",
           "hovertext": [
            43
           ],
           "ids": [
            "Guatemala"
           ],
           "legendgroup": "Guatemala",
           "marker": {
            "color": "#00cc96",
            "size": [
             6.123
            ],
            "sizemode": "area",
            "sizeref": 0.018967499999999998,
            "symbol": "circle"
           },
           "mode": "markers",
           "name": "Guatemala",
           "orientation": "v",
           "showlegend": true,
           "type": "scatter",
           "x": [
            0.74553
           ],
           "xaxis": "x",
           "y": [
            6.123
           ],
           "yaxis": "y"
          },
          {
           "hovertemplate": "<b>%{hovertext}</b><br><br>Country=Ecuador<br>Region=Latin America and Caribbean<br>Economy (GDP per Capita)=%{x}<br>Happiness Score=%{marker.size}<extra></extra>",
           "hovertext": [
            48
           ],
           "ids": [
            "Ecuador"
           ],
           "legendgroup": "Ecuador",
           "marker": {
            "color": "#B6E880",
            "size": [
             5.975
            ],
            "sizemode": "area",
            "sizeref": 0.018967499999999998,
            "symbol": "circle"
           },
           "mode": "markers",
           "name": "Ecuador",
           "orientation": "v",
           "showlegend": true,
           "type": "scatter",
           "x": [
            0.86402
           ],
           "xaxis": "x",
           "y": [
            5.975
           ],
           "yaxis": "y"
          },
          {
           "hovertemplate": "<b>%{hovertext}</b><br><br>Country=Bolivia<br>Region=Latin America and Caribbean<br>Economy (GDP per Capita)=%{x}<br>Happiness Score=%{marker.size}<extra></extra>",
           "hovertext": [
            51
           ],
           "ids": [
            "Bolivia"
           ],
           "legendgroup": "Bolivia",
           "marker": {
            "color": "#636efa",
            "size": [
             5.89
            ],
            "sizemode": "area",
            "sizeref": 0.018967499999999998,
            "symbol": "circle"
           },
           "mode": "markers",
           "name": "Bolivia",
           "orientation": "v",
           "showlegend": true,
           "type": "scatter",
           "x": [
            0.68133
           ],
           "xaxis": "x",
           "y": [
            5.89
           ],
           "yaxis": "y"
          },
          {
           "hovertemplate": "<b>%{hovertext}</b><br><br>Country=Paraguay<br>Region=Latin America and Caribbean<br>Economy (GDP per Capita)=%{x}<br>Happiness Score=%{marker.size}<extra></extra>",
           "hovertext": [
            53
           ],
           "ids": [
            "Paraguay"
           ],
           "legendgroup": "Paraguay",
           "marker": {
            "color": "#00cc96",
            "size": [
             5.878
            ],
            "sizemode": "area",
            "sizeref": 0.018967499999999998,
            "symbol": "circle"
           },
           "mode": "markers",
           "name": "Paraguay",
           "orientation": "v",
           "showlegend": true,
           "type": "scatter",
           "x": [
            0.75985
           ],
           "xaxis": "x",
           "y": [
            5.878
           ],
           "yaxis": "y"
          },
          {
           "hovertemplate": "<b>%{hovertext}</b><br><br>Country=Nicaragua<br>Region=Latin America and Caribbean<br>Economy (GDP per Capita)=%{x}<br>Happiness Score=%{marker.size}<extra></extra>",
           "hovertext": [
            57
           ],
           "ids": [
            "Nicaragua"
           ],
           "legendgroup": "Nicaragua",
           "marker": {
            "color": "#FF6692",
            "size": [
             5.828
            ],
            "sizemode": "area",
            "sizeref": 0.018967499999999998,
            "symbol": "circle"
           },
           "mode": "markers",
           "name": "Nicaragua",
           "orientation": "v",
           "showlegend": true,
           "type": "scatter",
           "x": [
            0.59325
           ],
           "xaxis": "x",
           "y": [
            5.828
           ],
           "yaxis": "y"
          },
          {
           "hovertemplate": "<b>%{hovertext}</b><br><br>Country=Peru<br>Region=Latin America and Caribbean<br>Economy (GDP per Capita)=%{x}<br>Happiness Score=%{marker.size}<extra></extra>",
           "hovertext": [
            58
           ],
           "ids": [
            "Peru"
           ],
           "legendgroup": "Peru",
           "marker": {
            "color": "#B6E880",
            "size": [
             5.824
            ],
            "sizemode": "area",
            "sizeref": 0.018967499999999998,
            "symbol": "circle"
           },
           "mode": "markers",
           "name": "Peru",
           "orientation": "v",
           "showlegend": true,
           "type": "scatter",
           "x": [
            0.90019
           ],
           "xaxis": "x",
           "y": [
            5.824
           ],
           "yaxis": "y"
          },
          {
           "hovertemplate": "<b>%{hovertext}</b><br><br>Country=Jamaica<br>Region=Latin America and Caribbean<br>Economy (GDP per Capita)=%{x}<br>Happiness Score=%{marker.size}<extra></extra>",
           "hovertext": [
            65
           ],
           "ids": [
            "Jamaica"
           ],
           "legendgroup": "Jamaica",
           "marker": {
            "color": "#FFA15A",
            "size": [
             5.709
            ],
            "sizemode": "area",
            "sizeref": 0.018967499999999998,
            "symbol": "circle"
           },
           "mode": "markers",
           "name": "Jamaica",
           "orientation": "v",
           "showlegend": true,
           "type": "scatter",
           "x": [
            0.81038
           ],
           "xaxis": "x",
           "y": [
            5.709
           ],
           "yaxis": "y"
          },
          {
           "hovertemplate": "<b>%{hovertext}</b><br><br>Country=Dominican Republic<br>Region=Latin America and Caribbean<br>Economy (GDP per Capita)=%{x}<br>Happiness Score=%{marker.size}<extra></extra>",
           "hovertext": [
            98
           ],
           "ids": [
            "Dominican Republic"
           ],
           "legendgroup": "Dominican Republic",
           "marker": {
            "color": "#B6E880",
            "size": [
             4.885
            ],
            "sizemode": "area",
            "sizeref": 0.018967499999999998,
            "symbol": "circle"
           },
           "mode": "markers",
           "name": "Dominican Republic",
           "orientation": "v",
           "showlegend": true,
           "type": "scatter",
           "x": [
            0.89537
           ],
           "xaxis": "x",
           "y": [
            4.885
           ],
           "yaxis": "y"
          },
          {
           "hovertemplate": "<b>%{hovertext}</b><br><br>Country=Honduras<br>Region=Latin America and Caribbean<br>Economy (GDP per Capita)=%{x}<br>Happiness Score=%{marker.size}<extra></extra>",
           "hovertext": [
            105
           ],
           "ids": [
            "Honduras"
           ],
           "legendgroup": "Honduras",
           "marker": {
            "color": "#FFA15A",
            "size": [
             4.788
            ],
            "sizemode": "area",
            "sizeref": 0.018967499999999998,
            "symbol": "circle"
           },
           "mode": "markers",
           "name": "Honduras",
           "orientation": "v",
           "showlegend": true,
           "type": "scatter",
           "x": [
            0.59532
           ],
           "xaxis": "x",
           "y": [
            4.788
           ],
           "yaxis": "y"
          },
          {
           "hovertemplate": "<b>%{hovertext}</b><br><br>Country=Haiti<br>Region=Latin America and Caribbean<br>Economy (GDP per Capita)=%{x}<br>Happiness Score=%{marker.size}<extra></extra>",
           "hovertext": [
            119
           ],
           "ids": [
            "Haiti"
           ],
           "legendgroup": "Haiti",
           "marker": {
            "color": "#FF97FF",
            "size": [
             4.518
            ],
            "sizemode": "area",
            "sizeref": 0.018967499999999998,
            "symbol": "circle"
           },
           "mode": "markers",
           "name": "Haiti",
           "orientation": "v",
           "showlegend": true,
           "type": "scatter",
           "x": [
            0.26673
           ],
           "xaxis": "x",
           "y": [
            4.518
           ],
           "yaxis": "y"
          }
         ],
         "name": "Latin America and Caribbean"
        },
        {
         "data": [
          {
           "hovertemplate": "<b>%{hovertext}</b><br><br>Country=Singapore<br>Region=Southeastern Asia<br>Economy (GDP per Capita)=%{x}<br>Happiness Score=%{marker.size}<extra></extra>",
           "hovertext": [
            24
           ],
           "ids": [
            "Singapore"
           ],
           "legendgroup": "Singapore",
           "marker": {
            "color": "#ab63fa",
            "size": [
             6.798
            ],
            "sizemode": "area",
            "sizeref": 0.018967499999999998,
            "symbol": "circle"
           },
           "mode": "markers",
           "name": "Singapore",
           "orientation": "v",
           "showlegend": true,
           "type": "scatter",
           "x": [
            1.52186
           ],
           "xaxis": "x",
           "y": [
            6.798
           ],
           "yaxis": "y"
          },
          {
           "hovertemplate": "<b>%{hovertext}</b><br><br>Country=Thailand<br>Region=Southeastern Asia<br>Economy (GDP per Capita)=%{x}<br>Happiness Score=%{marker.size}<extra></extra>",
           "hovertext": [
            34
           ],
           "ids": [
            "Thailand"
           ],
           "legendgroup": "Thailand",
           "marker": {
            "color": "#ab63fa",
            "size": [
             6.455
            ],
            "sizemode": "area",
            "sizeref": 0.018967499999999998,
            "symbol": "circle"
           },
           "mode": "markers",
           "name": "Thailand",
           "orientation": "v",
           "showlegend": true,
           "type": "scatter",
           "x": [
            0.9669
           ],
           "xaxis": "x",
           "y": [
            6.455
           ],
           "yaxis": "y"
          },
          {
           "hovertemplate": "<b>%{hovertext}</b><br><br>Country=Malaysia<br>Region=Southeastern Asia<br>Economy (GDP per Capita)=%{x}<br>Happiness Score=%{marker.size}<extra></extra>",
           "hovertext": [
            61
           ],
           "ids": [
            "Malaysia"
           ],
           "legendgroup": "Malaysia",
           "marker": {
            "color": "#636efa",
            "size": [
             5.77
            ],
            "sizemode": "area",
            "sizeref": 0.018967499999999998,
            "symbol": "circle"
           },
           "mode": "markers",
           "name": "Malaysia",
           "orientation": "v",
           "showlegend": true,
           "type": "scatter",
           "x": [
            1.12486
           ],
           "xaxis": "x",
           "y": [
            5.77
           ],
           "yaxis": "y"
          },
          {
           "hovertemplate": "<b>%{hovertext}</b><br><br>Country=Indonesia<br>Region=Southeastern Asia<br>Economy (GDP per Capita)=%{x}<br>Happiness Score=%{marker.size}<extra></extra>",
           "hovertext": [
            74
           ],
           "ids": [
            "Indonesia"
           ],
           "legendgroup": "Indonesia",
           "marker": {
            "color": "#ab63fa",
            "size": [
             5.399
            ],
            "sizemode": "area",
            "sizeref": 0.018967499999999998,
            "symbol": "circle"
           },
           "mode": "markers",
           "name": "Indonesia",
           "orientation": "v",
           "showlegend": true,
           "type": "scatter",
           "x": [
            0.82827
           ],
           "xaxis": "x",
           "y": [
            5.399
           ],
           "yaxis": "y"
          },
          {
           "hovertemplate": "<b>%{hovertext}</b><br><br>Country=Vietnam<br>Region=Southeastern Asia<br>Economy (GDP per Capita)=%{x}<br>Happiness Score=%{marker.size}<extra></extra>",
           "hovertext": [
            75
           ],
           "ids": [
            "Vietnam"
           ],
           "legendgroup": "Vietnam",
           "marker": {
            "color": "#FFA15A",
            "size": [
             5.36
            ],
            "sizemode": "area",
            "sizeref": 0.018967499999999998,
            "symbol": "circle"
           },
           "mode": "markers",
           "name": "Vietnam",
           "orientation": "v",
           "showlegend": true,
           "type": "scatter",
           "x": [
            0.63216
           ],
           "xaxis": "x",
           "y": [
            5.36
           ],
           "yaxis": "y"
          },
          {
           "hovertemplate": "<b>%{hovertext}</b><br><br>Country=Philippines<br>Region=Southeastern Asia<br>Economy (GDP per Capita)=%{x}<br>Happiness Score=%{marker.size}<extra></extra>",
           "hovertext": [
            90
           ],
           "ids": [
            "Philippines"
           ],
           "legendgroup": "Philippines",
           "marker": {
            "color": "#FECB52",
            "size": [
             5.073
            ],
            "sizemode": "area",
            "sizeref": 0.018967499999999998,
            "symbol": "circle"
           },
           "mode": "markers",
           "name": "Philippines",
           "orientation": "v",
           "showlegend": true,
           "type": "scatter",
           "x": [
            0.70532
           ],
           "xaxis": "x",
           "y": [
            5.073
           ],
           "yaxis": "y"
          },
          {
           "hovertemplate": "<b>%{hovertext}</b><br><br>Country=Laos<br>Region=Southeastern Asia<br>Economy (GDP per Capita)=%{x}<br>Happiness Score=%{marker.size}<extra></extra>",
           "hovertext": [
            99
           ],
           "ids": [
            "Laos"
           ],
           "legendgroup": "Laos",
           "marker": {
            "color": "#FF97FF",
            "size": [
             4.876
            ],
            "sizemode": "area",
            "sizeref": 0.018967499999999998,
            "symbol": "circle"
           },
           "mode": "markers",
           "name": "Laos",
           "orientation": "v",
           "showlegend": true,
           "type": "scatter",
           "x": [
            0.59066
           ],
           "xaxis": "x",
           "y": [
            4.876
           ],
           "yaxis": "y"
          },
          {
           "hovertemplate": "<b>%{hovertext}</b><br><br>Country=Myanmar<br>Region=Southeastern Asia<br>Economy (GDP per Capita)=%{x}<br>Happiness Score=%{marker.size}<extra></extra>",
           "hovertext": [
            129
           ],
           "ids": [
            "Myanmar"
           ],
           "legendgroup": "Myanmar",
           "marker": {
            "color": "#FF97FF",
            "size": [
             4.307
            ],
            "sizemode": "area",
            "sizeref": 0.018967499999999998,
            "symbol": "circle"
           },
           "mode": "markers",
           "name": "Myanmar",
           "orientation": "v",
           "showlegend": true,
           "type": "scatter",
           "x": [
            0.27108
           ],
           "xaxis": "x",
           "y": [
            4.307
           ],
           "yaxis": "y"
          },
          {
           "hovertemplate": "<b>%{hovertext}</b><br><br>Country=Cambodia<br>Region=Southeastern Asia<br>Economy (GDP per Capita)=%{x}<br>Happiness Score=%{marker.size}<extra></extra>",
           "hovertext": [
            145
           ],
           "ids": [
            "Cambodia"
           ],
           "legendgroup": "Cambodia",
           "marker": {
            "color": "#FFA15A",
            "size": [
             3.819
            ],
            "sizemode": "area",
            "sizeref": 0.018967499999999998,
            "symbol": "circle"
           },
           "mode": "markers",
           "name": "Cambodia",
           "orientation": "v",
           "showlegend": true,
           "type": "scatter",
           "x": [
            0.46038
           ],
           "xaxis": "x",
           "y": [
            3.819
           ],
           "yaxis": "y"
          }
         ],
         "name": "Southeastern Asia"
        },
        {
         "data": [
          {
           "hovertemplate": "<b>%{hovertext}</b><br><br>Country=Czech Republic<br>Region=Central and Eastern Europe<br>Economy (GDP per Capita)=%{x}<br>Happiness Score=%{marker.size}<extra></extra>",
           "hovertext": [
            31
           ],
           "ids": [
            "Czech Republic"
           ],
           "legendgroup": "Czech Republic",
           "marker": {
            "color": "#636efa",
            "size": [
             6.505
            ],
            "sizemode": "area",
            "sizeref": 0.018967499999999998,
            "symbol": "circle"
           },
           "mode": "markers",
           "name": "Czech Republic",
           "orientation": "v",
           "showlegend": true,
           "type": "scatter",
           "x": [
            1.17898
           ],
           "xaxis": "x",
           "y": [
            6.505
           ],
           "yaxis": "y"
          },
          {
           "hovertemplate": "<b>%{hovertext}</b><br><br>Country=Uzbekistan<br>Region=Central and Eastern Europe<br>Economy (GDP per Capita)=%{x}<br>Happiness Score=%{marker.size}<extra></extra>",
           "hovertext": [
            44
           ],
           "ids": [
            "Uzbekistan"
           ],
           "legendgroup": "Uzbekistan",
           "marker": {
            "color": "#ab63fa",
            "size": [
             6.003
            ],
            "sizemode": "area",
            "sizeref": 0.018967499999999998,
            "symbol": "circle"
           },
           "mode": "markers",
           "name": "Uzbekistan",
           "orientation": "v",
           "showlegend": true,
           "type": "scatter",
           "x": [
            0.63244
           ],
           "xaxis": "x",
           "y": [
            6.003
           ],
           "yaxis": "y"
          },
          {
           "hovertemplate": "<b>%{hovertext}</b><br><br>Country=Slovakia<br>Region=Central and Eastern Europe<br>Economy (GDP per Capita)=%{x}<br>Happiness Score=%{marker.size}<extra></extra>",
           "hovertext": [
            45
           ],
           "ids": [
            "Slovakia"
           ],
           "legendgroup": "Slovakia",
           "marker": {
            "color": "#FFA15A",
            "size": [
             5.995
            ],
            "sizemode": "area",
            "sizeref": 0.018967499999999998,
            "symbol": "circle"
           },
           "mode": "markers",
           "name": "Slovakia",
           "orientation": "v",
           "showlegend": true,
           "type": "scatter",
           "x": [
            1.16891
           ],
           "xaxis": "x",
           "y": [
            5.995
           ],
           "yaxis": "y"
          },
          {
           "hovertemplate": "<b>%{hovertext}</b><br><br>Country=Moldova<br>Region=Central and Eastern Europe<br>Economy (GDP per Capita)=%{x}<br>Happiness Score=%{marker.size}<extra></extra>",
           "hovertext": [
            52
           ],
           "ids": [
            "Moldova"
           ],
           "legendgroup": "Moldova",
           "marker": {
            "color": "#EF553B",
            "size": [
             5.889
            ],
            "sizemode": "area",
            "sizeref": 0.018967499999999998,
            "symbol": "circle"
           },
           "mode": "markers",
           "name": "Moldova",
           "orientation": "v",
           "showlegend": true,
           "type": "scatter",
           "x": [
            0.59448
           ],
           "xaxis": "x",
           "y": [
            5.889
           ],
           "yaxis": "y"
          },
          {
           "hovertemplate": "<b>%{hovertext}</b><br><br>Country=Kazakhstan<br>Region=Central and Eastern Europe<br>Economy (GDP per Capita)=%{x}<br>Happiness Score=%{marker.size}<extra></extra>",
           "hovertext": [
            54
           ],
           "ids": [
            "Kazakhstan"
           ],
           "legendgroup": "Kazakhstan",
           "marker": {
            "color": "#ab63fa",
            "size": [
             5.855
            ],
            "sizemode": "area",
            "sizeref": 0.018967499999999998,
            "symbol": "circle"
           },
           "mode": "markers",
           "name": "Kazakhstan",
           "orientation": "v",
           "showlegend": true,
           "type": "scatter",
           "x": [
            1.12254
           ],
           "xaxis": "x",
           "y": [
            5.855
           ],
           "yaxis": "y"
          },
          {
           "hovertemplate": "<b>%{hovertext}</b><br><br>Country=Slovenia<br>Region=Central and Eastern Europe<br>Economy (GDP per Capita)=%{x}<br>Happiness Score=%{marker.size}<extra></extra>",
           "hovertext": [
            55
           ],
           "ids": [
            "Slovenia"
           ],
           "legendgroup": "Slovenia",
           "marker": {
            "color": "#FFA15A",
            "size": [
             5.848
            ],
            "sizemode": "area",
            "sizeref": 0.018967499999999998,
            "symbol": "circle"
           },
           "mode": "markers",
           "name": "Slovenia",
           "orientation": "v",
           "showlegend": true,
           "type": "scatter",
           "x": [
            1.18498
           ],
           "xaxis": "x",
           "y": [
            5.848
           ],
           "yaxis": "y"
          },
          {
           "hovertemplate": "<b>%{hovertext}</b><br><br>Country=Lithuania<br>Region=Central and Eastern Europe<br>Economy (GDP per Capita)=%{x}<br>Happiness Score=%{marker.size}<extra></extra>",
           "hovertext": [
            56
           ],
           "ids": [
            "Lithuania"
           ],
           "legendgroup": "Lithuania",
           "marker": {
            "color": "#19d3f3",
            "size": [
             5.833
            ],
            "sizemode": "area",
            "sizeref": 0.018967499999999998,
            "symbol": "circle"
           },
           "mode": "markers",
           "name": "Lithuania",
           "orientation": "v",
           "showlegend": true,
           "type": "scatter",
           "x": [
            1.14723
           ],
           "xaxis": "x",
           "y": [
            5.833
           ],
           "yaxis": "y"
          },
          {
           "hovertemplate": "<b>%{hovertext}</b><br><br>Country=Belarus<br>Region=Central and Eastern Europe<br>Economy (GDP per Capita)=%{x}<br>Happiness Score=%{marker.size}<extra></extra>",
           "hovertext": [
            59
           ],
           "ids": [
            "Belarus"
           ],
           "legendgroup": "Belarus",
           "marker": {
            "color": "#FF97FF",
            "size": [
             5.813
            ],
            "sizemode": "area",
            "sizeref": 0.018967499999999998,
            "symbol": "circle"
           },
           "mode": "markers",
           "name": "Belarus",
           "orientation": "v",
           "showlegend": true,
           "type": "scatter",
           "x": [
            1.03192
           ],
           "xaxis": "x",
           "y": [
            5.813
           ],
           "yaxis": "y"
          },
          {
           "hovertemplate": "<b>%{hovertext}</b><br><br>Country=Poland<br>Region=Central and Eastern Europe<br>Economy (GDP per Capita)=%{x}<br>Happiness Score=%{marker.size}<extra></extra>",
           "hovertext": [
            60
           ],
           "ids": [
            "Poland"
           ],
           "legendgroup": "Poland",
           "marker": {
            "color": "#FECB52",
            "size": [
             5.791
            ],
            "sizemode": "area",
            "sizeref": 0.018967499999999998,
            "symbol": "circle"
           },
           "mode": "markers",
           "name": "Poland",
           "orientation": "v",
           "showlegend": true,
           "type": "scatter",
           "x": [
            1.12555
           ],
           "xaxis": "x",
           "y": [
            5.791
           ],
           "yaxis": "y"
          },
          {
           "hovertemplate": "<b>%{hovertext}</b><br><br>Country=Croatia<br>Region=Central and Eastern Europe<br>Economy (GDP per Capita)=%{x}<br>Happiness Score=%{marker.size}<extra></extra>",
           "hovertext": [
            62
           ],
           "ids": [
            "Croatia"
           ],
           "legendgroup": "Croatia",
           "marker": {
            "color": "#EF553B",
            "size": [
             5.759
            ],
            "sizemode": "area",
            "sizeref": 0.018967499999999998,
            "symbol": "circle"
           },
           "mode": "markers",
           "name": "Croatia",
           "orientation": "v",
           "showlegend": true,
           "type": "scatter",
           "x": [
            1.08254
           ],
           "xaxis": "x",
           "y": [
            5.759
           ],
           "yaxis": "y"
          },
          {
           "hovertemplate": "<b>%{hovertext}</b><br><br>Country=Russia<br>Region=Central and Eastern Europe<br>Economy (GDP per Capita)=%{x}<br>Happiness Score=%{marker.size}<extra></extra>",
           "hovertext": [
            64
           ],
           "ids": [
            "Russia"
           ],
           "legendgroup": "Russia",
           "marker": {
            "color": "#ab63fa",
            "size": [
             5.716
            ],
            "sizemode": "area",
            "sizeref": 0.018967499999999998,
            "symbol": "circle"
           },
           "mode": "markers",
           "name": "Russia",
           "orientation": "v",
           "showlegend": true,
           "type": "scatter",
           "x": [
            1.13764
           ],
           "xaxis": "x",
           "y": [
            5.716
           ],
           "yaxis": "y"
          },
          {
           "hovertemplate": "<b>%{hovertext}</b><br><br>Country=Kosovo<br>Region=Central and Eastern Europe<br>Economy (GDP per Capita)=%{x}<br>Happiness Score=%{marker.size}<extra></extra>",
           "hovertext": [
            69
           ],
           "ids": [
            "Kosovo"
           ],
           "legendgroup": "Kosovo",
           "marker": {
            "color": "#FF97FF",
            "size": [
             5.589
            ],
            "sizemode": "area",
            "sizeref": 0.018967499999999998,
            "symbol": "circle"
           },
           "mode": "markers",
           "name": "Kosovo",
           "orientation": "v",
           "showlegend": true,
           "type": "scatter",
           "x": [
            0.80148
           ],
           "xaxis": "x",
           "y": [
            5.589
           ],
           "yaxis": "y"
          },
          {
           "hovertemplate": "<b>%{hovertext}</b><br><br>Country=Turkmenistan<br>Region=Central and Eastern Europe<br>Economy (GDP per Capita)=%{x}<br>Happiness Score=%{marker.size}<extra></extra>",
           "hovertext": [
            70
           ],
           "ids": [
            "Turkmenistan"
           ],
           "legendgroup": "Turkmenistan",
           "marker": {
            "color": "#FECB52",
            "size": [
             5.548
            ],
            "sizemode": "area",
            "sizeref": 0.018967499999999998,
            "symbol": "circle"
           },
           "mode": "markers",
           "name": "Turkmenistan",
           "orientation": "v",
           "showlegend": true,
           "type": "scatter",
           "x": [
            0.95847
           ],
           "xaxis": "x",
           "y": [
            5.548
           ],
           "yaxis": "y"
          },
          {
           "hovertemplate": "<b>%{hovertext}</b><br><br>Country=Estonia<br>Region=Central and Eastern Europe<br>Economy (GDP per Capita)=%{x}<br>Happiness Score=%{marker.size}<extra></extra>",
           "hovertext": [
            73
           ],
           "ids": [
            "Estonia"
           ],
           "legendgroup": "Estonia",
           "marker": {
            "color": "#00cc96",
            "size": [
             5.429
            ],
            "sizemode": "area",
            "sizeref": 0.018967499999999998,
            "symbol": "circle"
           },
           "mode": "markers",
           "name": "Estonia",
           "orientation": "v",
           "showlegend": true,
           "type": "scatter",
           "x": [
            1.15174
           ],
           "xaxis": "x",
           "y": [
            5.429
           ],
           "yaxis": "y"
          },
          {
           "hovertemplate": "<b>%{hovertext}</b><br><br>Country=Kyrgyzstan<br>Region=Central and Eastern Europe<br>Economy (GDP per Capita)=%{x}<br>Happiness Score=%{marker.size}<extra></extra>",
           "hovertext": [
            77
           ],
           "ids": [
            "Kyrgyzstan"
           ],
           "legendgroup": "Kyrgyzstan",
           "marker": {
            "color": "#FF6692",
            "size": [
             5.286
            ],
            "sizemode": "area",
            "sizeref": 0.018967499999999998,
            "symbol": "circle"
           },
           "mode": "markers",
           "name": "Kyrgyzstan",
           "orientation": "v",
           "showlegend": true,
           "type": "scatter",
           "x": [
            0.47428
           ],
           "xaxis": "x",
           "y": [
            5.286
           ],
           "yaxis": "y"
          },
          {
           "hovertemplate": "<b>%{hovertext}</b><br><br>Country=Azerbaijan<br>Region=Central and Eastern Europe<br>Economy (GDP per Capita)=%{x}<br>Happiness Score=%{marker.size}<extra></extra>",
           "hovertext": [
            80
           ],
           "ids": [
            "Azerbaijan"
           ],
           "legendgroup": "Azerbaijan",
           "marker": {
            "color": "#FECB52",
            "size": [
             5.212
            ],
            "sizemode": "area",
            "sizeref": 0.018967499999999998,
            "symbol": "circle"
           },
           "mode": "markers",
           "name": "Azerbaijan",
           "orientation": "v",
           "showlegend": true,
           "type": "scatter",
           "x": [
            1.02389
           ],
           "xaxis": "x",
           "y": [
            5.212
           ],
           "yaxis": "y"
          },
          {
           "hovertemplate": "<b>%{hovertext}</b><br><br>Country=Montenegro<br>Region=Central and Eastern Europe<br>Economy (GDP per Capita)=%{x}<br>Happiness Score=%{marker.size}<extra></extra>",
           "hovertext": [
            82
           ],
           "ids": [
            "Montenegro"
           ],
           "legendgroup": "Montenegro",
           "marker": {
            "color": "#00cc96",
            "size": [
             5.192
            ],
            "sizemode": "area",
            "sizeref": 0.018967499999999998,
            "symbol": "circle"
           },
           "mode": "markers",
           "name": "Montenegro",
           "orientation": "v",
           "showlegend": true,
           "type": "scatter",
           "x": [
            0.97438
           ],
           "xaxis": "x",
           "y": [
            5.192
           ],
           "yaxis": "y"
          },
          {
           "hovertemplate": "<b>%{hovertext}</b><br><br>Country=Romania<br>Region=Central and Eastern Europe<br>Economy (GDP per Capita)=%{x}<br>Happiness Score=%{marker.size}<extra></extra>",
           "hovertext": [
            86
           ],
           "ids": [
            "Romania"
           ],
           "legendgroup": "Romania",
           "marker": {
            "color": "#19d3f3",
            "size": [
             5.124
            ],
            "sizemode": "area",
            "sizeref": 0.018967499999999998,
            "symbol": "circle"
           },
           "mode": "markers",
           "name": "Romania",
           "orientation": "v",
           "showlegend": true,
           "type": "scatter",
           "x": [
            1.04345
           ],
           "xaxis": "x",
           "y": [
            5.124
           ],
           "yaxis": "y"
          },
          {
           "hovertemplate": "<b>%{hovertext}</b><br><br>Country=Serbia<br>Region=Central and Eastern Europe<br>Economy (GDP per Capita)=%{x}<br>Happiness Score=%{marker.size}<extra></extra>",
           "hovertext": [
            87
           ],
           "ids": [
            "Serbia"
           ],
           "legendgroup": "Serbia",
           "marker": {
            "color": "#FF6692",
            "size": [
             5.123
            ],
            "sizemode": "area",
            "sizeref": 0.018967499999999998,
            "symbol": "circle"
           },
           "mode": "markers",
           "name": "Serbia",
           "orientation": "v",
           "showlegend": true,
           "type": "scatter",
           "x": [
            0.92053
           ],
           "xaxis": "x",
           "y": [
            5.123
           ],
           "yaxis": "y"
          },
          {
           "hovertemplate": "<b>%{hovertext}</b><br><br>Country=Latvia<br>Region=Central and Eastern Europe<br>Economy (GDP per Capita)=%{x}<br>Happiness Score=%{marker.size}<extra></extra>",
           "hovertext": [
            89
           ],
           "ids": [
            "Latvia"
           ],
           "legendgroup": "Latvia",
           "marker": {
            "color": "#FF97FF",
            "size": [
             5.098
            ],
            "sizemode": "area",
            "sizeref": 0.018967499999999998,
            "symbol": "circle"
           },
           "mode": "markers",
           "name": "Latvia",
           "orientation": "v",
           "showlegend": true,
           "type": "scatter",
           "x": [
            1.11312
           ],
           "xaxis": "x",
           "y": [
            5.098
           ],
           "yaxis": "y"
          },
          {
           "hovertemplate": "<b>%{hovertext}</b><br><br>Country=Macedonia<br>Region=Central and Eastern Europe<br>Economy (GDP per Capita)=%{x}<br>Happiness Score=%{marker.size}<extra></extra>",
           "hovertext": [
            93
           ],
           "ids": [
            "Macedonia"
           ],
           "legendgroup": "Macedonia",
           "marker": {
            "color": "#00cc96",
            "size": [
             5.007
            ],
            "sizemode": "area",
            "sizeref": 0.018967499999999998,
            "symbol": "circle"
           },
           "mode": "markers",
           "name": "Macedonia",
           "orientation": "v",
           "showlegend": true,
           "type": "scatter",
           "x": [
            0.91851
           ],
           "xaxis": "x",
           "y": [
            5.007
           ],
           "yaxis": "y"
          },
          {
           "hovertemplate": "<b>%{hovertext}</b><br><br>Country=Albania<br>Region=Central and Eastern Europe<br>Economy (GDP per Capita)=%{x}<br>Happiness Score=%{marker.size}<extra></extra>",
           "hovertext": [
            95
           ],
           "ids": [
            "Albania"
           ],
           "legendgroup": "Albania",
           "marker": {
            "color": "#FFA15A",
            "size": [
             4.959
            ],
            "sizemode": "area",
            "sizeref": 0.018967499999999998,
            "symbol": "circle"
           },
           "mode": "markers",
           "name": "Albania",
           "orientation": "v",
           "showlegend": true,
           "type": "scatter",
           "x": [
            0.87867
           ],
           "xaxis": "x",
           "y": [
            4.959
           ],
           "yaxis": "y"
          },
          {
           "hovertemplate": "<b>%{hovertext}</b><br><br>Country=Bosnia and Herzegovina<br>Region=Central and Eastern Europe<br>Economy (GDP per Capita)=%{x}<br>Happiness Score=%{marker.size}<extra></extra>",
           "hovertext": [
            96
           ],
           "ids": [
            "Bosnia and Herzegovina"
           ],
           "legendgroup": "Bosnia and Herzegovina",
           "marker": {
            "color": "#19d3f3",
            "size": [
             4.949
            ],
            "sizemode": "area",
            "sizeref": 0.018967499999999998,
            "symbol": "circle"
           },
           "mode": "markers",
           "name": "Bosnia and Herzegovina",
           "orientation": "v",
           "showlegend": true,
           "type": "scatter",
           "x": [
            0.83223
           ],
           "xaxis": "x",
           "y": [
            4.949
           ],
           "yaxis": "y"
          },
          {
           "hovertemplate": "<b>%{hovertext}</b><br><br>Country=Hungary<br>Region=Central and Eastern Europe<br>Economy (GDP per Capita)=%{x}<br>Happiness Score=%{marker.size}<extra></extra>",
           "hovertext": [
            104
           ],
           "ids": [
            "Hungary"
           ],
           "legendgroup": "Hungary",
           "marker": {
            "color": "#ab63fa",
            "size": [
             4.8
            ],
            "sizemode": "area",
            "sizeref": 0.018967499999999998,
            "symbol": "circle"
           },
           "mode": "markers",
           "name": "Hungary",
           "orientation": "v",
           "showlegend": true,
           "type": "scatter",
           "x": [
            1.12094
           ],
           "xaxis": "x",
           "y": [
            4.8
           ],
           "yaxis": "y"
          },
          {
           "hovertemplate": "<b>%{hovertext}</b><br><br>Country=Tajikistan<br>Region=Central and Eastern Europe<br>Economy (GDP per Capita)=%{x}<br>Happiness Score=%{marker.size}<extra></extra>",
           "hovertext": [
            106
           ],
           "ids": [
            "Tajikistan"
           ],
           "legendgroup": "Tajikistan",
           "marker": {
            "color": "#19d3f3",
            "size": [
             4.786
            ],
            "sizemode": "area",
            "sizeref": 0.018967499999999998,
            "symbol": "circle"
           },
           "mode": "markers",
           "name": "Tajikistan",
           "orientation": "v",
           "showlegend": true,
           "type": "scatter",
           "x": [
            0.39047
           ],
           "xaxis": "x",
           "y": [
            4.786
           ],
           "yaxis": "y"
          },
          {
           "hovertemplate": "<b>%{hovertext}</b><br><br>Country=Ukraine<br>Region=Central and Eastern Europe<br>Economy (GDP per Capita)=%{x}<br>Happiness Score=%{marker.size}<extra></extra>",
           "hovertext": [
            111
           ],
           "ids": [
            "Ukraine"
           ],
           "legendgroup": "Ukraine",
           "marker": {
            "color": "#636efa",
            "size": [
             4.681
            ],
            "sizemode": "area",
            "sizeref": 0.018967499999999998,
            "symbol": "circle"
           },
           "mode": "markers",
           "name": "Ukraine",
           "orientation": "v",
           "showlegend": true,
           "type": "scatter",
           "x": [
            0.79907
           ],
           "xaxis": "x",
           "y": [
            4.681
           ],
           "yaxis": "y"
          },
          {
           "hovertemplate": "<b>%{hovertext}</b><br><br>Country=Armenia<br>Region=Central and Eastern Europe<br>Economy (GDP per Capita)=%{x}<br>Happiness Score=%{marker.size}<extra></extra>",
           "hovertext": [
            127
           ],
           "ids": [
            "Armenia"
           ],
           "legendgroup": "Armenia",
           "marker": {
            "color": "#FF6692",
            "size": [
             4.35
            ],
            "sizemode": "area",
            "sizeref": 0.018967499999999998,
            "symbol": "circle"
           },
           "mode": "markers",
           "name": "Armenia",
           "orientation": "v",
           "showlegend": true,
           "type": "scatter",
           "x": [
            0.76821
           ],
           "xaxis": "x",
           "y": [
            4.35
           ],
           "yaxis": "y"
          },
          {
           "hovertemplate": "<b>%{hovertext}</b><br><br>Country=Georgia<br>Region=Central and Eastern Europe<br>Economy (GDP per Capita)=%{x}<br>Happiness Score=%{marker.size}<extra></extra>",
           "hovertext": [
            130
           ],
           "ids": [
            "Georgia"
           ],
           "legendgroup": "Georgia",
           "marker": {
            "color": "#FECB52",
            "size": [
             4.297
            ],
            "sizemode": "area",
            "sizeref": 0.018967499999999998,
            "symbol": "circle"
           },
           "mode": "markers",
           "name": "Georgia",
           "orientation": "v",
           "showlegend": true,
           "type": "scatter",
           "x": [
            0.7419
           ],
           "xaxis": "x",
           "y": [
            4.297
           ],
           "yaxis": "y"
          },
          {
           "hovertemplate": "<b>%{hovertext}</b><br><br>Country=Bulgaria<br>Region=Central and Eastern Europe<br>Economy (GDP per Capita)=%{x}<br>Happiness Score=%{marker.size}<extra></extra>",
           "hovertext": [
            134
           ],
           "ids": [
            "Bulgaria"
           ],
           "legendgroup": "Bulgaria",
           "marker": {
            "color": "#ab63fa",
            "size": [
             4.218
            ],
            "sizemode": "area",
            "sizeref": 0.018967499999999998,
            "symbol": "circle"
           },
           "mode": "markers",
           "name": "Bulgaria",
           "orientation": "v",
           "showlegend": true,
           "type": "scatter",
           "x": [
            1.01216
           ],
           "xaxis": "x",
           "y": [
            4.218
           ],
           "yaxis": "y"
          }
         ],
         "name": "Central and Eastern Europe"
        },
        {
         "data": [
          {
           "hovertemplate": "<b>%{hovertext}</b><br><br>Country=Taiwan<br>Region=Eastern Asia<br>Economy (GDP per Capita)=%{x}<br>Happiness Score=%{marker.size}<extra></extra>",
           "hovertext": [
            38
           ],
           "ids": [
            "Taiwan"
           ],
           "legendgroup": "Taiwan",
           "marker": {
            "color": "#B6E880",
            "size": [
             6.298
            ],
            "sizemode": "area",
            "sizeref": 0.018967499999999998,
            "symbol": "circle"
           },
           "mode": "markers",
           "name": "Taiwan",
           "orientation": "v",
           "showlegend": true,
           "type": "scatter",
           "x": [
            1.29098
           ],
           "xaxis": "x",
           "y": [
            6.298
           ],
           "yaxis": "y"
          },
          {
           "hovertemplate": "<b>%{hovertext}</b><br><br>Country=Japan<br>Region=Eastern Asia<br>Economy (GDP per Capita)=%{x}<br>Happiness Score=%{marker.size}<extra></extra>",
           "hovertext": [
            46
           ],
           "ids": [
            "Japan"
           ],
           "legendgroup": "Japan",
           "marker": {
            "color": "#19d3f3",
            "size": [
             5.987
            ],
            "sizemode": "area",
            "sizeref": 0.018967499999999998,
            "symbol": "circle"
           },
           "mode": "markers",
           "name": "Japan",
           "orientation": "v",
           "showlegend": true,
           "type": "scatter",
           "x": [
            1.27074
           ],
           "xaxis": "x",
           "y": [
            5.987
           ],
           "yaxis": "y"
          },
          {
           "hovertemplate": "<b>%{hovertext}</b><br><br>Country=South Korea<br>Region=Eastern Asia<br>Economy (GDP per Capita)=%{x}<br>Happiness Score=%{marker.size}<extra></extra>",
           "hovertext": [
            47
           ],
           "ids": [
            "South Korea"
           ],
           "legendgroup": "South Korea",
           "marker": {
            "color": "#FF6692",
            "size": [
             5.984
            ],
            "sizemode": "area",
            "sizeref": 0.018967499999999998,
            "symbol": "circle"
           },
           "mode": "markers",
           "name": "South Korea",
           "orientation": "v",
           "showlegend": true,
           "type": "scatter",
           "x": [
            1.24461
           ],
           "xaxis": "x",
           "y": [
            5.984
           ],
           "yaxis": "y"
          },
          {
           "hovertemplate": "<b>%{hovertext}</b><br><br>Country=Hong Kong<br>Region=Eastern Asia<br>Economy (GDP per Capita)=%{x}<br>Happiness Score=%{marker.size}<extra></extra>",
           "hovertext": [
            72
           ],
           "ids": [
            "Hong Kong"
           ],
           "legendgroup": "Hong Kong",
           "marker": {
            "color": "#EF553B",
            "size": [
             5.474
            ],
            "sizemode": "area",
            "sizeref": 0.018967499999999998,
            "symbol": "circle"
           },
           "mode": "markers",
           "name": "Hong Kong",
           "orientation": "v",
           "showlegend": true,
           "type": "scatter",
           "x": [
            1.38604
           ],
           "xaxis": "x",
           "y": [
            5.474
           ],
           "yaxis": "y"
          },
          {
           "hovertemplate": "<b>%{hovertext}</b><br><br>Country=China<br>Region=Eastern Asia<br>Economy (GDP per Capita)=%{x}<br>Happiness Score=%{marker.size}<extra></extra>",
           "hovertext": [
            84
           ],
           "ids": [
            "China"
           ],
           "legendgroup": "China",
           "marker": {
            "color": "#ab63fa",
            "size": [
             5.14
            ],
            "sizemode": "area",
            "sizeref": 0.018967499999999998,
            "symbol": "circle"
           },
           "mode": "markers",
           "name": "China",
           "orientation": "v",
           "showlegend": true,
           "type": "scatter",
           "x": [
            0.89012
           ],
           "xaxis": "x",
           "y": [
            5.14
           ],
           "yaxis": "y"
          },
          {
           "hovertemplate": "<b>%{hovertext}</b><br><br>Country=Mongolia<br>Region=Eastern Asia<br>Economy (GDP per Capita)=%{x}<br>Happiness Score=%{marker.size}<extra></extra>",
           "hovertext": [
            100
           ],
           "ids": [
            "Mongolia"
           ],
           "legendgroup": "Mongolia",
           "marker": {
            "color": "#FECB52",
            "size": [
             4.874
            ],
            "sizemode": "area",
            "sizeref": 0.018967499999999998,
            "symbol": "circle"
           },
           "mode": "markers",
           "name": "Mongolia",
           "orientation": "v",
           "showlegend": true,
           "type": "scatter",
           "x": [
            0.82819
           ],
           "xaxis": "x",
           "y": [
            4.874
           ],
           "yaxis": "y"
          }
         ],
         "name": "Eastern Asia"
        },
        {
         "data": [
          {
           "hovertemplate": "<b>%{hovertext}</b><br><br>Country=Mauritius<br>Region=Sub-Saharan Africa<br>Economy (GDP per Capita)=%{x}<br>Happiness Score=%{marker.size}<extra></extra>",
           "hovertext": [
            71
           ],
           "ids": [
            "Mauritius"
           ],
           "legendgroup": "Mauritius",
           "marker": {
            "color": "#636efa",
            "size": [
             5.477
            ],
            "sizemode": "area",
            "sizeref": 0.018967499999999998,
            "symbol": "circle"
           },
           "mode": "markers",
           "name": "Mauritius",
           "orientation": "v",
           "showlegend": true,
           "type": "scatter",
           "x": [
            1.00761
           ],
           "xaxis": "x",
           "y": [
            5.477
           ],
           "yaxis": "y"
          },
          {
           "hovertemplate": "<b>%{hovertext}</b><br><br>Country=Nigeria<br>Region=Sub-Saharan Africa<br>Economy (GDP per Capita)=%{x}<br>Happiness Score=%{marker.size}<extra></extra>",
           "hovertext": [
            78
           ],
           "ids": [
            "Nigeria"
           ],
           "legendgroup": "Nigeria",
           "marker": {
            "color": "#B6E880",
            "size": [
             5.268
            ],
            "sizemode": "area",
            "sizeref": 0.018967499999999998,
            "symbol": "circle"
           },
           "mode": "markers",
           "name": "Nigeria",
           "orientation": "v",
           "showlegend": true,
           "type": "scatter",
           "x": [
            0.65435
           ],
           "xaxis": "x",
           "y": [
            5.268
           ],
           "yaxis": "y"
          },
          {
           "hovertemplate": "<b>%{hovertext}</b><br><br>Country=Zambia<br>Region=Sub-Saharan Africa<br>Economy (GDP per Capita)=%{x}<br>Happiness Score=%{marker.size}<extra></extra>",
           "hovertext": [
            85
           ],
           "ids": [
            "Zambia"
           ],
           "legendgroup": "Zambia",
           "marker": {
            "color": "#FFA15A",
            "size": [
             5.129
            ],
            "sizemode": "area",
            "sizeref": 0.018967499999999998,
            "symbol": "circle"
           },
           "mode": "markers",
           "name": "Zambia",
           "orientation": "v",
           "showlegend": true,
           "type": "scatter",
           "x": [
            0.47038
           ],
           "xaxis": "x",
           "y": [
            5.129
           ],
           "yaxis": "y"
          },
          {
           "hovertemplate": "<b>%{hovertext}</b><br><br>Country=Somaliland region<br>Region=Sub-Saharan Africa<br>Economy (GDP per Capita)=%{x}<br>Happiness Score=%{marker.size}<extra></extra>",
           "hovertext": [
            91
           ],
           "ids": [
            "Somaliland region"
           ],
           "legendgroup": "Somaliland region",
           "marker": {
            "color": "#636efa",
            "size": [
             5.057
            ],
            "sizemode": "area",
            "sizeref": 0.018967499999999998,
            "symbol": "circle"
           },
           "mode": "markers",
           "name": "Somaliland region",
           "orientation": "v",
           "showlegend": true,
           "type": "scatter",
           "x": [
            0.18847
           ],
           "xaxis": "x",
           "y": [
            5.057
           ],
           "yaxis": "y"
          },
          {
           "hovertemplate": "<b>%{hovertext}</b><br><br>Country=Mozambique<br>Region=Sub-Saharan Africa<br>Economy (GDP per Capita)=%{x}<br>Happiness Score=%{marker.size}<extra></extra>",
           "hovertext": [
            94
           ],
           "ids": [
            "Mozambique"
           ],
           "legendgroup": "Mozambique",
           "marker": {
            "color": "#ab63fa",
            "size": [
             4.971
            ],
            "sizemode": "area",
            "sizeref": 0.018967499999999998,
            "symbol": "circle"
           },
           "mode": "markers",
           "name": "Mozambique",
           "orientation": "v",
           "showlegend": true,
           "type": "scatter",
           "x": [
            0.08308
           ],
           "xaxis": "x",
           "y": [
            4.971
           ],
           "yaxis": "y"
          },
          {
           "hovertemplate": "<b>%{hovertext}</b><br><br>Country=Lesotho<br>Region=Sub-Saharan Africa<br>Economy (GDP per Capita)=%{x}<br>Happiness Score=%{marker.size}<extra></extra>",
           "hovertext": [
            97
           ],
           "ids": [
            "Lesotho"
           ],
           "legendgroup": "Lesotho",
           "marker": {
            "color": "#FF6692",
            "size": [
             4.898
            ],
            "sizemode": "area",
            "sizeref": 0.018967499999999998,
            "symbol": "circle"
           },
           "mode": "markers",
           "name": "Lesotho",
           "orientation": "v",
           "showlegend": true,
           "type": "scatter",
           "x": [
            0.37545
           ],
           "xaxis": "x",
           "y": [
            4.898
           ],
           "yaxis": "y"
          },
          {
           "hovertemplate": "<b>%{hovertext}</b><br><br>Country=Swaziland<br>Region=Sub-Saharan Africa<br>Economy (GDP per Capita)=%{x}<br>Happiness Score=%{marker.size}<extra></extra>",
           "hovertext": [
            101
           ],
           "ids": [
            "Swaziland"
           ],
           "legendgroup": "Swaziland",
           "marker": {
            "color": "#636efa",
            "size": [
             4.867
            ],
            "sizemode": "area",
            "sizeref": 0.018967499999999998,
            "symbol": "circle"
           },
           "mode": "markers",
           "name": "Swaziland",
           "orientation": "v",
           "showlegend": true,
           "type": "scatter",
           "x": [
            0.71206
           ],
           "xaxis": "x",
           "y": [
            4.867
           ],
           "yaxis": "y"
          },
          {
           "hovertemplate": "<b>%{hovertext}</b><br><br>Country=South Africa<br>Region=Sub-Saharan Africa<br>Economy (GDP per Capita)=%{x}<br>Happiness Score=%{marker.size}<extra></extra>",
           "hovertext": [
            113
           ],
           "ids": [
            "South Africa"
           ],
           "legendgroup": "South Africa",
           "marker": {
            "color": "#00cc96",
            "size": [
             4.642
            ],
            "sizemode": "area",
            "sizeref": 0.018967499999999998,
            "symbol": "circle"
           },
           "mode": "markers",
           "name": "South Africa",
           "orientation": "v",
           "showlegend": true,
           "type": "scatter",
           "x": [
            0.92049
           ],
           "xaxis": "x",
           "y": [
            4.642
           ],
           "yaxis": "y"
          },
          {
           "hovertemplate": "<b>%{hovertext}</b><br><br>Country=Ghana<br>Region=Sub-Saharan Africa<br>Economy (GDP per Capita)=%{x}<br>Happiness Score=%{marker.size}<extra></extra>",
           "hovertext": [
            114
           ],
           "ids": [
            "Ghana"
           ],
           "legendgroup": "Ghana",
           "marker": {
            "color": "#ab63fa",
            "size": [
             4.633
            ],
            "sizemode": "area",
            "sizeref": 0.018967499999999998,
            "symbol": "circle"
           },
           "mode": "markers",
           "name": "Ghana",
           "orientation": "v",
           "showlegend": true,
           "type": "scatter",
           "x": [
            0.54558
           ],
           "xaxis": "x",
           "y": [
            4.633
           ],
           "yaxis": "y"
          },
          {
           "hovertemplate": "<b>%{hovertext}</b><br><br>Country=Zimbabwe<br>Region=Sub-Saharan Africa<br>Economy (GDP per Capita)=%{x}<br>Happiness Score=%{marker.size}<extra></extra>",
           "hovertext": [
            115
           ],
           "ids": [
            "Zimbabwe"
           ],
           "legendgroup": "Zimbabwe",
           "marker": {
            "color": "#FFA15A",
            "size": [
             4.61
            ],
            "sizemode": "area",
            "sizeref": 0.018967499999999998,
            "symbol": "circle"
           },
           "mode": "markers",
           "name": "Zimbabwe",
           "orientation": "v",
           "showlegend": true,
           "type": "scatter",
           "x": [
            0.271
           ],
           "xaxis": "x",
           "y": [
            4.61
           ],
           "yaxis": "y"
          },
          {
           "hovertemplate": "<b>%{hovertext}</b><br><br>Country=Liberia<br>Region=Sub-Saharan Africa<br>Economy (GDP per Capita)=%{x}<br>Happiness Score=%{marker.size}<extra></extra>",
           "hovertext": [
            116
           ],
           "ids": [
            "Liberia"
           ],
           "legendgroup": "Liberia",
           "marker": {
            "color": "#19d3f3",
            "size": [
             4.571
            ],
            "sizemode": "area",
            "sizeref": 0.018967499999999998,
            "symbol": "circle"
           },
           "mode": "markers",
           "name": "Liberia",
           "orientation": "v",
           "showlegend": true,
           "type": "scatter",
           "x": [
            0.0712
           ],
           "xaxis": "x",
           "y": [
            4.571
           ],
           "yaxis": "y"
          },
          {
           "hovertemplate": "<b>%{hovertext}</b><br><br>Country=Sudan<br>Region=Sub-Saharan Africa<br>Economy (GDP per Capita)=%{x}<br>Happiness Score=%{marker.size}<extra></extra>",
           "hovertext": [
            118
           ],
           "ids": [
            "Sudan"
           ],
           "legendgroup": "Sudan",
           "marker": {
            "color": "#B6E880",
            "size": [
             4.55
            ],
            "sizemode": "area",
            "sizeref": 0.018967499999999998,
            "symbol": "circle"
           },
           "mode": "markers",
           "name": "Sudan",
           "orientation": "v",
           "showlegend": true,
           "type": "scatter",
           "x": [
            0.52107
           ],
           "xaxis": "x",
           "y": [
            4.55
           ],
           "yaxis": "y"
          },
          {
           "hovertemplate": "<b>%{hovertext}</b><br><br>Country=Congo (Kinshasa)<br>Region=Sub-Saharan Africa<br>Economy (GDP per Capita)=%{x}<br>Happiness Score=%{marker.size}<extra></extra>",
           "hovertext": [
            120
           ],
           "ids": [
            "Congo (Kinshasa)"
           ],
           "legendgroup": "Congo (Kinshasa)",
           "marker": {
            "color": "#FECB52",
            "size": [
             4.517
            ],
            "sizemode": "area",
            "sizeref": 0.018967499999999998,
            "symbol": "circle"
           },
           "mode": "markers",
           "name": "Congo (Kinshasa)",
           "orientation": "v",
           "showlegend": true,
           "type": "scatter",
           "x": [
            0
           ],
           "xaxis": "x",
           "y": [
            4.517
           ],
           "yaxis": "y"
          },
          {
           "hovertemplate": "<b>%{hovertext}</b><br><br>Country=Ethiopia<br>Region=Sub-Saharan Africa<br>Economy (GDP per Capita)=%{x}<br>Happiness Score=%{marker.size}<extra></extra>",
           "hovertext": [
            122
           ],
           "ids": [
            "Ethiopia"
           ],
           "legendgroup": "Ethiopia",
           "marker": {
            "color": "#EF553B",
            "size": [
             4.512
            ],
            "sizemode": "area",
            "sizeref": 0.018967499999999998,
            "symbol": "circle"
           },
           "mode": "markers",
           "name": "Ethiopia",
           "orientation": "v",
           "showlegend": true,
           "type": "scatter",
           "x": [
            0.19073
           ],
           "xaxis": "x",
           "y": [
            4.512
           ],
           "yaxis": "y"
          },
          {
           "hovertemplate": "<b>%{hovertext}</b><br><br>Country=Sierra Leone<br>Region=Sub-Saharan Africa<br>Economy (GDP per Capita)=%{x}<br>Happiness Score=%{marker.size}<extra></extra>",
           "hovertext": [
            123
           ],
           "ids": [
            "Sierra Leone"
           ],
           "legendgroup": "Sierra Leone",
           "marker": {
            "color": "#00cc96",
            "size": [
             4.507
            ],
            "sizemode": "area",
            "sizeref": 0.018967499999999998,
            "symbol": "circle"
           },
           "mode": "markers",
           "name": "Sierra Leone",
           "orientation": "v",
           "showlegend": true,
           "type": "scatter",
           "x": [
            0.33024
           ],
           "xaxis": "x",
           "y": [
            4.507
           ],
           "yaxis": "y"
          },
          {
           "hovertemplate": "<b>%{hovertext}</b><br><br>Country=Mauritania<br>Region=Sub-Saharan Africa<br>Economy (GDP per Capita)=%{x}<br>Happiness Score=%{marker.size}<extra></extra>",
           "hovertext": [
            124
           ],
           "ids": [
            "Mauritania"
           ],
           "legendgroup": "Mauritania",
           "marker": {
            "color": "#ab63fa",
            "size": [
             4.436
            ],
            "sizemode": "area",
            "sizeref": 0.018967499999999998,
            "symbol": "circle"
           },
           "mode": "markers",
           "name": "Mauritania",
           "orientation": "v",
           "showlegend": true,
           "type": "scatter",
           "x": [
            0.45407
           ],
           "xaxis": "x",
           "y": [
            4.436
           ],
           "yaxis": "y"
          },
          {
           "hovertemplate": "<b>%{hovertext}</b><br><br>Country=Kenya<br>Region=Sub-Saharan Africa<br>Economy (GDP per Capita)=%{x}<br>Happiness Score=%{marker.size}<extra></extra>",
           "hovertext": [
            125
           ],
           "ids": [
            "Kenya"
           ],
           "legendgroup": "Kenya",
           "marker": {
            "color": "#FFA15A",
            "size": [
             4.419
            ],
            "sizemode": "area",
            "sizeref": 0.018967499999999998,
            "symbol": "circle"
           },
           "mode": "markers",
           "name": "Kenya",
           "orientation": "v",
           "showlegend": true,
           "type": "scatter",
           "x": [
            0.36471
           ],
           "xaxis": "x",
           "y": [
            4.419
           ],
           "yaxis": "y"
          },
          {
           "hovertemplate": "<b>%{hovertext}</b><br><br>Country=Djibouti<br>Region=Sub-Saharan Africa<br>Economy (GDP per Capita)=%{x}<br>Happiness Score=%{marker.size}<extra></extra>",
           "hovertext": [
            126
           ],
           "ids": [
            "Djibouti"
           ],
           "legendgroup": "Djibouti",
           "marker": {
            "color": "#19d3f3",
            "size": [
             4.369
            ],
            "sizemode": "area",
            "sizeref": 0.018967499999999998,
            "symbol": "circle"
           },
           "mode": "markers",
           "name": "Djibouti",
           "orientation": "v",
           "showlegend": true,
           "type": "scatter",
           "x": [
            0.44025
           ],
           "xaxis": "x",
           "y": [
            4.369
           ],
           "yaxis": "y"
          },
          {
           "hovertemplate": "<b>%{hovertext}</b><br><br>Country=Botswana<br>Region=Sub-Saharan Africa<br>Economy (GDP per Capita)=%{x}<br>Happiness Score=%{marker.size}<extra></extra>",
           "hovertext": [
            128
           ],
           "ids": [
            "Botswana"
           ],
           "legendgroup": "Botswana",
           "marker": {
            "color": "#B6E880",
            "size": [
             4.332
            ],
            "sizemode": "area",
            "sizeref": 0.018967499999999998,
            "symbol": "circle"
           },
           "mode": "markers",
           "name": "Botswana",
           "orientation": "v",
           "showlegend": true,
           "type": "scatter",
           "x": [
            0.99355
           ],
           "xaxis": "x",
           "y": [
            4.332
           ],
           "yaxis": "y"
          },
          {
           "hovertemplate": "<b>%{hovertext}</b><br><br>Country=Malawi<br>Region=Sub-Saharan Africa<br>Economy (GDP per Capita)=%{x}<br>Happiness Score=%{marker.size}<extra></extra>",
           "hovertext": [
            131
           ],
           "ids": [
            "Malawi"
           ],
           "legendgroup": "Malawi",
           "marker": {
            "color": "#636efa",
            "size": [
             4.292
            ],
            "sizemode": "area",
            "sizeref": 0.018967499999999998,
            "symbol": "circle"
           },
           "mode": "markers",
           "name": "Malawi",
           "orientation": "v",
           "showlegend": true,
           "type": "scatter",
           "x": [
            0.01604
           ],
           "xaxis": "x",
           "y": [
            4.292
           ],
           "yaxis": "y"
          },
          {
           "hovertemplate": "<b>%{hovertext}</b><br><br>Country=Cameroon<br>Region=Sub-Saharan Africa<br>Economy (GDP per Capita)=%{x}<br>Happiness Score=%{marker.size}<extra></extra>",
           "hovertext": [
            133
           ],
           "ids": [
            "Cameroon"
           ],
           "legendgroup": "Cameroon",
           "marker": {
            "color": "#00cc96",
            "size": [
             4.252
            ],
            "sizemode": "area",
            "sizeref": 0.018967499999999998,
            "symbol": "circle"
           },
           "mode": "markers",
           "name": "Cameroon",
           "orientation": "v",
           "showlegend": true,
           "type": "scatter",
           "x": [
            0.4225
           ],
           "xaxis": "x",
           "y": [
            4.252
           ],
           "yaxis": "y"
          },
          {
           "hovertemplate": "<b>%{hovertext}</b><br><br>Country=Angola<br>Region=Sub-Saharan Africa<br>Economy (GDP per Capita)=%{x}<br>Happiness Score=%{marker.size}<extra></extra>",
           "hovertext": [
            137
           ],
           "ids": [
            "Angola"
           ],
           "legendgroup": "Angola",
           "marker": {
            "color": "#FF6692",
            "size": [
             4.033
            ],
            "sizemode": "area",
            "sizeref": 0.018967499999999998,
            "symbol": "circle"
           },
           "mode": "markers",
           "name": "Angola",
           "orientation": "v",
           "showlegend": true,
           "type": "scatter",
           "x": [
            0.75778
           ],
           "xaxis": "x",
           "y": [
            4.033
           ],
           "yaxis": "y"
          },
          {
           "hovertemplate": "<b>%{hovertext}</b><br><br>Country=Mali<br>Region=Sub-Saharan Africa<br>Economy (GDP per Capita)=%{x}<br>Happiness Score=%{marker.size}<extra></extra>",
           "hovertext": [
            138
           ],
           "ids": [
            "Mali"
           ],
           "legendgroup": "Mali",
           "marker": {
            "color": "#B6E880",
            "size": [
             3.995
            ],
            "sizemode": "area",
            "sizeref": 0.018967499999999998,
            "symbol": "circle"
           },
           "mode": "markers",
           "name": "Mali",
           "orientation": "v",
           "showlegend": true,
           "type": "scatter",
           "x": [
            0.26074
           ],
           "xaxis": "x",
           "y": [
            3.995
           ],
           "yaxis": "y"
          },
          {
           "hovertemplate": "<b>%{hovertext}</b><br><br>Country=Congo (Brazzaville)<br>Region=Sub-Saharan Africa<br>Economy (GDP per Capita)=%{x}<br>Happiness Score=%{marker.size}<extra></extra>",
           "hovertext": [
            139
           ],
           "ids": [
            "Congo (Brazzaville)"
           ],
           "legendgroup": "Congo (Brazzaville)",
           "marker": {
            "color": "#FF97FF",
            "size": [
             3.989
            ],
            "sizemode": "area",
            "sizeref": 0.018967499999999998,
            "symbol": "circle"
           },
           "mode": "markers",
           "name": "Congo (Brazzaville)",
           "orientation": "v",
           "showlegend": true,
           "type": "scatter",
           "x": [
            0.67866
           ],
           "xaxis": "x",
           "y": [
            3.989
           ],
           "yaxis": "y"
          },
          {
           "hovertemplate": "<b>%{hovertext}</b><br><br>Country=Comoros<br>Region=Sub-Saharan Africa<br>Economy (GDP per Capita)=%{x}<br>Happiness Score=%{marker.size}<extra></extra>",
           "hovertext": [
            140
           ],
           "ids": [
            "Comoros"
           ],
           "legendgroup": "Comoros",
           "marker": {
            "color": "#FECB52",
            "size": [
             3.956
            ],
            "sizemode": "area",
            "sizeref": 0.018967499999999998,
            "symbol": "circle"
           },
           "mode": "markers",
           "name": "Comoros",
           "orientation": "v",
           "showlegend": true,
           "type": "scatter",
           "x": [
            0.23906
           ],
           "xaxis": "x",
           "y": [
            3.956
           ],
           "yaxis": "y"
          },
          {
           "hovertemplate": "<b>%{hovertext}</b><br><br>Country=Uganda<br>Region=Sub-Saharan Africa<br>Economy (GDP per Capita)=%{x}<br>Happiness Score=%{marker.size}<extra></extra>",
           "hovertext": [
            141
           ],
           "ids": [
            "Uganda"
           ],
           "legendgroup": "Uganda",
           "marker": {
            "color": "#636efa",
            "size": [
             3.931
            ],
            "sizemode": "area",
            "sizeref": 0.018967499999999998,
            "symbol": "circle"
           },
           "mode": "markers",
           "name": "Uganda",
           "orientation": "v",
           "showlegend": true,
           "type": "scatter",
           "x": [
            0.21102
           ],
           "xaxis": "x",
           "y": [
            3.931
           ],
           "yaxis": "y"
          },
          {
           "hovertemplate": "<b>%{hovertext}</b><br><br>Country=Senegal<br>Region=Sub-Saharan Africa<br>Economy (GDP per Capita)=%{x}<br>Happiness Score=%{marker.size}<extra></extra>",
           "hovertext": [
            142
           ],
           "ids": [
            "Senegal"
           ],
           "legendgroup": "Senegal",
           "marker": {
            "color": "#EF553B",
            "size": [
             3.904
            ],
            "sizemode": "area",
            "sizeref": 0.018967499999999998,
            "symbol": "circle"
           },
           "mode": "markers",
           "name": "Senegal",
           "orientation": "v",
           "showlegend": true,
           "type": "scatter",
           "x": [
            0.36498
           ],
           "xaxis": "x",
           "y": [
            3.904
           ],
           "yaxis": "y"
          },
          {
           "hovertemplate": "<b>%{hovertext}</b><br><br>Country=Gabon<br>Region=Sub-Saharan Africa<br>Economy (GDP per Capita)=%{x}<br>Happiness Score=%{marker.size}<extra></extra>",
           "hovertext": [
            143
           ],
           "ids": [
            "Gabon"
           ],
           "legendgroup": "Gabon",
           "marker": {
            "color": "#00cc96",
            "size": [
             3.896
            ],
            "sizemode": "area",
            "sizeref": 0.018967499999999998,
            "symbol": "circle"
           },
           "mode": "markers",
           "name": "Gabon",
           "orientation": "v",
           "showlegend": true,
           "type": "scatter",
           "x": [
            1.06024
           ],
           "xaxis": "x",
           "y": [
            3.896
           ],
           "yaxis": "y"
          },
          {
           "hovertemplate": "<b>%{hovertext}</b><br><br>Country=Niger<br>Region=Sub-Saharan Africa<br>Economy (GDP per Capita)=%{x}<br>Happiness Score=%{marker.size}<extra></extra>",
           "hovertext": [
            144
           ],
           "ids": [
            "Niger"
           ],
           "legendgroup": "Niger",
           "marker": {
            "color": "#ab63fa",
            "size": [
             3.845
            ],
            "sizemode": "area",
            "sizeref": 0.018967499999999998,
            "symbol": "circle"
           },
           "mode": "markers",
           "name": "Niger",
           "orientation": "v",
           "showlegend": true,
           "type": "scatter",
           "x": [
            0.0694
           ],
           "xaxis": "x",
           "y": [
            3.845
           ],
           "yaxis": "y"
          },
          {
           "hovertemplate": "<b>%{hovertext}</b><br><br>Country=Tanzania<br>Region=Sub-Saharan Africa<br>Economy (GDP per Capita)=%{x}<br>Happiness Score=%{marker.size}<extra></extra>",
           "hovertext": [
            146
           ],
           "ids": [
            "Tanzania"
           ],
           "legendgroup": "Tanzania",
           "marker": {
            "color": "#19d3f3",
            "size": [
             3.781
            ],
            "sizemode": "area",
            "sizeref": 0.018967499999999998,
            "symbol": "circle"
           },
           "mode": "markers",
           "name": "Tanzania",
           "orientation": "v",
           "showlegend": true,
           "type": "scatter",
           "x": [
            0.2852
           ],
           "xaxis": "x",
           "y": [
            3.781
           ],
           "yaxis": "y"
          },
          {
           "hovertemplate": "<b>%{hovertext}</b><br><br>Country=Madagascar<br>Region=Sub-Saharan Africa<br>Economy (GDP per Capita)=%{x}<br>Happiness Score=%{marker.size}<extra></extra>",
           "hovertext": [
            147
           ],
           "ids": [
            "Madagascar"
           ],
           "legendgroup": "Madagascar",
           "marker": {
            "color": "#FF6692",
            "size": [
             3.681
            ],
            "sizemode": "area",
            "sizeref": 0.018967499999999998,
            "symbol": "circle"
           },
           "mode": "markers",
           "name": "Madagascar",
           "orientation": "v",
           "showlegend": true,
           "type": "scatter",
           "x": [
            0.20824
           ],
           "xaxis": "x",
           "y": [
            3.681
           ],
           "yaxis": "y"
          },
          {
           "hovertemplate": "<b>%{hovertext}</b><br><br>Country=Central African Republic<br>Region=Sub-Saharan Africa<br>Economy (GDP per Capita)=%{x}<br>Happiness Score=%{marker.size}<extra></extra>",
           "hovertext": [
            148
           ],
           "ids": [
            "Central African Republic"
           ],
           "legendgroup": "Central African Republic",
           "marker": {
            "color": "#B6E880",
            "size": [
             3.678
            ],
            "sizemode": "area",
            "sizeref": 0.018967499999999998,
            "symbol": "circle"
           },
           "mode": "markers",
           "name": "Central African Republic",
           "orientation": "v",
           "showlegend": true,
           "type": "scatter",
           "x": [
            0.0785
           ],
           "xaxis": "x",
           "y": [
            3.678
           ],
           "yaxis": "y"
          },
          {
           "hovertemplate": "<b>%{hovertext}</b><br><br>Country=Chad<br>Region=Sub-Saharan Africa<br>Economy (GDP per Capita)=%{x}<br>Happiness Score=%{marker.size}<extra></extra>",
           "hovertext": [
            149
           ],
           "ids": [
            "Chad"
           ],
           "legendgroup": "Chad",
           "marker": {
            "color": "#FF97FF",
            "size": [
             3.667
            ],
            "sizemode": "area",
            "sizeref": 0.018967499999999998,
            "symbol": "circle"
           },
           "mode": "markers",
           "name": "Chad",
           "orientation": "v",
           "showlegend": true,
           "type": "scatter",
           "x": [
            0.34193
           ],
           "xaxis": "x",
           "y": [
            3.667
           ],
           "yaxis": "y"
          },
          {
           "hovertemplate": "<b>%{hovertext}</b><br><br>Country=Guinea<br>Region=Sub-Saharan Africa<br>Economy (GDP per Capita)=%{x}<br>Happiness Score=%{marker.size}<extra></extra>",
           "hovertext": [
            150
           ],
           "ids": [
            "Guinea"
           ],
           "legendgroup": "Guinea",
           "marker": {
            "color": "#FECB52",
            "size": [
             3.656
            ],
            "sizemode": "area",
            "sizeref": 0.018967499999999998,
            "symbol": "circle"
           },
           "mode": "markers",
           "name": "Guinea",
           "orientation": "v",
           "showlegend": true,
           "type": "scatter",
           "x": [
            0.17417
           ],
           "xaxis": "x",
           "y": [
            3.656
           ],
           "yaxis": "y"
          },
          {
           "hovertemplate": "<b>%{hovertext}</b><br><br>Country=Ivory Coast<br>Region=Sub-Saharan Africa<br>Economy (GDP per Capita)=%{x}<br>Happiness Score=%{marker.size}<extra></extra>",
           "hovertext": [
            151
           ],
           "ids": [
            "Ivory Coast"
           ],
           "legendgroup": "Ivory Coast",
           "marker": {
            "color": "#636efa",
            "size": [
             3.655
            ],
            "sizemode": "area",
            "sizeref": 0.018967499999999998,
            "symbol": "circle"
           },
           "mode": "markers",
           "name": "Ivory Coast",
           "orientation": "v",
           "showlegend": true,
           "type": "scatter",
           "x": [
            0.46534
           ],
           "xaxis": "x",
           "y": [
            3.655
           ],
           "yaxis": "y"
          },
          {
           "hovertemplate": "<b>%{hovertext}</b><br><br>Country=Burkina Faso<br>Region=Sub-Saharan Africa<br>Economy (GDP per Capita)=%{x}<br>Happiness Score=%{marker.size}<extra></extra>",
           "hovertext": [
            152
           ],
           "ids": [
            "Burkina Faso"
           ],
           "legendgroup": "Burkina Faso",
           "marker": {
            "color": "#EF553B",
            "size": [
             3.587
            ],
            "sizemode": "area",
            "sizeref": 0.018967499999999998,
            "symbol": "circle"
           },
           "mode": "markers",
           "name": "Burkina Faso",
           "orientation": "v",
           "showlegend": true,
           "type": "scatter",
           "x": [
            0.25812
           ],
           "xaxis": "x",
           "y": [
            3.587
           ],
           "yaxis": "y"
          },
          {
           "hovertemplate": "<b>%{hovertext}</b><br><br>Country=Rwanda<br>Region=Sub-Saharan Africa<br>Economy (GDP per Capita)=%{x}<br>Happiness Score=%{marker.size}<extra></extra>",
           "hovertext": [
            154
           ],
           "ids": [
            "Rwanda"
           ],
           "legendgroup": "Rwanda",
           "marker": {
            "color": "#ab63fa",
            "size": [
             3.465
            ],
            "sizemode": "area",
            "sizeref": 0.018967499999999998,
            "symbol": "circle"
           },
           "mode": "markers",
           "name": "Rwanda",
           "orientation": "v",
           "showlegend": true,
           "type": "scatter",
           "x": [
            0.22208
           ],
           "xaxis": "x",
           "y": [
            3.465
           ],
           "yaxis": "y"
          },
          {
           "hovertemplate": "<b>%{hovertext}</b><br><br>Country=Benin<br>Region=Sub-Saharan Africa<br>Economy (GDP per Capita)=%{x}<br>Happiness Score=%{marker.size}<extra></extra>",
           "hovertext": [
            155
           ],
           "ids": [
            "Benin"
           ],
           "legendgroup": "Benin",
           "marker": {
            "color": "#FFA15A",
            "size": [
             3.34
            ],
            "sizemode": "area",
            "sizeref": 0.018967499999999998,
            "symbol": "circle"
           },
           "mode": "markers",
           "name": "Benin",
           "orientation": "v",
           "showlegend": true,
           "type": "scatter",
           "x": [
            0.28665
           ],
           "xaxis": "x",
           "y": [
            3.34
           ],
           "yaxis": "y"
          },
          {
           "hovertemplate": "<b>%{hovertext}</b><br><br>Country=Burundi<br>Region=Sub-Saharan Africa<br>Economy (GDP per Capita)=%{x}<br>Happiness Score=%{marker.size}<extra></extra>",
           "hovertext": [
            157
           ],
           "ids": [
            "Burundi"
           ],
           "legendgroup": "Burundi",
           "marker": {
            "color": "#FF6692",
            "size": [
             2.905
            ],
            "sizemode": "area",
            "sizeref": 0.018967499999999998,
            "symbol": "circle"
           },
           "mode": "markers",
           "name": "Burundi",
           "orientation": "v",
           "showlegend": true,
           "type": "scatter",
           "x": [
            0.0153
           ],
           "xaxis": "x",
           "y": [
            2.905
           ],
           "yaxis": "y"
          },
          {
           "hovertemplate": "<b>%{hovertext}</b><br><br>Country=Togo<br>Region=Sub-Saharan Africa<br>Economy (GDP per Capita)=%{x}<br>Happiness Score=%{marker.size}<extra></extra>",
           "hovertext": [
            158
           ],
           "ids": [
            "Togo"
           ],
           "legendgroup": "Togo",
           "marker": {
            "color": "#B6E880",
            "size": [
             2.839
            ],
            "sizemode": "area",
            "sizeref": 0.018967499999999998,
            "symbol": "circle"
           },
           "mode": "markers",
           "name": "Togo",
           "orientation": "v",
           "showlegend": true,
           "type": "scatter",
           "x": [
            0.20868
           ],
           "xaxis": "x",
           "y": [
            2.839
           ],
           "yaxis": "y"
          }
         ],
         "name": "Sub-Saharan Africa"
        },
        {
         "data": [
          {
           "hovertemplate": "<b>%{hovertext}</b><br><br>Country=Bhutan<br>Region=Southern Asia<br>Economy (GDP per Capita)=%{x}<br>Happiness Score=%{marker.size}<extra></extra>",
           "hovertext": [
            79
           ],
           "ids": [
            "Bhutan"
           ],
           "legendgroup": "Bhutan",
           "marker": {
            "color": "#FF97FF",
            "size": [
             5.253
            ],
            "sizemode": "area",
            "sizeref": 0.018967499999999998,
            "symbol": "circle"
           },
           "mode": "markers",
           "name": "Bhutan",
           "orientation": "v",
           "showlegend": true,
           "type": "scatter",
           "x": [
            0.77042
           ],
           "xaxis": "x",
           "y": [
            5.253
           ],
           "yaxis": "y"
          },
          {
           "hovertemplate": "<b>%{hovertext}</b><br><br>Country=Pakistan<br>Region=Southern Asia<br>Economy (GDP per Capita)=%{x}<br>Happiness Score=%{marker.size}<extra></extra>",
           "hovertext": [
            81
           ],
           "ids": [
            "Pakistan"
           ],
           "legendgroup": "Pakistan",
           "marker": {
            "color": "#636efa",
            "size": [
             5.194
            ],
            "sizemode": "area",
            "sizeref": 0.018967499999999998,
            "symbol": "circle"
           },
           "mode": "markers",
           "name": "Pakistan",
           "orientation": "v",
           "showlegend": true,
           "type": "scatter",
           "x": [
            0.59543
           ],
           "xaxis": "x",
           "y": [
            5.194
           ],
           "yaxis": "y"
          },
          {
           "hovertemplate": "<b>%{hovertext}</b><br><br>Country=Bangladesh<br>Region=Southern Asia<br>Economy (GDP per Capita)=%{x}<br>Happiness Score=%{marker.size}<extra></extra>",
           "hovertext": [
            109
           ],
           "ids": [
            "Bangladesh"
           ],
           "legendgroup": "Bangladesh",
           "marker": {
            "color": "#FF97FF",
            "size": [
             4.694
            ],
            "sizemode": "area",
            "sizeref": 0.018967499999999998,
            "symbol": "circle"
           },
           "mode": "markers",
           "name": "Bangladesh",
           "orientation": "v",
           "showlegend": true,
           "type": "scatter",
           "x": [
            0.39753
           ],
           "xaxis": "x",
           "y": [
            4.694
           ],
           "yaxis": "y"
          },
          {
           "hovertemplate": "<b>%{hovertext}</b><br><br>Country=India<br>Region=Southern Asia<br>Economy (GDP per Capita)=%{x}<br>Happiness Score=%{marker.size}<extra></extra>",
           "hovertext": [
            117
           ],
           "ids": [
            "India"
           ],
           "legendgroup": "India",
           "marker": {
            "color": "#FF6692",
            "size": [
             4.565
            ],
            "sizemode": "area",
            "sizeref": 0.018967499999999998,
            "symbol": "circle"
           },
           "mode": "markers",
           "name": "India",
           "orientation": "v",
           "showlegend": true,
           "type": "scatter",
           "x": [
            0.64499
           ],
           "xaxis": "x",
           "y": [
            4.565
           ],
           "yaxis": "y"
          },
          {
           "hovertemplate": "<b>%{hovertext}</b><br><br>Country=Nepal<br>Region=Southern Asia<br>Economy (GDP per Capita)=%{x}<br>Happiness Score=%{marker.size}<extra></extra>",
           "hovertext": [
            121
           ],
           "ids": [
            "Nepal"
           ],
           "legendgroup": "Nepal",
           "marker": {
            "color": "#636efa",
            "size": [
             4.514
            ],
            "sizemode": "area",
            "sizeref": 0.018967499999999998,
            "symbol": "circle"
           },
           "mode": "markers",
           "name": "Nepal",
           "orientation": "v",
           "showlegend": true,
           "type": "scatter",
           "x": [
            0.35997
           ],
           "xaxis": "x",
           "y": [
            4.514
           ],
           "yaxis": "y"
          },
          {
           "hovertemplate": "<b>%{hovertext}</b><br><br>Country=Sri Lanka<br>Region=Southern Asia<br>Economy (GDP per Capita)=%{x}<br>Happiness Score=%{marker.size}<extra></extra>",
           "hovertext": [
            132
           ],
           "ids": [
            "Sri Lanka"
           ],
           "legendgroup": "Sri Lanka",
           "marker": {
            "color": "#EF553B",
            "size": [
             4.271
            ],
            "sizemode": "area",
            "sizeref": 0.018967499999999998,
            "symbol": "circle"
           },
           "mode": "markers",
           "name": "Sri Lanka",
           "orientation": "v",
           "showlegend": true,
           "type": "scatter",
           "x": [
            0.83524
           ],
           "xaxis": "x",
           "y": [
            4.271
           ],
           "yaxis": "y"
          },
          {
           "hovertemplate": "<b>%{hovertext}</b><br><br>Country=Afghanistan<br>Region=Southern Asia<br>Economy (GDP per Capita)=%{x}<br>Happiness Score=%{marker.size}<extra></extra>",
           "hovertext": [
            153
           ],
           "ids": [
            "Afghanistan"
           ],
           "legendgroup": "Afghanistan",
           "marker": {
            "color": "#00cc96",
            "size": [
             3.575
            ],
            "sizemode": "area",
            "sizeref": 0.018967499999999998,
            "symbol": "circle"
           },
           "mode": "markers",
           "name": "Afghanistan",
           "orientation": "v",
           "showlegend": true,
           "type": "scatter",
           "x": [
            0.31982
           ],
           "xaxis": "x",
           "y": [
            3.575
           ],
           "yaxis": "y"
          }
         ],
         "name": "Southern Asia"
        }
       ],
       "layout": {
        "legend": {
         "itemsizing": "constant",
         "title": {
          "text": "Country"
         },
         "tracegroupgap": 0
        },
        "sliders": [
         {
          "active": 0,
          "currentvalue": {
           "prefix": "Region="
          },
          "len": 0.9,
          "pad": {
           "b": 10,
           "t": 60
          },
          "steps": [
           {
            "args": [
             [
              "Western Europe"
             ],
             {
              "frame": {
               "duration": 0,
               "redraw": false
              },
              "fromcurrent": true,
              "mode": "immediate",
              "transition": {
               "duration": 0,
               "easing": "linear"
              }
             }
            ],
            "label": "Western Europe",
            "method": "animate"
           },
           {
            "args": [
             [
              "North America"
             ],
             {
              "frame": {
               "duration": 0,
               "redraw": false
              },
              "fromcurrent": true,
              "mode": "immediate",
              "transition": {
               "duration": 0,
               "easing": "linear"
              }
             }
            ],
            "label": "North America",
            "method": "animate"
           },
           {
            "args": [
             [
              "Australia and New Zealand"
             ],
             {
              "frame": {
               "duration": 0,
               "redraw": false
              },
              "fromcurrent": true,
              "mode": "immediate",
              "transition": {
               "duration": 0,
               "easing": "linear"
              }
             }
            ],
            "label": "Australia and New Zealand",
            "method": "animate"
           },
           {
            "args": [
             [
              "Middle East and Northern Africa"
             ],
             {
              "frame": {
               "duration": 0,
               "redraw": false
              },
              "fromcurrent": true,
              "mode": "immediate",
              "transition": {
               "duration": 0,
               "easing": "linear"
              }
             }
            ],
            "label": "Middle East and Northern Africa",
            "method": "animate"
           },
           {
            "args": [
             [
              "Latin America and Caribbean"
             ],
             {
              "frame": {
               "duration": 0,
               "redraw": false
              },
              "fromcurrent": true,
              "mode": "immediate",
              "transition": {
               "duration": 0,
               "easing": "linear"
              }
             }
            ],
            "label": "Latin America and Caribbean",
            "method": "animate"
           },
           {
            "args": [
             [
              "Southeastern Asia"
             ],
             {
              "frame": {
               "duration": 0,
               "redraw": false
              },
              "fromcurrent": true,
              "mode": "immediate",
              "transition": {
               "duration": 0,
               "easing": "linear"
              }
             }
            ],
            "label": "Southeastern Asia",
            "method": "animate"
           },
           {
            "args": [
             [
              "Central and Eastern Europe"
             ],
             {
              "frame": {
               "duration": 0,
               "redraw": false
              },
              "fromcurrent": true,
              "mode": "immediate",
              "transition": {
               "duration": 0,
               "easing": "linear"
              }
             }
            ],
            "label": "Central and Eastern Europe",
            "method": "animate"
           },
           {
            "args": [
             [
              "Eastern Asia"
             ],
             {
              "frame": {
               "duration": 0,
               "redraw": false
              },
              "fromcurrent": true,
              "mode": "immediate",
              "transition": {
               "duration": 0,
               "easing": "linear"
              }
             }
            ],
            "label": "Eastern Asia",
            "method": "animate"
           },
           {
            "args": [
             [
              "Sub-Saharan Africa"
             ],
             {
              "frame": {
               "duration": 0,
               "redraw": false
              },
              "fromcurrent": true,
              "mode": "immediate",
              "transition": {
               "duration": 0,
               "easing": "linear"
              }
             }
            ],
            "label": "Sub-Saharan Africa",
            "method": "animate"
           },
           {
            "args": [
             [
              "Southern Asia"
             ],
             {
              "frame": {
               "duration": 0,
               "redraw": false
              },
              "fromcurrent": true,
              "mode": "immediate",
              "transition": {
               "duration": 0,
               "easing": "linear"
              }
             }
            ],
            "label": "Southern Asia",
            "method": "animate"
           }
          ],
          "x": 0.1,
          "xanchor": "left",
          "y": 0,
          "yanchor": "top"
         }
        ],
        "template": {
         "data": {
          "bar": [
           {
            "error_x": {
             "color": "#2a3f5f"
            },
            "error_y": {
             "color": "#2a3f5f"
            },
            "marker": {
             "line": {
              "color": "#E5ECF6",
              "width": 0.5
             },
             "pattern": {
              "fillmode": "overlay",
              "size": 10,
              "solidity": 0.2
             }
            },
            "type": "bar"
           }
          ],
          "barpolar": [
           {
            "marker": {
             "line": {
              "color": "#E5ECF6",
              "width": 0.5
             },
             "pattern": {
              "fillmode": "overlay",
              "size": 10,
              "solidity": 0.2
             }
            },
            "type": "barpolar"
           }
          ],
          "carpet": [
           {
            "aaxis": {
             "endlinecolor": "#2a3f5f",
             "gridcolor": "white",
             "linecolor": "white",
             "minorgridcolor": "white",
             "startlinecolor": "#2a3f5f"
            },
            "baxis": {
             "endlinecolor": "#2a3f5f",
             "gridcolor": "white",
             "linecolor": "white",
             "minorgridcolor": "white",
             "startlinecolor": "#2a3f5f"
            },
            "type": "carpet"
           }
          ],
          "choropleth": [
           {
            "colorbar": {
             "outlinewidth": 0,
             "ticks": ""
            },
            "type": "choropleth"
           }
          ],
          "contour": [
           {
            "colorbar": {
             "outlinewidth": 0,
             "ticks": ""
            },
            "colorscale": [
             [
              0,
              "#0d0887"
             ],
             [
              0.1111111111111111,
              "#46039f"
             ],
             [
              0.2222222222222222,
              "#7201a8"
             ],
             [
              0.3333333333333333,
              "#9c179e"
             ],
             [
              0.4444444444444444,
              "#bd3786"
             ],
             [
              0.5555555555555556,
              "#d8576b"
             ],
             [
              0.6666666666666666,
              "#ed7953"
             ],
             [
              0.7777777777777778,
              "#fb9f3a"
             ],
             [
              0.8888888888888888,
              "#fdca26"
             ],
             [
              1,
              "#f0f921"
             ]
            ],
            "type": "contour"
           }
          ],
          "contourcarpet": [
           {
            "colorbar": {
             "outlinewidth": 0,
             "ticks": ""
            },
            "type": "contourcarpet"
           }
          ],
          "heatmap": [
           {
            "colorbar": {
             "outlinewidth": 0,
             "ticks": ""
            },
            "colorscale": [
             [
              0,
              "#0d0887"
             ],
             [
              0.1111111111111111,
              "#46039f"
             ],
             [
              0.2222222222222222,
              "#7201a8"
             ],
             [
              0.3333333333333333,
              "#9c179e"
             ],
             [
              0.4444444444444444,
              "#bd3786"
             ],
             [
              0.5555555555555556,
              "#d8576b"
             ],
             [
              0.6666666666666666,
              "#ed7953"
             ],
             [
              0.7777777777777778,
              "#fb9f3a"
             ],
             [
              0.8888888888888888,
              "#fdca26"
             ],
             [
              1,
              "#f0f921"
             ]
            ],
            "type": "heatmap"
           }
          ],
          "heatmapgl": [
           {
            "colorbar": {
             "outlinewidth": 0,
             "ticks": ""
            },
            "colorscale": [
             [
              0,
              "#0d0887"
             ],
             [
              0.1111111111111111,
              "#46039f"
             ],
             [
              0.2222222222222222,
              "#7201a8"
             ],
             [
              0.3333333333333333,
              "#9c179e"
             ],
             [
              0.4444444444444444,
              "#bd3786"
             ],
             [
              0.5555555555555556,
              "#d8576b"
             ],
             [
              0.6666666666666666,
              "#ed7953"
             ],
             [
              0.7777777777777778,
              "#fb9f3a"
             ],
             [
              0.8888888888888888,
              "#fdca26"
             ],
             [
              1,
              "#f0f921"
             ]
            ],
            "type": "heatmapgl"
           }
          ],
          "histogram": [
           {
            "marker": {
             "pattern": {
              "fillmode": "overlay",
              "size": 10,
              "solidity": 0.2
             }
            },
            "type": "histogram"
           }
          ],
          "histogram2d": [
           {
            "colorbar": {
             "outlinewidth": 0,
             "ticks": ""
            },
            "colorscale": [
             [
              0,
              "#0d0887"
             ],
             [
              0.1111111111111111,
              "#46039f"
             ],
             [
              0.2222222222222222,
              "#7201a8"
             ],
             [
              0.3333333333333333,
              "#9c179e"
             ],
             [
              0.4444444444444444,
              "#bd3786"
             ],
             [
              0.5555555555555556,
              "#d8576b"
             ],
             [
              0.6666666666666666,
              "#ed7953"
             ],
             [
              0.7777777777777778,
              "#fb9f3a"
             ],
             [
              0.8888888888888888,
              "#fdca26"
             ],
             [
              1,
              "#f0f921"
             ]
            ],
            "type": "histogram2d"
           }
          ],
          "histogram2dcontour": [
           {
            "colorbar": {
             "outlinewidth": 0,
             "ticks": ""
            },
            "colorscale": [
             [
              0,
              "#0d0887"
             ],
             [
              0.1111111111111111,
              "#46039f"
             ],
             [
              0.2222222222222222,
              "#7201a8"
             ],
             [
              0.3333333333333333,
              "#9c179e"
             ],
             [
              0.4444444444444444,
              "#bd3786"
             ],
             [
              0.5555555555555556,
              "#d8576b"
             ],
             [
              0.6666666666666666,
              "#ed7953"
             ],
             [
              0.7777777777777778,
              "#fb9f3a"
             ],
             [
              0.8888888888888888,
              "#fdca26"
             ],
             [
              1,
              "#f0f921"
             ]
            ],
            "type": "histogram2dcontour"
           }
          ],
          "mesh3d": [
           {
            "colorbar": {
             "outlinewidth": 0,
             "ticks": ""
            },
            "type": "mesh3d"
           }
          ],
          "parcoords": [
           {
            "line": {
             "colorbar": {
              "outlinewidth": 0,
              "ticks": ""
             }
            },
            "type": "parcoords"
           }
          ],
          "pie": [
           {
            "automargin": true,
            "type": "pie"
           }
          ],
          "scatter": [
           {
            "fillpattern": {
             "fillmode": "overlay",
             "size": 10,
             "solidity": 0.2
            },
            "type": "scatter"
           }
          ],
          "scatter3d": [
           {
            "line": {
             "colorbar": {
              "outlinewidth": 0,
              "ticks": ""
             }
            },
            "marker": {
             "colorbar": {
              "outlinewidth": 0,
              "ticks": ""
             }
            },
            "type": "scatter3d"
           }
          ],
          "scattercarpet": [
           {
            "marker": {
             "colorbar": {
              "outlinewidth": 0,
              "ticks": ""
             }
            },
            "type": "scattercarpet"
           }
          ],
          "scattergeo": [
           {
            "marker": {
             "colorbar": {
              "outlinewidth": 0,
              "ticks": ""
             }
            },
            "type": "scattergeo"
           }
          ],
          "scattergl": [
           {
            "marker": {
             "colorbar": {
              "outlinewidth": 0,
              "ticks": ""
             }
            },
            "type": "scattergl"
           }
          ],
          "scattermapbox": [
           {
            "marker": {
             "colorbar": {
              "outlinewidth": 0,
              "ticks": ""
             }
            },
            "type": "scattermapbox"
           }
          ],
          "scatterpolar": [
           {
            "marker": {
             "colorbar": {
              "outlinewidth": 0,
              "ticks": ""
             }
            },
            "type": "scatterpolar"
           }
          ],
          "scatterpolargl": [
           {
            "marker": {
             "colorbar": {
              "outlinewidth": 0,
              "ticks": ""
             }
            },
            "type": "scatterpolargl"
           }
          ],
          "scatterternary": [
           {
            "marker": {
             "colorbar": {
              "outlinewidth": 0,
              "ticks": ""
             }
            },
            "type": "scatterternary"
           }
          ],
          "surface": [
           {
            "colorbar": {
             "outlinewidth": 0,
             "ticks": ""
            },
            "colorscale": [
             [
              0,
              "#0d0887"
             ],
             [
              0.1111111111111111,
              "#46039f"
             ],
             [
              0.2222222222222222,
              "#7201a8"
             ],
             [
              0.3333333333333333,
              "#9c179e"
             ],
             [
              0.4444444444444444,
              "#bd3786"
             ],
             [
              0.5555555555555556,
              "#d8576b"
             ],
             [
              0.6666666666666666,
              "#ed7953"
             ],
             [
              0.7777777777777778,
              "#fb9f3a"
             ],
             [
              0.8888888888888888,
              "#fdca26"
             ],
             [
              1,
              "#f0f921"
             ]
            ],
            "type": "surface"
           }
          ],
          "table": [
           {
            "cells": {
             "fill": {
              "color": "#EBF0F8"
             },
             "line": {
              "color": "white"
             }
            },
            "header": {
             "fill": {
              "color": "#C8D4E3"
             },
             "line": {
              "color": "white"
             }
            },
            "type": "table"
           }
          ]
         },
         "layout": {
          "annotationdefaults": {
           "arrowcolor": "#2a3f5f",
           "arrowhead": 0,
           "arrowwidth": 1
          },
          "autotypenumbers": "strict",
          "coloraxis": {
           "colorbar": {
            "outlinewidth": 0,
            "ticks": ""
           }
          },
          "colorscale": {
           "diverging": [
            [
             0,
             "#8e0152"
            ],
            [
             0.1,
             "#c51b7d"
            ],
            [
             0.2,
             "#de77ae"
            ],
            [
             0.3,
             "#f1b6da"
            ],
            [
             0.4,
             "#fde0ef"
            ],
            [
             0.5,
             "#f7f7f7"
            ],
            [
             0.6,
             "#e6f5d0"
            ],
            [
             0.7,
             "#b8e186"
            ],
            [
             0.8,
             "#7fbc41"
            ],
            [
             0.9,
             "#4d9221"
            ],
            [
             1,
             "#276419"
            ]
           ],
           "sequential": [
            [
             0,
             "#0d0887"
            ],
            [
             0.1111111111111111,
             "#46039f"
            ],
            [
             0.2222222222222222,
             "#7201a8"
            ],
            [
             0.3333333333333333,
             "#9c179e"
            ],
            [
             0.4444444444444444,
             "#bd3786"
            ],
            [
             0.5555555555555556,
             "#d8576b"
            ],
            [
             0.6666666666666666,
             "#ed7953"
            ],
            [
             0.7777777777777778,
             "#fb9f3a"
            ],
            [
             0.8888888888888888,
             "#fdca26"
            ],
            [
             1,
             "#f0f921"
            ]
           ],
           "sequentialminus": [
            [
             0,
             "#0d0887"
            ],
            [
             0.1111111111111111,
             "#46039f"
            ],
            [
             0.2222222222222222,
             "#7201a8"
            ],
            [
             0.3333333333333333,
             "#9c179e"
            ],
            [
             0.4444444444444444,
             "#bd3786"
            ],
            [
             0.5555555555555556,
             "#d8576b"
            ],
            [
             0.6666666666666666,
             "#ed7953"
            ],
            [
             0.7777777777777778,
             "#fb9f3a"
            ],
            [
             0.8888888888888888,
             "#fdca26"
            ],
            [
             1,
             "#f0f921"
            ]
           ]
          },
          "colorway": [
           "#636efa",
           "#EF553B",
           "#00cc96",
           "#ab63fa",
           "#FFA15A",
           "#19d3f3",
           "#FF6692",
           "#B6E880",
           "#FF97FF",
           "#FECB52"
          ],
          "font": {
           "color": "#2a3f5f"
          },
          "geo": {
           "bgcolor": "white",
           "lakecolor": "white",
           "landcolor": "#E5ECF6",
           "showlakes": true,
           "showland": true,
           "subunitcolor": "white"
          },
          "hoverlabel": {
           "align": "left"
          },
          "hovermode": "closest",
          "mapbox": {
           "style": "light"
          },
          "paper_bgcolor": "white",
          "plot_bgcolor": "#E5ECF6",
          "polar": {
           "angularaxis": {
            "gridcolor": "white",
            "linecolor": "white",
            "ticks": ""
           },
           "bgcolor": "#E5ECF6",
           "radialaxis": {
            "gridcolor": "white",
            "linecolor": "white",
            "ticks": ""
           }
          },
          "scene": {
           "xaxis": {
            "backgroundcolor": "#E5ECF6",
            "gridcolor": "white",
            "gridwidth": 2,
            "linecolor": "white",
            "showbackground": true,
            "ticks": "",
            "zerolinecolor": "white"
           },
           "yaxis": {
            "backgroundcolor": "#E5ECF6",
            "gridcolor": "white",
            "gridwidth": 2,
            "linecolor": "white",
            "showbackground": true,
            "ticks": "",
            "zerolinecolor": "white"
           },
           "zaxis": {
            "backgroundcolor": "#E5ECF6",
            "gridcolor": "white",
            "gridwidth": 2,
            "linecolor": "white",
            "showbackground": true,
            "ticks": "",
            "zerolinecolor": "white"
           }
          },
          "shapedefaults": {
           "line": {
            "color": "#2a3f5f"
           }
          },
          "ternary": {
           "aaxis": {
            "gridcolor": "white",
            "linecolor": "white",
            "ticks": ""
           },
           "baxis": {
            "gridcolor": "white",
            "linecolor": "white",
            "ticks": ""
           },
           "bgcolor": "#E5ECF6",
           "caxis": {
            "gridcolor": "white",
            "linecolor": "white",
            "ticks": ""
           }
          },
          "title": {
           "x": 0.05
          },
          "xaxis": {
           "automargin": true,
           "gridcolor": "white",
           "linecolor": "white",
           "ticks": "",
           "title": {
            "standoff": 15
           },
           "zerolinecolor": "white",
           "zerolinewidth": 2
          },
          "yaxis": {
           "automargin": true,
           "gridcolor": "white",
           "linecolor": "white",
           "ticks": "",
           "title": {
            "standoff": 15
           },
           "zerolinecolor": "white",
           "zerolinewidth": 2
          }
         }
        },
        "title": {
         "text": "Happiness Scores vs GDP"
        },
        "updatemenus": [
         {
          "buttons": [
           {
            "args": [
             null,
             {
              "frame": {
               "duration": 500,
               "redraw": false
              },
              "fromcurrent": true,
              "mode": "immediate",
              "transition": {
               "duration": 500,
               "easing": "linear"
              }
             }
            ],
            "label": "&#9654;",
            "method": "animate"
           },
           {
            "args": [
             [
              null
             ],
             {
              "frame": {
               "duration": 0,
               "redraw": false
              },
              "fromcurrent": true,
              "mode": "immediate",
              "transition": {
               "duration": 0,
               "easing": "linear"
              }
             }
            ],
            "label": "&#9724;",
            "method": "animate"
           }
          ],
          "direction": "left",
          "pad": {
           "r": 10,
           "t": 70
          },
          "showactive": false,
          "type": "buttons",
          "x": 0.1,
          "xanchor": "right",
          "y": 0,
          "yanchor": "top"
         }
        ],
        "xaxis": {
         "anchor": "y",
         "domain": [
          0,
          1
         ],
         "title": {
          "text": "Economy (GDP per Capita)"
         }
        },
        "yaxis": {
         "anchor": "x",
         "domain": [
          0,
          1
         ],
         "title": {
          "text": "Happiness Score"
         }
        }
       }
      },
      "text/html": [
       "<div>                            <div id=\"11011413-928b-4be3-a86a-7510357de8ac\" class=\"plotly-graph-div\" style=\"height:525px; width:100%;\"></div>            <script type=\"text/javascript\">                require([\"plotly\"], function(Plotly) {                    window.PLOTLYENV=window.PLOTLYENV || {};                                    if (document.getElementById(\"11011413-928b-4be3-a86a-7510357de8ac\")) {                    Plotly.newPlot(                        \"11011413-928b-4be3-a86a-7510357de8ac\",                        [{\"hovertemplate\":\"<b>%{hovertext}</b><br><br>Country=Switzerland<br>Region=Western Europe<br>Economy (GDP per Capita)=%{x}<br>Happiness Score=%{marker.size}<extra></extra>\",\"hovertext\":[1.0],\"ids\":[\"Switzerland\"],\"legendgroup\":\"Switzerland\",\"marker\":{\"color\":\"#636efa\",\"size\":[7.587],\"sizemode\":\"area\",\"sizeref\":0.018967499999999998,\"symbol\":\"circle\"},\"mode\":\"markers\",\"name\":\"Switzerland\",\"orientation\":\"v\",\"showlegend\":true,\"x\":[1.39651],\"xaxis\":\"x\",\"y\":[7.587],\"yaxis\":\"y\",\"type\":\"scatter\"},{\"hovertemplate\":\"<b>%{hovertext}</b><br><br>Country=Iceland<br>Region=Western Europe<br>Economy (GDP per Capita)=%{x}<br>Happiness Score=%{marker.size}<extra></extra>\",\"hovertext\":[2.0],\"ids\":[\"Iceland\"],\"legendgroup\":\"Iceland\",\"marker\":{\"color\":\"#EF553B\",\"size\":[7.561],\"sizemode\":\"area\",\"sizeref\":0.018967499999999998,\"symbol\":\"circle\"},\"mode\":\"markers\",\"name\":\"Iceland\",\"orientation\":\"v\",\"showlegend\":true,\"x\":[1.30232],\"xaxis\":\"x\",\"y\":[7.561],\"yaxis\":\"y\",\"type\":\"scatter\"},{\"hovertemplate\":\"<b>%{hovertext}</b><br><br>Country=Denmark<br>Region=Western Europe<br>Economy (GDP per Capita)=%{x}<br>Happiness Score=%{marker.size}<extra></extra>\",\"hovertext\":[3.0],\"ids\":[\"Denmark\"],\"legendgroup\":\"Denmark\",\"marker\":{\"color\":\"#00cc96\",\"size\":[7.527],\"sizemode\":\"area\",\"sizeref\":0.018967499999999998,\"symbol\":\"circle\"},\"mode\":\"markers\",\"name\":\"Denmark\",\"orientation\":\"v\",\"showlegend\":true,\"x\":[1.32548],\"xaxis\":\"x\",\"y\":[7.527],\"yaxis\":\"y\",\"type\":\"scatter\"},{\"hovertemplate\":\"<b>%{hovertext}</b><br><br>Country=Norway<br>Region=Western Europe<br>Economy (GDP per Capita)=%{x}<br>Happiness Score=%{marker.size}<extra></extra>\",\"hovertext\":[4.0],\"ids\":[\"Norway\"],\"legendgroup\":\"Norway\",\"marker\":{\"color\":\"#ab63fa\",\"size\":[7.522],\"sizemode\":\"area\",\"sizeref\":0.018967499999999998,\"symbol\":\"circle\"},\"mode\":\"markers\",\"name\":\"Norway\",\"orientation\":\"v\",\"showlegend\":true,\"x\":[1.459],\"xaxis\":\"x\",\"y\":[7.522],\"yaxis\":\"y\",\"type\":\"scatter\"},{\"hovertemplate\":\"<b>%{hovertext}</b><br><br>Country=Finland<br>Region=Western Europe<br>Economy (GDP per Capita)=%{x}<br>Happiness Score=%{marker.size}<extra></extra>\",\"hovertext\":[6.0],\"ids\":[\"Finland\"],\"legendgroup\":\"Finland\",\"marker\":{\"color\":\"#19d3f3\",\"size\":[7.406],\"sizemode\":\"area\",\"sizeref\":0.018967499999999998,\"symbol\":\"circle\"},\"mode\":\"markers\",\"name\":\"Finland\",\"orientation\":\"v\",\"showlegend\":true,\"x\":[1.29025],\"xaxis\":\"x\",\"y\":[7.406],\"yaxis\":\"y\",\"type\":\"scatter\"},{\"hovertemplate\":\"<b>%{hovertext}</b><br><br>Country=Netherlands<br>Region=Western Europe<br>Economy (GDP per Capita)=%{x}<br>Happiness Score=%{marker.size}<extra></extra>\",\"hovertext\":[7.0],\"ids\":[\"Netherlands\"],\"legendgroup\":\"Netherlands\",\"marker\":{\"color\":\"#FF6692\",\"size\":[7.378],\"sizemode\":\"area\",\"sizeref\":0.018967499999999998,\"symbol\":\"circle\"},\"mode\":\"markers\",\"name\":\"Netherlands\",\"orientation\":\"v\",\"showlegend\":true,\"x\":[1.32944],\"xaxis\":\"x\",\"y\":[7.378],\"yaxis\":\"y\",\"type\":\"scatter\"},{\"hovertemplate\":\"<b>%{hovertext}</b><br><br>Country=Sweden<br>Region=Western Europe<br>Economy (GDP per Capita)=%{x}<br>Happiness Score=%{marker.size}<extra></extra>\",\"hovertext\":[8.0],\"ids\":[\"Sweden\"],\"legendgroup\":\"Sweden\",\"marker\":{\"color\":\"#B6E880\",\"size\":[7.364],\"sizemode\":\"area\",\"sizeref\":0.018967499999999998,\"symbol\":\"circle\"},\"mode\":\"markers\",\"name\":\"Sweden\",\"orientation\":\"v\",\"showlegend\":true,\"x\":[1.33171],\"xaxis\":\"x\",\"y\":[7.364],\"yaxis\":\"y\",\"type\":\"scatter\"},{\"hovertemplate\":\"<b>%{hovertext}</b><br><br>Country=Austria<br>Region=Western Europe<br>Economy (GDP per Capita)=%{x}<br>Happiness Score=%{marker.size}<extra></extra>\",\"hovertext\":[13.0],\"ids\":[\"Austria\"],\"legendgroup\":\"Austria\",\"marker\":{\"color\":\"#00cc96\",\"size\":[7.2],\"sizemode\":\"area\",\"sizeref\":0.018967499999999998,\"symbol\":\"circle\"},\"mode\":\"markers\",\"name\":\"Austria\",\"orientation\":\"v\",\"showlegend\":true,\"x\":[1.33723],\"xaxis\":\"x\",\"y\":[7.2],\"yaxis\":\"y\",\"type\":\"scatter\"},{\"hovertemplate\":\"<b>%{hovertext}</b><br><br>Country=Luxembourg<br>Region=Western Europe<br>Economy (GDP per Capita)=%{x}<br>Happiness Score=%{marker.size}<extra></extra>\",\"hovertext\":[17.0],\"ids\":[\"Luxembourg\"],\"legendgroup\":\"Luxembourg\",\"marker\":{\"color\":\"#FF6692\",\"size\":[6.946],\"sizemode\":\"area\",\"sizeref\":0.018967499999999998,\"symbol\":\"circle\"},\"mode\":\"markers\",\"name\":\"Luxembourg\",\"orientation\":\"v\",\"showlegend\":true,\"x\":[1.56391],\"xaxis\":\"x\",\"y\":[6.946],\"yaxis\":\"y\",\"type\":\"scatter\"},{\"hovertemplate\":\"<b>%{hovertext}</b><br><br>Country=Ireland<br>Region=Western Europe<br>Economy (GDP per Capita)=%{x}<br>Happiness Score=%{marker.size}<extra></extra>\",\"hovertext\":[18.0],\"ids\":[\"Ireland\"],\"legendgroup\":\"Ireland\",\"marker\":{\"color\":\"#B6E880\",\"size\":[6.94],\"sizemode\":\"area\",\"sizeref\":0.018967499999999998,\"symbol\":\"circle\"},\"mode\":\"markers\",\"name\":\"Ireland\",\"orientation\":\"v\",\"showlegend\":true,\"x\":[1.33596],\"xaxis\":\"x\",\"y\":[6.94],\"yaxis\":\"y\",\"type\":\"scatter\"},{\"hovertemplate\":\"<b>%{hovertext}</b><br><br>Country=Belgium<br>Region=Western Europe<br>Economy (GDP per Capita)=%{x}<br>Happiness Score=%{marker.size}<extra></extra>\",\"hovertext\":[19.0],\"ids\":[\"Belgium\"],\"legendgroup\":\"Belgium\",\"marker\":{\"color\":\"#FF97FF\",\"size\":[6.937],\"sizemode\":\"area\",\"sizeref\":0.018967499999999998,\"symbol\":\"circle\"},\"mode\":\"markers\",\"name\":\"Belgium\",\"orientation\":\"v\",\"showlegend\":true,\"x\":[1.30782],\"xaxis\":\"x\",\"y\":[6.937],\"yaxis\":\"y\",\"type\":\"scatter\"},{\"hovertemplate\":\"<b>%{hovertext}</b><br><br>Country=United Kingdom<br>Region=Western Europe<br>Economy (GDP per Capita)=%{x}<br>Happiness Score=%{marker.size}<extra></extra>\",\"hovertext\":[21.0],\"ids\":[\"United Kingdom\"],\"legendgroup\":\"United Kingdom\",\"marker\":{\"color\":\"#636efa\",\"size\":[6.867],\"sizemode\":\"area\",\"sizeref\":0.018967499999999998,\"symbol\":\"circle\"},\"mode\":\"markers\",\"name\":\"United Kingdom\",\"orientation\":\"v\",\"showlegend\":true,\"x\":[1.26637],\"xaxis\":\"x\",\"y\":[6.867],\"yaxis\":\"y\",\"type\":\"scatter\"},{\"hovertemplate\":\"<b>%{hovertext}</b><br><br>Country=Germany<br>Region=Western Europe<br>Economy (GDP per Capita)=%{x}<br>Happiness Score=%{marker.size}<extra></extra>\",\"hovertext\":[26.0],\"ids\":[\"Germany\"],\"legendgroup\":\"Germany\",\"marker\":{\"color\":\"#19d3f3\",\"size\":[6.75],\"sizemode\":\"area\",\"sizeref\":0.018967499999999998,\"symbol\":\"circle\"},\"mode\":\"markers\",\"name\":\"Germany\",\"orientation\":\"v\",\"showlegend\":true,\"x\":[1.32792],\"xaxis\":\"x\",\"y\":[6.75],\"yaxis\":\"y\",\"type\":\"scatter\"},{\"hovertemplate\":\"<b>%{hovertext}</b><br><br>Country=France<br>Region=Western Europe<br>Economy (GDP per Capita)=%{x}<br>Happiness Score=%{marker.size}<extra></extra>\",\"hovertext\":[29.0],\"ids\":[\"France\"],\"legendgroup\":\"France\",\"marker\":{\"color\":\"#FF97FF\",\"size\":[6.575],\"sizemode\":\"area\",\"sizeref\":0.018967499999999998,\"symbol\":\"circle\"},\"mode\":\"markers\",\"name\":\"France\",\"orientation\":\"v\",\"showlegend\":true,\"x\":[1.27778],\"xaxis\":\"x\",\"y\":[6.575],\"yaxis\":\"y\",\"type\":\"scatter\"},{\"hovertemplate\":\"<b>%{hovertext}</b><br><br>Country=Spain<br>Region=Western Europe<br>Economy (GDP per Capita)=%{x}<br>Happiness Score=%{marker.size}<extra></extra>\",\"hovertext\":[36.0],\"ids\":[\"Spain\"],\"legendgroup\":\"Spain\",\"marker\":{\"color\":\"#19d3f3\",\"size\":[6.329],\"sizemode\":\"area\",\"sizeref\":0.018967499999999998,\"symbol\":\"circle\"},\"mode\":\"markers\",\"name\":\"Spain\",\"orientation\":\"v\",\"showlegend\":true,\"x\":[1.23011],\"xaxis\":\"x\",\"y\":[6.329],\"yaxis\":\"y\",\"type\":\"scatter\"},{\"hovertemplate\":\"<b>%{hovertext}</b><br><br>Country=Malta<br>Region=Western Europe<br>Economy (GDP per Capita)=%{x}<br>Happiness Score=%{marker.size}<extra></extra>\",\"hovertext\":[37.0],\"ids\":[\"Malta\"],\"legendgroup\":\"Malta\",\"marker\":{\"color\":\"#FF6692\",\"size\":[6.302],\"sizemode\":\"area\",\"sizeref\":0.018967499999999998,\"symbol\":\"circle\"},\"mode\":\"markers\",\"name\":\"Malta\",\"orientation\":\"v\",\"showlegend\":true,\"x\":[1.2074],\"xaxis\":\"x\",\"y\":[6.302],\"yaxis\":\"y\",\"type\":\"scatter\"},{\"hovertemplate\":\"<b>%{hovertext}</b><br><br>Country=Italy<br>Region=Western Europe<br>Economy (GDP per Capita)=%{x}<br>Happiness Score=%{marker.size}<extra></extra>\",\"hovertext\":[50.0],\"ids\":[\"Italy\"],\"legendgroup\":\"Italy\",\"marker\":{\"color\":\"#FECB52\",\"size\":[5.948],\"sizemode\":\"area\",\"sizeref\":0.018967499999999998,\"symbol\":\"circle\"},\"mode\":\"markers\",\"name\":\"Italy\",\"orientation\":\"v\",\"showlegend\":true,\"x\":[1.25114],\"xaxis\":\"x\",\"y\":[5.948],\"yaxis\":\"y\",\"type\":\"scatter\"},{\"hovertemplate\":\"<b>%{hovertext}</b><br><br>Country=North Cyprus<br>Region=Western Europe<br>Economy (GDP per Capita)=%{x}<br>Happiness Score=%{marker.size}<extra></extra>\",\"hovertext\":[66.0],\"ids\":[\"North Cyprus\"],\"legendgroup\":\"North Cyprus\",\"marker\":{\"color\":\"#19d3f3\",\"size\":[5.695],\"sizemode\":\"area\",\"sizeref\":0.018967499999999998,\"symbol\":\"circle\"},\"mode\":\"markers\",\"name\":\"North Cyprus\",\"orientation\":\"v\",\"showlegend\":true,\"x\":[1.20806],\"xaxis\":\"x\",\"y\":[5.695],\"yaxis\":\"y\",\"type\":\"scatter\"},{\"hovertemplate\":\"<b>%{hovertext}</b><br><br>Country=Cyprus<br>Region=Western Europe<br>Economy (GDP per Capita)=%{x}<br>Happiness Score=%{marker.size}<extra></extra>\",\"hovertext\":[67.0],\"ids\":[\"Cyprus\"],\"legendgroup\":\"Cyprus\",\"marker\":{\"color\":\"#FF6692\",\"size\":[5.689],\"sizemode\":\"area\",\"sizeref\":0.018967499999999998,\"symbol\":\"circle\"},\"mode\":\"markers\",\"name\":\"Cyprus\",\"orientation\":\"v\",\"showlegend\":true,\"x\":[1.20813],\"xaxis\":\"x\",\"y\":[5.689],\"yaxis\":\"y\",\"type\":\"scatter\"},{\"hovertemplate\":\"<b>%{hovertext}</b><br><br>Country=Portugal<br>Region=Western Europe<br>Economy (GDP per Capita)=%{x}<br>Happiness Score=%{marker.size}<extra></extra>\",\"hovertext\":[88.0],\"ids\":[\"Portugal\"],\"legendgroup\":\"Portugal\",\"marker\":{\"color\":\"#B6E880\",\"size\":[5.102],\"sizemode\":\"area\",\"sizeref\":0.018967499999999998,\"symbol\":\"circle\"},\"mode\":\"markers\",\"name\":\"Portugal\",\"orientation\":\"v\",\"showlegend\":true,\"x\":[1.15991],\"xaxis\":\"x\",\"y\":[5.102],\"yaxis\":\"y\",\"type\":\"scatter\"},{\"hovertemplate\":\"<b>%{hovertext}</b><br><br>Country=Greece<br>Region=Western Europe<br>Economy (GDP per Capita)=%{x}<br>Happiness Score=%{marker.size}<extra></extra>\",\"hovertext\":[102.0],\"ids\":[\"Greece\"],\"legendgroup\":\"Greece\",\"marker\":{\"color\":\"#EF553B\",\"size\":[4.857],\"sizemode\":\"area\",\"sizeref\":0.018967499999999998,\"symbol\":\"circle\"},\"mode\":\"markers\",\"name\":\"Greece\",\"orientation\":\"v\",\"showlegend\":true,\"x\":[1.15406],\"xaxis\":\"x\",\"y\":[4.857],\"yaxis\":\"y\",\"type\":\"scatter\"}],                        {\"template\":{\"data\":{\"histogram2dcontour\":[{\"type\":\"histogram2dcontour\",\"colorbar\":{\"outlinewidth\":0,\"ticks\":\"\"},\"colorscale\":[[0.0,\"#0d0887\"],[0.1111111111111111,\"#46039f\"],[0.2222222222222222,\"#7201a8\"],[0.3333333333333333,\"#9c179e\"],[0.4444444444444444,\"#bd3786\"],[0.5555555555555556,\"#d8576b\"],[0.6666666666666666,\"#ed7953\"],[0.7777777777777778,\"#fb9f3a\"],[0.8888888888888888,\"#fdca26\"],[1.0,\"#f0f921\"]]}],\"choropleth\":[{\"type\":\"choropleth\",\"colorbar\":{\"outlinewidth\":0,\"ticks\":\"\"}}],\"histogram2d\":[{\"type\":\"histogram2d\",\"colorbar\":{\"outlinewidth\":0,\"ticks\":\"\"},\"colorscale\":[[0.0,\"#0d0887\"],[0.1111111111111111,\"#46039f\"],[0.2222222222222222,\"#7201a8\"],[0.3333333333333333,\"#9c179e\"],[0.4444444444444444,\"#bd3786\"],[0.5555555555555556,\"#d8576b\"],[0.6666666666666666,\"#ed7953\"],[0.7777777777777778,\"#fb9f3a\"],[0.8888888888888888,\"#fdca26\"],[1.0,\"#f0f921\"]]}],\"heatmap\":[{\"type\":\"heatmap\",\"colorbar\":{\"outlinewidth\":0,\"ticks\":\"\"},\"colorscale\":[[0.0,\"#0d0887\"],[0.1111111111111111,\"#46039f\"],[0.2222222222222222,\"#7201a8\"],[0.3333333333333333,\"#9c179e\"],[0.4444444444444444,\"#bd3786\"],[0.5555555555555556,\"#d8576b\"],[0.6666666666666666,\"#ed7953\"],[0.7777777777777778,\"#fb9f3a\"],[0.8888888888888888,\"#fdca26\"],[1.0,\"#f0f921\"]]}],\"heatmapgl\":[{\"type\":\"heatmapgl\",\"colorbar\":{\"outlinewidth\":0,\"ticks\":\"\"},\"colorscale\":[[0.0,\"#0d0887\"],[0.1111111111111111,\"#46039f\"],[0.2222222222222222,\"#7201a8\"],[0.3333333333333333,\"#9c179e\"],[0.4444444444444444,\"#bd3786\"],[0.5555555555555556,\"#d8576b\"],[0.6666666666666666,\"#ed7953\"],[0.7777777777777778,\"#fb9f3a\"],[0.8888888888888888,\"#fdca26\"],[1.0,\"#f0f921\"]]}],\"contourcarpet\":[{\"type\":\"contourcarpet\",\"colorbar\":{\"outlinewidth\":0,\"ticks\":\"\"}}],\"contour\":[{\"type\":\"contour\",\"colorbar\":{\"outlinewidth\":0,\"ticks\":\"\"},\"colorscale\":[[0.0,\"#0d0887\"],[0.1111111111111111,\"#46039f\"],[0.2222222222222222,\"#7201a8\"],[0.3333333333333333,\"#9c179e\"],[0.4444444444444444,\"#bd3786\"],[0.5555555555555556,\"#d8576b\"],[0.6666666666666666,\"#ed7953\"],[0.7777777777777778,\"#fb9f3a\"],[0.8888888888888888,\"#fdca26\"],[1.0,\"#f0f921\"]]}],\"surface\":[{\"type\":\"surface\",\"colorbar\":{\"outlinewidth\":0,\"ticks\":\"\"},\"colorscale\":[[0.0,\"#0d0887\"],[0.1111111111111111,\"#46039f\"],[0.2222222222222222,\"#7201a8\"],[0.3333333333333333,\"#9c179e\"],[0.4444444444444444,\"#bd3786\"],[0.5555555555555556,\"#d8576b\"],[0.6666666666666666,\"#ed7953\"],[0.7777777777777778,\"#fb9f3a\"],[0.8888888888888888,\"#fdca26\"],[1.0,\"#f0f921\"]]}],\"mesh3d\":[{\"type\":\"mesh3d\",\"colorbar\":{\"outlinewidth\":0,\"ticks\":\"\"}}],\"scatter\":[{\"fillpattern\":{\"fillmode\":\"overlay\",\"size\":10,\"solidity\":0.2},\"type\":\"scatter\"}],\"parcoords\":[{\"type\":\"parcoords\",\"line\":{\"colorbar\":{\"outlinewidth\":0,\"ticks\":\"\"}}}],\"scatterpolargl\":[{\"type\":\"scatterpolargl\",\"marker\":{\"colorbar\":{\"outlinewidth\":0,\"ticks\":\"\"}}}],\"bar\":[{\"error_x\":{\"color\":\"#2a3f5f\"},\"error_y\":{\"color\":\"#2a3f5f\"},\"marker\":{\"line\":{\"color\":\"#E5ECF6\",\"width\":0.5},\"pattern\":{\"fillmode\":\"overlay\",\"size\":10,\"solidity\":0.2}},\"type\":\"bar\"}],\"scattergeo\":[{\"type\":\"scattergeo\",\"marker\":{\"colorbar\":{\"outlinewidth\":0,\"ticks\":\"\"}}}],\"scatterpolar\":[{\"type\":\"scatterpolar\",\"marker\":{\"colorbar\":{\"outlinewidth\":0,\"ticks\":\"\"}}}],\"histogram\":[{\"marker\":{\"pattern\":{\"fillmode\":\"overlay\",\"size\":10,\"solidity\":0.2}},\"type\":\"histogram\"}],\"scattergl\":[{\"type\":\"scattergl\",\"marker\":{\"colorbar\":{\"outlinewidth\":0,\"ticks\":\"\"}}}],\"scatter3d\":[{\"type\":\"scatter3d\",\"line\":{\"colorbar\":{\"outlinewidth\":0,\"ticks\":\"\"}},\"marker\":{\"colorbar\":{\"outlinewidth\":0,\"ticks\":\"\"}}}],\"scattermapbox\":[{\"type\":\"scattermapbox\",\"marker\":{\"colorbar\":{\"outlinewidth\":0,\"ticks\":\"\"}}}],\"scatterternary\":[{\"type\":\"scatterternary\",\"marker\":{\"colorbar\":{\"outlinewidth\":0,\"ticks\":\"\"}}}],\"scattercarpet\":[{\"type\":\"scattercarpet\",\"marker\":{\"colorbar\":{\"outlinewidth\":0,\"ticks\":\"\"}}}],\"carpet\":[{\"aaxis\":{\"endlinecolor\":\"#2a3f5f\",\"gridcolor\":\"white\",\"linecolor\":\"white\",\"minorgridcolor\":\"white\",\"startlinecolor\":\"#2a3f5f\"},\"baxis\":{\"endlinecolor\":\"#2a3f5f\",\"gridcolor\":\"white\",\"linecolor\":\"white\",\"minorgridcolor\":\"white\",\"startlinecolor\":\"#2a3f5f\"},\"type\":\"carpet\"}],\"table\":[{\"cells\":{\"fill\":{\"color\":\"#EBF0F8\"},\"line\":{\"color\":\"white\"}},\"header\":{\"fill\":{\"color\":\"#C8D4E3\"},\"line\":{\"color\":\"white\"}},\"type\":\"table\"}],\"barpolar\":[{\"marker\":{\"line\":{\"color\":\"#E5ECF6\",\"width\":0.5},\"pattern\":{\"fillmode\":\"overlay\",\"size\":10,\"solidity\":0.2}},\"type\":\"barpolar\"}],\"pie\":[{\"automargin\":true,\"type\":\"pie\"}]},\"layout\":{\"autotypenumbers\":\"strict\",\"colorway\":[\"#636efa\",\"#EF553B\",\"#00cc96\",\"#ab63fa\",\"#FFA15A\",\"#19d3f3\",\"#FF6692\",\"#B6E880\",\"#FF97FF\",\"#FECB52\"],\"font\":{\"color\":\"#2a3f5f\"},\"hovermode\":\"closest\",\"hoverlabel\":{\"align\":\"left\"},\"paper_bgcolor\":\"white\",\"plot_bgcolor\":\"#E5ECF6\",\"polar\":{\"bgcolor\":\"#E5ECF6\",\"angularaxis\":{\"gridcolor\":\"white\",\"linecolor\":\"white\",\"ticks\":\"\"},\"radialaxis\":{\"gridcolor\":\"white\",\"linecolor\":\"white\",\"ticks\":\"\"}},\"ternary\":{\"bgcolor\":\"#E5ECF6\",\"aaxis\":{\"gridcolor\":\"white\",\"linecolor\":\"white\",\"ticks\":\"\"},\"baxis\":{\"gridcolor\":\"white\",\"linecolor\":\"white\",\"ticks\":\"\"},\"caxis\":{\"gridcolor\":\"white\",\"linecolor\":\"white\",\"ticks\":\"\"}},\"coloraxis\":{\"colorbar\":{\"outlinewidth\":0,\"ticks\":\"\"}},\"colorscale\":{\"sequential\":[[0.0,\"#0d0887\"],[0.1111111111111111,\"#46039f\"],[0.2222222222222222,\"#7201a8\"],[0.3333333333333333,\"#9c179e\"],[0.4444444444444444,\"#bd3786\"],[0.5555555555555556,\"#d8576b\"],[0.6666666666666666,\"#ed7953\"],[0.7777777777777778,\"#fb9f3a\"],[0.8888888888888888,\"#fdca26\"],[1.0,\"#f0f921\"]],\"sequentialminus\":[[0.0,\"#0d0887\"],[0.1111111111111111,\"#46039f\"],[0.2222222222222222,\"#7201a8\"],[0.3333333333333333,\"#9c179e\"],[0.4444444444444444,\"#bd3786\"],[0.5555555555555556,\"#d8576b\"],[0.6666666666666666,\"#ed7953\"],[0.7777777777777778,\"#fb9f3a\"],[0.8888888888888888,\"#fdca26\"],[1.0,\"#f0f921\"]],\"diverging\":[[0,\"#8e0152\"],[0.1,\"#c51b7d\"],[0.2,\"#de77ae\"],[0.3,\"#f1b6da\"],[0.4,\"#fde0ef\"],[0.5,\"#f7f7f7\"],[0.6,\"#e6f5d0\"],[0.7,\"#b8e186\"],[0.8,\"#7fbc41\"],[0.9,\"#4d9221\"],[1,\"#276419\"]]},\"xaxis\":{\"gridcolor\":\"white\",\"linecolor\":\"white\",\"ticks\":\"\",\"title\":{\"standoff\":15},\"zerolinecolor\":\"white\",\"automargin\":true,\"zerolinewidth\":2},\"yaxis\":{\"gridcolor\":\"white\",\"linecolor\":\"white\",\"ticks\":\"\",\"title\":{\"standoff\":15},\"zerolinecolor\":\"white\",\"automargin\":true,\"zerolinewidth\":2},\"scene\":{\"xaxis\":{\"backgroundcolor\":\"#E5ECF6\",\"gridcolor\":\"white\",\"linecolor\":\"white\",\"showbackground\":true,\"ticks\":\"\",\"zerolinecolor\":\"white\",\"gridwidth\":2},\"yaxis\":{\"backgroundcolor\":\"#E5ECF6\",\"gridcolor\":\"white\",\"linecolor\":\"white\",\"showbackground\":true,\"ticks\":\"\",\"zerolinecolor\":\"white\",\"gridwidth\":2},\"zaxis\":{\"backgroundcolor\":\"#E5ECF6\",\"gridcolor\":\"white\",\"linecolor\":\"white\",\"showbackground\":true,\"ticks\":\"\",\"zerolinecolor\":\"white\",\"gridwidth\":2}},\"shapedefaults\":{\"line\":{\"color\":\"#2a3f5f\"}},\"annotationdefaults\":{\"arrowcolor\":\"#2a3f5f\",\"arrowhead\":0,\"arrowwidth\":1},\"geo\":{\"bgcolor\":\"white\",\"landcolor\":\"#E5ECF6\",\"subunitcolor\":\"white\",\"showland\":true,\"showlakes\":true,\"lakecolor\":\"white\"},\"title\":{\"x\":0.05},\"mapbox\":{\"style\":\"light\"}}},\"xaxis\":{\"anchor\":\"y\",\"domain\":[0.0,1.0],\"title\":{\"text\":\"Economy (GDP per Capita)\"}},\"yaxis\":{\"anchor\":\"x\",\"domain\":[0.0,1.0],\"title\":{\"text\":\"Happiness Score\"}},\"legend\":{\"title\":{\"text\":\"Country\"},\"tracegroupgap\":0,\"itemsizing\":\"constant\"},\"title\":{\"text\":\"Happiness Scores vs GDP\"},\"updatemenus\":[{\"buttons\":[{\"args\":[null,{\"frame\":{\"duration\":500,\"redraw\":false},\"mode\":\"immediate\",\"fromcurrent\":true,\"transition\":{\"duration\":500,\"easing\":\"linear\"}}],\"label\":\"&#9654;\",\"method\":\"animate\"},{\"args\":[[null],{\"frame\":{\"duration\":0,\"redraw\":false},\"mode\":\"immediate\",\"fromcurrent\":true,\"transition\":{\"duration\":0,\"easing\":\"linear\"}}],\"label\":\"&#9724;\",\"method\":\"animate\"}],\"direction\":\"left\",\"pad\":{\"r\":10,\"t\":70},\"showactive\":false,\"type\":\"buttons\",\"x\":0.1,\"xanchor\":\"right\",\"y\":0,\"yanchor\":\"top\"}],\"sliders\":[{\"active\":0,\"currentvalue\":{\"prefix\":\"Region=\"},\"len\":0.9,\"pad\":{\"b\":10,\"t\":60},\"steps\":[{\"args\":[[\"Western Europe\"],{\"frame\":{\"duration\":0,\"redraw\":false},\"mode\":\"immediate\",\"fromcurrent\":true,\"transition\":{\"duration\":0,\"easing\":\"linear\"}}],\"label\":\"Western Europe\",\"method\":\"animate\"},{\"args\":[[\"North America\"],{\"frame\":{\"duration\":0,\"redraw\":false},\"mode\":\"immediate\",\"fromcurrent\":true,\"transition\":{\"duration\":0,\"easing\":\"linear\"}}],\"label\":\"North America\",\"method\":\"animate\"},{\"args\":[[\"Australia and New Zealand\"],{\"frame\":{\"duration\":0,\"redraw\":false},\"mode\":\"immediate\",\"fromcurrent\":true,\"transition\":{\"duration\":0,\"easing\":\"linear\"}}],\"label\":\"Australia and New Zealand\",\"method\":\"animate\"},{\"args\":[[\"Middle East and Northern Africa\"],{\"frame\":{\"duration\":0,\"redraw\":false},\"mode\":\"immediate\",\"fromcurrent\":true,\"transition\":{\"duration\":0,\"easing\":\"linear\"}}],\"label\":\"Middle East and Northern Africa\",\"method\":\"animate\"},{\"args\":[[\"Latin America and Caribbean\"],{\"frame\":{\"duration\":0,\"redraw\":false},\"mode\":\"immediate\",\"fromcurrent\":true,\"transition\":{\"duration\":0,\"easing\":\"linear\"}}],\"label\":\"Latin America and Caribbean\",\"method\":\"animate\"},{\"args\":[[\"Southeastern Asia\"],{\"frame\":{\"duration\":0,\"redraw\":false},\"mode\":\"immediate\",\"fromcurrent\":true,\"transition\":{\"duration\":0,\"easing\":\"linear\"}}],\"label\":\"Southeastern Asia\",\"method\":\"animate\"},{\"args\":[[\"Central and Eastern Europe\"],{\"frame\":{\"duration\":0,\"redraw\":false},\"mode\":\"immediate\",\"fromcurrent\":true,\"transition\":{\"duration\":0,\"easing\":\"linear\"}}],\"label\":\"Central and Eastern Europe\",\"method\":\"animate\"},{\"args\":[[\"Eastern Asia\"],{\"frame\":{\"duration\":0,\"redraw\":false},\"mode\":\"immediate\",\"fromcurrent\":true,\"transition\":{\"duration\":0,\"easing\":\"linear\"}}],\"label\":\"Eastern Asia\",\"method\":\"animate\"},{\"args\":[[\"Sub-Saharan Africa\"],{\"frame\":{\"duration\":0,\"redraw\":false},\"mode\":\"immediate\",\"fromcurrent\":true,\"transition\":{\"duration\":0,\"easing\":\"linear\"}}],\"label\":\"Sub-Saharan Africa\",\"method\":\"animate\"},{\"args\":[[\"Southern Asia\"],{\"frame\":{\"duration\":0,\"redraw\":false},\"mode\":\"immediate\",\"fromcurrent\":true,\"transition\":{\"duration\":0,\"easing\":\"linear\"}}],\"label\":\"Southern Asia\",\"method\":\"animate\"}],\"x\":0.1,\"xanchor\":\"left\",\"y\":0,\"yanchor\":\"top\"}]},                        {\"responsive\": true}                    ).then(function(){\n",
       "                            Plotly.addFrames('11011413-928b-4be3-a86a-7510357de8ac', [{\"data\":[{\"hovertemplate\":\"<b>%{hovertext}</b><br><br>Country=Switzerland<br>Region=Western Europe<br>Economy (GDP per Capita)=%{x}<br>Happiness Score=%{marker.size}<extra></extra>\",\"hovertext\":[1.0],\"ids\":[\"Switzerland\"],\"legendgroup\":\"Switzerland\",\"marker\":{\"color\":\"#636efa\",\"size\":[7.587],\"sizemode\":\"area\",\"sizeref\":0.018967499999999998,\"symbol\":\"circle\"},\"mode\":\"markers\",\"name\":\"Switzerland\",\"orientation\":\"v\",\"showlegend\":true,\"x\":[1.39651],\"xaxis\":\"x\",\"y\":[7.587],\"yaxis\":\"y\",\"type\":\"scatter\"},{\"hovertemplate\":\"<b>%{hovertext}</b><br><br>Country=Iceland<br>Region=Western Europe<br>Economy (GDP per Capita)=%{x}<br>Happiness Score=%{marker.size}<extra></extra>\",\"hovertext\":[2.0],\"ids\":[\"Iceland\"],\"legendgroup\":\"Iceland\",\"marker\":{\"color\":\"#EF553B\",\"size\":[7.561],\"sizemode\":\"area\",\"sizeref\":0.018967499999999998,\"symbol\":\"circle\"},\"mode\":\"markers\",\"name\":\"Iceland\",\"orientation\":\"v\",\"showlegend\":true,\"x\":[1.30232],\"xaxis\":\"x\",\"y\":[7.561],\"yaxis\":\"y\",\"type\":\"scatter\"},{\"hovertemplate\":\"<b>%{hovertext}</b><br><br>Country=Denmark<br>Region=Western Europe<br>Economy (GDP per Capita)=%{x}<br>Happiness Score=%{marker.size}<extra></extra>\",\"hovertext\":[3.0],\"ids\":[\"Denmark\"],\"legendgroup\":\"Denmark\",\"marker\":{\"color\":\"#00cc96\",\"size\":[7.527],\"sizemode\":\"area\",\"sizeref\":0.018967499999999998,\"symbol\":\"circle\"},\"mode\":\"markers\",\"name\":\"Denmark\",\"orientation\":\"v\",\"showlegend\":true,\"x\":[1.32548],\"xaxis\":\"x\",\"y\":[7.527],\"yaxis\":\"y\",\"type\":\"scatter\"},{\"hovertemplate\":\"<b>%{hovertext}</b><br><br>Country=Norway<br>Region=Western Europe<br>Economy (GDP per Capita)=%{x}<br>Happiness Score=%{marker.size}<extra></extra>\",\"hovertext\":[4.0],\"ids\":[\"Norway\"],\"legendgroup\":\"Norway\",\"marker\":{\"color\":\"#ab63fa\",\"size\":[7.522],\"sizemode\":\"area\",\"sizeref\":0.018967499999999998,\"symbol\":\"circle\"},\"mode\":\"markers\",\"name\":\"Norway\",\"orientation\":\"v\",\"showlegend\":true,\"x\":[1.459],\"xaxis\":\"x\",\"y\":[7.522],\"yaxis\":\"y\",\"type\":\"scatter\"},{\"hovertemplate\":\"<b>%{hovertext}</b><br><br>Country=Finland<br>Region=Western Europe<br>Economy (GDP per Capita)=%{x}<br>Happiness Score=%{marker.size}<extra></extra>\",\"hovertext\":[6.0],\"ids\":[\"Finland\"],\"legendgroup\":\"Finland\",\"marker\":{\"color\":\"#19d3f3\",\"size\":[7.406],\"sizemode\":\"area\",\"sizeref\":0.018967499999999998,\"symbol\":\"circle\"},\"mode\":\"markers\",\"name\":\"Finland\",\"orientation\":\"v\",\"showlegend\":true,\"x\":[1.29025],\"xaxis\":\"x\",\"y\":[7.406],\"yaxis\":\"y\",\"type\":\"scatter\"},{\"hovertemplate\":\"<b>%{hovertext}</b><br><br>Country=Netherlands<br>Region=Western Europe<br>Economy (GDP per Capita)=%{x}<br>Happiness Score=%{marker.size}<extra></extra>\",\"hovertext\":[7.0],\"ids\":[\"Netherlands\"],\"legendgroup\":\"Netherlands\",\"marker\":{\"color\":\"#FF6692\",\"size\":[7.378],\"sizemode\":\"area\",\"sizeref\":0.018967499999999998,\"symbol\":\"circle\"},\"mode\":\"markers\",\"name\":\"Netherlands\",\"orientation\":\"v\",\"showlegend\":true,\"x\":[1.32944],\"xaxis\":\"x\",\"y\":[7.378],\"yaxis\":\"y\",\"type\":\"scatter\"},{\"hovertemplate\":\"<b>%{hovertext}</b><br><br>Country=Sweden<br>Region=Western Europe<br>Economy (GDP per Capita)=%{x}<br>Happiness Score=%{marker.size}<extra></extra>\",\"hovertext\":[8.0],\"ids\":[\"Sweden\"],\"legendgroup\":\"Sweden\",\"marker\":{\"color\":\"#B6E880\",\"size\":[7.364],\"sizemode\":\"area\",\"sizeref\":0.018967499999999998,\"symbol\":\"circle\"},\"mode\":\"markers\",\"name\":\"Sweden\",\"orientation\":\"v\",\"showlegend\":true,\"x\":[1.33171],\"xaxis\":\"x\",\"y\":[7.364],\"yaxis\":\"y\",\"type\":\"scatter\"},{\"hovertemplate\":\"<b>%{hovertext}</b><br><br>Country=Austria<br>Region=Western Europe<br>Economy (GDP per Capita)=%{x}<br>Happiness Score=%{marker.size}<extra></extra>\",\"hovertext\":[13.0],\"ids\":[\"Austria\"],\"legendgroup\":\"Austria\",\"marker\":{\"color\":\"#00cc96\",\"size\":[7.2],\"sizemode\":\"area\",\"sizeref\":0.018967499999999998,\"symbol\":\"circle\"},\"mode\":\"markers\",\"name\":\"Austria\",\"orientation\":\"v\",\"showlegend\":true,\"x\":[1.33723],\"xaxis\":\"x\",\"y\":[7.2],\"yaxis\":\"y\",\"type\":\"scatter\"},{\"hovertemplate\":\"<b>%{hovertext}</b><br><br>Country=Luxembourg<br>Region=Western Europe<br>Economy (GDP per Capita)=%{x}<br>Happiness Score=%{marker.size}<extra></extra>\",\"hovertext\":[17.0],\"ids\":[\"Luxembourg\"],\"legendgroup\":\"Luxembourg\",\"marker\":{\"color\":\"#FF6692\",\"size\":[6.946],\"sizemode\":\"area\",\"sizeref\":0.018967499999999998,\"symbol\":\"circle\"},\"mode\":\"markers\",\"name\":\"Luxembourg\",\"orientation\":\"v\",\"showlegend\":true,\"x\":[1.56391],\"xaxis\":\"x\",\"y\":[6.946],\"yaxis\":\"y\",\"type\":\"scatter\"},{\"hovertemplate\":\"<b>%{hovertext}</b><br><br>Country=Ireland<br>Region=Western Europe<br>Economy (GDP per Capita)=%{x}<br>Happiness Score=%{marker.size}<extra></extra>\",\"hovertext\":[18.0],\"ids\":[\"Ireland\"],\"legendgroup\":\"Ireland\",\"marker\":{\"color\":\"#B6E880\",\"size\":[6.94],\"sizemode\":\"area\",\"sizeref\":0.018967499999999998,\"symbol\":\"circle\"},\"mode\":\"markers\",\"name\":\"Ireland\",\"orientation\":\"v\",\"showlegend\":true,\"x\":[1.33596],\"xaxis\":\"x\",\"y\":[6.94],\"yaxis\":\"y\",\"type\":\"scatter\"},{\"hovertemplate\":\"<b>%{hovertext}</b><br><br>Country=Belgium<br>Region=Western Europe<br>Economy (GDP per Capita)=%{x}<br>Happiness Score=%{marker.size}<extra></extra>\",\"hovertext\":[19.0],\"ids\":[\"Belgium\"],\"legendgroup\":\"Belgium\",\"marker\":{\"color\":\"#FF97FF\",\"size\":[6.937],\"sizemode\":\"area\",\"sizeref\":0.018967499999999998,\"symbol\":\"circle\"},\"mode\":\"markers\",\"name\":\"Belgium\",\"orientation\":\"v\",\"showlegend\":true,\"x\":[1.30782],\"xaxis\":\"x\",\"y\":[6.937],\"yaxis\":\"y\",\"type\":\"scatter\"},{\"hovertemplate\":\"<b>%{hovertext}</b><br><br>Country=United Kingdom<br>Region=Western Europe<br>Economy (GDP per Capita)=%{x}<br>Happiness Score=%{marker.size}<extra></extra>\",\"hovertext\":[21.0],\"ids\":[\"United Kingdom\"],\"legendgroup\":\"United Kingdom\",\"marker\":{\"color\":\"#636efa\",\"size\":[6.867],\"sizemode\":\"area\",\"sizeref\":0.018967499999999998,\"symbol\":\"circle\"},\"mode\":\"markers\",\"name\":\"United Kingdom\",\"orientation\":\"v\",\"showlegend\":true,\"x\":[1.26637],\"xaxis\":\"x\",\"y\":[6.867],\"yaxis\":\"y\",\"type\":\"scatter\"},{\"hovertemplate\":\"<b>%{hovertext}</b><br><br>Country=Germany<br>Region=Western Europe<br>Economy (GDP per Capita)=%{x}<br>Happiness Score=%{marker.size}<extra></extra>\",\"hovertext\":[26.0],\"ids\":[\"Germany\"],\"legendgroup\":\"Germany\",\"marker\":{\"color\":\"#19d3f3\",\"size\":[6.75],\"sizemode\":\"area\",\"sizeref\":0.018967499999999998,\"symbol\":\"circle\"},\"mode\":\"markers\",\"name\":\"Germany\",\"orientation\":\"v\",\"showlegend\":true,\"x\":[1.32792],\"xaxis\":\"x\",\"y\":[6.75],\"yaxis\":\"y\",\"type\":\"scatter\"},{\"hovertemplate\":\"<b>%{hovertext}</b><br><br>Country=France<br>Region=Western Europe<br>Economy (GDP per Capita)=%{x}<br>Happiness Score=%{marker.size}<extra></extra>\",\"hovertext\":[29.0],\"ids\":[\"France\"],\"legendgroup\":\"France\",\"marker\":{\"color\":\"#FF97FF\",\"size\":[6.575],\"sizemode\":\"area\",\"sizeref\":0.018967499999999998,\"symbol\":\"circle\"},\"mode\":\"markers\",\"name\":\"France\",\"orientation\":\"v\",\"showlegend\":true,\"x\":[1.27778],\"xaxis\":\"x\",\"y\":[6.575],\"yaxis\":\"y\",\"type\":\"scatter\"},{\"hovertemplate\":\"<b>%{hovertext}</b><br><br>Country=Spain<br>Region=Western Europe<br>Economy (GDP per Capita)=%{x}<br>Happiness Score=%{marker.size}<extra></extra>\",\"hovertext\":[36.0],\"ids\":[\"Spain\"],\"legendgroup\":\"Spain\",\"marker\":{\"color\":\"#19d3f3\",\"size\":[6.329],\"sizemode\":\"area\",\"sizeref\":0.018967499999999998,\"symbol\":\"circle\"},\"mode\":\"markers\",\"name\":\"Spain\",\"orientation\":\"v\",\"showlegend\":true,\"x\":[1.23011],\"xaxis\":\"x\",\"y\":[6.329],\"yaxis\":\"y\",\"type\":\"scatter\"},{\"hovertemplate\":\"<b>%{hovertext}</b><br><br>Country=Malta<br>Region=Western Europe<br>Economy (GDP per Capita)=%{x}<br>Happiness Score=%{marker.size}<extra></extra>\",\"hovertext\":[37.0],\"ids\":[\"Malta\"],\"legendgroup\":\"Malta\",\"marker\":{\"color\":\"#FF6692\",\"size\":[6.302],\"sizemode\":\"area\",\"sizeref\":0.018967499999999998,\"symbol\":\"circle\"},\"mode\":\"markers\",\"name\":\"Malta\",\"orientation\":\"v\",\"showlegend\":true,\"x\":[1.2074],\"xaxis\":\"x\",\"y\":[6.302],\"yaxis\":\"y\",\"type\":\"scatter\"},{\"hovertemplate\":\"<b>%{hovertext}</b><br><br>Country=Italy<br>Region=Western Europe<br>Economy (GDP per Capita)=%{x}<br>Happiness Score=%{marker.size}<extra></extra>\",\"hovertext\":[50.0],\"ids\":[\"Italy\"],\"legendgroup\":\"Italy\",\"marker\":{\"color\":\"#FECB52\",\"size\":[5.948],\"sizemode\":\"area\",\"sizeref\":0.018967499999999998,\"symbol\":\"circle\"},\"mode\":\"markers\",\"name\":\"Italy\",\"orientation\":\"v\",\"showlegend\":true,\"x\":[1.25114],\"xaxis\":\"x\",\"y\":[5.948],\"yaxis\":\"y\",\"type\":\"scatter\"},{\"hovertemplate\":\"<b>%{hovertext}</b><br><br>Country=North Cyprus<br>Region=Western Europe<br>Economy (GDP per Capita)=%{x}<br>Happiness Score=%{marker.size}<extra></extra>\",\"hovertext\":[66.0],\"ids\":[\"North Cyprus\"],\"legendgroup\":\"North Cyprus\",\"marker\":{\"color\":\"#19d3f3\",\"size\":[5.695],\"sizemode\":\"area\",\"sizeref\":0.018967499999999998,\"symbol\":\"circle\"},\"mode\":\"markers\",\"name\":\"North Cyprus\",\"orientation\":\"v\",\"showlegend\":true,\"x\":[1.20806],\"xaxis\":\"x\",\"y\":[5.695],\"yaxis\":\"y\",\"type\":\"scatter\"},{\"hovertemplate\":\"<b>%{hovertext}</b><br><br>Country=Cyprus<br>Region=Western Europe<br>Economy (GDP per Capita)=%{x}<br>Happiness Score=%{marker.size}<extra></extra>\",\"hovertext\":[67.0],\"ids\":[\"Cyprus\"],\"legendgroup\":\"Cyprus\",\"marker\":{\"color\":\"#FF6692\",\"size\":[5.689],\"sizemode\":\"area\",\"sizeref\":0.018967499999999998,\"symbol\":\"circle\"},\"mode\":\"markers\",\"name\":\"Cyprus\",\"orientation\":\"v\",\"showlegend\":true,\"x\":[1.20813],\"xaxis\":\"x\",\"y\":[5.689],\"yaxis\":\"y\",\"type\":\"scatter\"},{\"hovertemplate\":\"<b>%{hovertext}</b><br><br>Country=Portugal<br>Region=Western Europe<br>Economy (GDP per Capita)=%{x}<br>Happiness Score=%{marker.size}<extra></extra>\",\"hovertext\":[88.0],\"ids\":[\"Portugal\"],\"legendgroup\":\"Portugal\",\"marker\":{\"color\":\"#B6E880\",\"size\":[5.102],\"sizemode\":\"area\",\"sizeref\":0.018967499999999998,\"symbol\":\"circle\"},\"mode\":\"markers\",\"name\":\"Portugal\",\"orientation\":\"v\",\"showlegend\":true,\"x\":[1.15991],\"xaxis\":\"x\",\"y\":[5.102],\"yaxis\":\"y\",\"type\":\"scatter\"},{\"hovertemplate\":\"<b>%{hovertext}</b><br><br>Country=Greece<br>Region=Western Europe<br>Economy (GDP per Capita)=%{x}<br>Happiness Score=%{marker.size}<extra></extra>\",\"hovertext\":[102.0],\"ids\":[\"Greece\"],\"legendgroup\":\"Greece\",\"marker\":{\"color\":\"#EF553B\",\"size\":[4.857],\"sizemode\":\"area\",\"sizeref\":0.018967499999999998,\"symbol\":\"circle\"},\"mode\":\"markers\",\"name\":\"Greece\",\"orientation\":\"v\",\"showlegend\":true,\"x\":[1.15406],\"xaxis\":\"x\",\"y\":[4.857],\"yaxis\":\"y\",\"type\":\"scatter\"}],\"name\":\"Western Europe\"},{\"data\":[{\"hovertemplate\":\"<b>%{hovertext}</b><br><br>Country=Canada<br>Region=North America<br>Economy (GDP per Capita)=%{x}<br>Happiness Score=%{marker.size}<extra></extra>\",\"hovertext\":[5.0],\"ids\":[\"Canada\"],\"legendgroup\":\"Canada\",\"marker\":{\"color\":\"#FFA15A\",\"size\":[7.427],\"sizemode\":\"area\",\"sizeref\":0.018967499999999998,\"symbol\":\"circle\"},\"mode\":\"markers\",\"name\":\"Canada\",\"orientation\":\"v\",\"showlegend\":true,\"x\":[1.32629],\"xaxis\":\"x\",\"y\":[7.427],\"yaxis\":\"y\",\"type\":\"scatter\"},{\"hovertemplate\":\"<b>%{hovertext}</b><br><br>Country=United States<br>Region=North America<br>Economy (GDP per Capita)=%{x}<br>Happiness Score=%{marker.size}<extra></extra>\",\"hovertext\":[15.0],\"ids\":[\"United States\"],\"legendgroup\":\"United States\",\"marker\":{\"color\":\"#FFA15A\",\"size\":[7.119],\"sizemode\":\"area\",\"sizeref\":0.018967499999999998,\"symbol\":\"circle\"},\"mode\":\"markers\",\"name\":\"United States\",\"orientation\":\"v\",\"showlegend\":true,\"x\":[1.39451],\"xaxis\":\"x\",\"y\":[7.119],\"yaxis\":\"y\",\"type\":\"scatter\"}],\"name\":\"North America\"},{\"data\":[{\"hovertemplate\":\"<b>%{hovertext}</b><br><br>Country=New Zealand<br>Region=Australia and New Zealand<br>Economy (GDP per Capita)=%{x}<br>Happiness Score=%{marker.size}<extra></extra>\",\"hovertext\":[9.0],\"ids\":[\"New Zealand\"],\"legendgroup\":\"New Zealand\",\"marker\":{\"color\":\"#FF97FF\",\"size\":[7.286],\"sizemode\":\"area\",\"sizeref\":0.018967499999999998,\"symbol\":\"circle\"},\"mode\":\"markers\",\"name\":\"New Zealand\",\"orientation\":\"v\",\"showlegend\":true,\"x\":[1.25018],\"xaxis\":\"x\",\"y\":[7.286],\"yaxis\":\"y\",\"type\":\"scatter\"},{\"hovertemplate\":\"<b>%{hovertext}</b><br><br>Country=Australia<br>Region=Australia and New Zealand<br>Economy (GDP per Capita)=%{x}<br>Happiness Score=%{marker.size}<extra></extra>\",\"hovertext\":[10.0],\"ids\":[\"Australia\"],\"legendgroup\":\"Australia\",\"marker\":{\"color\":\"#FECB52\",\"size\":[7.284],\"sizemode\":\"area\",\"sizeref\":0.018967499999999998,\"symbol\":\"circle\"},\"mode\":\"markers\",\"name\":\"Australia\",\"orientation\":\"v\",\"showlegend\":true,\"x\":[1.33358],\"xaxis\":\"x\",\"y\":[7.284],\"yaxis\":\"y\",\"type\":\"scatter\"}],\"name\":\"Australia and New Zealand\"},{\"data\":[{\"hovertemplate\":\"<b>%{hovertext}</b><br><br>Country=Israel<br>Region=Middle East and Northern Africa<br>Economy (GDP per Capita)=%{x}<br>Happiness Score=%{marker.size}<extra></extra>\",\"hovertext\":[11.0],\"ids\":[\"Israel\"],\"legendgroup\":\"Israel\",\"marker\":{\"color\":\"#636efa\",\"size\":[7.278],\"sizemode\":\"area\",\"sizeref\":0.018967499999999998,\"symbol\":\"circle\"},\"mode\":\"markers\",\"name\":\"Israel\",\"orientation\":\"v\",\"showlegend\":true,\"x\":[1.22857],\"xaxis\":\"x\",\"y\":[7.278],\"yaxis\":\"y\",\"type\":\"scatter\"},{\"hovertemplate\":\"<b>%{hovertext}</b><br><br>Country=United Arab Emirates<br>Region=Middle East and Northern Africa<br>Economy (GDP per Capita)=%{x}<br>Happiness Score=%{marker.size}<extra></extra>\",\"hovertext\":[20.0],\"ids\":[\"United Arab Emirates\"],\"legendgroup\":\"United Arab Emirates\",\"marker\":{\"color\":\"#FECB52\",\"size\":[6.901],\"sizemode\":\"area\",\"sizeref\":0.018967499999999998,\"symbol\":\"circle\"},\"mode\":\"markers\",\"name\":\"United Arab Emirates\",\"orientation\":\"v\",\"showlegend\":true,\"x\":[1.42727],\"xaxis\":\"x\",\"y\":[6.901],\"yaxis\":\"y\",\"type\":\"scatter\"},{\"hovertemplate\":\"<b>%{hovertext}</b><br><br>Country=Oman<br>Region=Middle East and Northern Africa<br>Economy (GDP per Capita)=%{x}<br>Happiness Score=%{marker.size}<extra></extra>\",\"hovertext\":[22.0],\"ids\":[\"Oman\"],\"legendgroup\":\"Oman\",\"marker\":{\"color\":\"#EF553B\",\"size\":[6.853],\"sizemode\":\"area\",\"sizeref\":0.018967499999999998,\"symbol\":\"circle\"},\"mode\":\"markers\",\"name\":\"Oman\",\"orientation\":\"v\",\"showlegend\":true,\"x\":[1.36011],\"xaxis\":\"x\",\"y\":[6.853],\"yaxis\":\"y\",\"type\":\"scatter\"},{\"hovertemplate\":\"<b>%{hovertext}</b><br><br>Country=Qatar<br>Region=Middle East and Northern Africa<br>Economy (GDP per Capita)=%{x}<br>Happiness Score=%{marker.size}<extra></extra>\",\"hovertext\":[28.0],\"ids\":[\"Qatar\"],\"legendgroup\":\"Qatar\",\"marker\":{\"color\":\"#B6E880\",\"size\":[6.611],\"sizemode\":\"area\",\"sizeref\":0.018967499999999998,\"symbol\":\"circle\"},\"mode\":\"markers\",\"name\":\"Qatar\",\"orientation\":\"v\",\"showlegend\":true,\"x\":[1.69042],\"xaxis\":\"x\",\"y\":[6.611],\"yaxis\":\"y\",\"type\":\"scatter\"},{\"hovertemplate\":\"<b>%{hovertext}</b><br><br>Country=Saudi Arabia<br>Region=Middle East and Northern Africa<br>Economy (GDP per Capita)=%{x}<br>Happiness Score=%{marker.size}<extra></extra>\",\"hovertext\":[35.0],\"ids\":[\"Saudi Arabia\"],\"legendgroup\":\"Saudi Arabia\",\"marker\":{\"color\":\"#FFA15A\",\"size\":[6.411],\"sizemode\":\"area\",\"sizeref\":0.018967499999999998,\"symbol\":\"circle\"},\"mode\":\"markers\",\"name\":\"Saudi Arabia\",\"orientation\":\"v\",\"showlegend\":true,\"x\":[1.39541],\"xaxis\":\"x\",\"y\":[6.411],\"yaxis\":\"y\",\"type\":\"scatter\"},{\"hovertemplate\":\"<b>%{hovertext}</b><br><br>Country=Kuwait<br>Region=Middle East and Northern Africa<br>Economy (GDP per Capita)=%{x}<br>Happiness Score=%{marker.size}<extra></extra>\",\"hovertext\":[39.0],\"ids\":[\"Kuwait\"],\"legendgroup\":\"Kuwait\",\"marker\":{\"color\":\"#FF97FF\",\"size\":[6.295],\"sizemode\":\"area\",\"sizeref\":0.018967499999999998,\"symbol\":\"circle\"},\"mode\":\"markers\",\"name\":\"Kuwait\",\"orientation\":\"v\",\"showlegend\":true,\"x\":[1.55422],\"xaxis\":\"x\",\"y\":[6.295],\"yaxis\":\"y\",\"type\":\"scatter\"},{\"hovertemplate\":\"<b>%{hovertext}</b><br><br>Country=Bahrain<br>Region=Middle East and Northern Africa<br>Economy (GDP per Capita)=%{x}<br>Happiness Score=%{marker.size}<extra></extra>\",\"hovertext\":[49.0],\"ids\":[\"Bahrain\"],\"legendgroup\":\"Bahrain\",\"marker\":{\"color\":\"#FF97FF\",\"size\":[5.96],\"sizemode\":\"area\",\"sizeref\":0.018967499999999998,\"symbol\":\"circle\"},\"mode\":\"markers\",\"name\":\"Bahrain\",\"orientation\":\"v\",\"showlegend\":true,\"x\":[1.32376],\"xaxis\":\"x\",\"y\":[5.96],\"yaxis\":\"y\",\"type\":\"scatter\"},{\"hovertemplate\":\"<b>%{hovertext}</b><br><br>Country=Libya<br>Region=Middle East and Northern Africa<br>Economy (GDP per Capita)=%{x}<br>Happiness Score=%{marker.size}<extra></extra>\",\"hovertext\":[63.0],\"ids\":[\"Libya\"],\"legendgroup\":\"Libya\",\"marker\":{\"color\":\"#00cc96\",\"size\":[5.754],\"sizemode\":\"area\",\"sizeref\":0.018967499999999998,\"symbol\":\"circle\"},\"mode\":\"markers\",\"name\":\"Libya\",\"orientation\":\"v\",\"showlegend\":true,\"x\":[1.13145],\"xaxis\":\"x\",\"y\":[5.754],\"yaxis\":\"y\",\"type\":\"scatter\"},{\"hovertemplate\":\"<b>%{hovertext}</b><br><br>Country=Algeria<br>Region=Middle East and Northern Africa<br>Economy (GDP per Capita)=%{x}<br>Happiness Score=%{marker.size}<extra></extra>\",\"hovertext\":[68.0],\"ids\":[\"Algeria\"],\"legendgroup\":\"Algeria\",\"marker\":{\"color\":\"#B6E880\",\"size\":[5.605],\"sizemode\":\"area\",\"sizeref\":0.018967499999999998,\"symbol\":\"circle\"},\"mode\":\"markers\",\"name\":\"Algeria\",\"orientation\":\"v\",\"showlegend\":true,\"x\":[0.93929],\"xaxis\":\"x\",\"y\":[5.605],\"yaxis\":\"y\",\"type\":\"scatter\"},{\"hovertemplate\":\"<b>%{hovertext}</b><br><br>Country=Turkey<br>Region=Middle East and Northern Africa<br>Economy (GDP per Capita)=%{x}<br>Happiness Score=%{marker.size}<extra></extra>\",\"hovertext\":[76.0],\"ids\":[\"Turkey\"],\"legendgroup\":\"Turkey\",\"marker\":{\"color\":\"#19d3f3\",\"size\":[5.332],\"sizemode\":\"area\",\"sizeref\":0.018967499999999998,\"symbol\":\"circle\"},\"mode\":\"markers\",\"name\":\"Turkey\",\"orientation\":\"v\",\"showlegend\":true,\"x\":[1.06098],\"xaxis\":\"x\",\"y\":[5.332],\"yaxis\":\"y\",\"type\":\"scatter\"},{\"hovertemplate\":\"<b>%{hovertext}</b><br><br>Country=Jordan<br>Region=Middle East and Northern Africa<br>Economy (GDP per Capita)=%{x}<br>Happiness Score=%{marker.size}<extra></extra>\",\"hovertext\":[82.0],\"ids\":[\"Jordan\"],\"legendgroup\":\"Jordan\",\"marker\":{\"color\":\"#EF553B\",\"size\":[5.192],\"sizemode\":\"area\",\"sizeref\":0.018967499999999998,\"symbol\":\"circle\"},\"mode\":\"markers\",\"name\":\"Jordan\",\"orientation\":\"v\",\"showlegend\":true,\"x\":[0.90198],\"xaxis\":\"x\",\"y\":[5.192],\"yaxis\":\"y\",\"type\":\"scatter\"},{\"hovertemplate\":\"<b>%{hovertext}</b><br><br>Country=Morocco<br>Region=Middle East and Northern Africa<br>Economy (GDP per Capita)=%{x}<br>Happiness Score=%{marker.size}<extra></extra>\",\"hovertext\":[92.0],\"ids\":[\"Morocco\"],\"legendgroup\":\"Morocco\",\"marker\":{\"color\":\"#EF553B\",\"size\":[5.013],\"sizemode\":\"area\",\"sizeref\":0.018967499999999998,\"symbol\":\"circle\"},\"mode\":\"markers\",\"name\":\"Morocco\",\"orientation\":\"v\",\"showlegend\":true,\"x\":[0.73479],\"xaxis\":\"x\",\"y\":[5.013],\"yaxis\":\"y\",\"type\":\"scatter\"},{\"hovertemplate\":\"<b>%{hovertext}</b><br><br>Country=Lebanon<br>Region=Middle East and Northern Africa<br>Economy (GDP per Capita)=%{x}<br>Happiness Score=%{marker.size}<extra></extra>\",\"hovertext\":[103.0],\"ids\":[\"Lebanon\"],\"legendgroup\":\"Lebanon\",\"marker\":{\"color\":\"#00cc96\",\"size\":[4.839],\"sizemode\":\"area\",\"sizeref\":0.018967499999999998,\"symbol\":\"circle\"},\"mode\":\"markers\",\"name\":\"Lebanon\",\"orientation\":\"v\",\"showlegend\":true,\"x\":[1.02564],\"xaxis\":\"x\",\"y\":[4.839],\"yaxis\":\"y\",\"type\":\"scatter\"},{\"hovertemplate\":\"<b>%{hovertext}</b><br><br>Country=Tunisia<br>Region=Middle East and Northern Africa<br>Economy (GDP per Capita)=%{x}<br>Happiness Score=%{marker.size}<extra></extra>\",\"hovertext\":[107.0],\"ids\":[\"Tunisia\"],\"legendgroup\":\"Tunisia\",\"marker\":{\"color\":\"#FF6692\",\"size\":[4.739],\"sizemode\":\"area\",\"sizeref\":0.018967499999999998,\"symbol\":\"circle\"},\"mode\":\"markers\",\"name\":\"Tunisia\",\"orientation\":\"v\",\"showlegend\":true,\"x\":[0.88113],\"xaxis\":\"x\",\"y\":[4.739],\"yaxis\":\"y\",\"type\":\"scatter\"},{\"hovertemplate\":\"<b>%{hovertext}</b><br><br>Country=Palestinian Territories<br>Region=Middle East and Northern Africa<br>Economy (GDP per Capita)=%{x}<br>Happiness Score=%{marker.size}<extra></extra>\",\"hovertext\":[108.0],\"ids\":[\"Palestinian Territories\"],\"legendgroup\":\"Palestinian Territories\",\"marker\":{\"color\":\"#B6E880\",\"size\":[4.715],\"sizemode\":\"area\",\"sizeref\":0.018967499999999998,\"symbol\":\"circle\"},\"mode\":\"markers\",\"name\":\"Palestinian Territories\",\"orientation\":\"v\",\"showlegend\":true,\"x\":[0.59867],\"xaxis\":\"x\",\"y\":[4.715],\"yaxis\":\"y\",\"type\":\"scatter\"},{\"hovertemplate\":\"<b>%{hovertext}</b><br><br>Country=Iran<br>Region=Middle East and Northern Africa<br>Economy (GDP per Capita)=%{x}<br>Happiness Score=%{marker.size}<extra></extra>\",\"hovertext\":[110.0],\"ids\":[\"Iran\"],\"legendgroup\":\"Iran\",\"marker\":{\"color\":\"#FECB52\",\"size\":[4.686],\"sizemode\":\"area\",\"sizeref\":0.018967499999999998,\"symbol\":\"circle\"},\"mode\":\"markers\",\"name\":\"Iran\",\"orientation\":\"v\",\"showlegend\":true,\"x\":[1.0088],\"xaxis\":\"x\",\"y\":[4.686],\"yaxis\":\"y\",\"type\":\"scatter\"},{\"hovertemplate\":\"<b>%{hovertext}</b><br><br>Country=Iraq<br>Region=Middle East and Northern Africa<br>Economy (GDP per Capita)=%{x}<br>Happiness Score=%{marker.size}<extra></extra>\",\"hovertext\":[112.0],\"ids\":[\"Iraq\"],\"legendgroup\":\"Iraq\",\"marker\":{\"color\":\"#EF553B\",\"size\":[4.677],\"sizemode\":\"area\",\"sizeref\":0.018967499999999998,\"symbol\":\"circle\"},\"mode\":\"markers\",\"name\":\"Iraq\",\"orientation\":\"v\",\"showlegend\":true,\"x\":[0.98549],\"xaxis\":\"x\",\"y\":[4.677],\"yaxis\":\"y\",\"type\":\"scatter\"},{\"hovertemplate\":\"<b>%{hovertext}</b><br><br>Country=Egypt<br>Region=Middle East and Northern Africa<br>Economy (GDP per Capita)=%{x}<br>Happiness Score=%{marker.size}<extra></extra>\",\"hovertext\":[135.0],\"ids\":[\"Egypt\"],\"legendgroup\":\"Egypt\",\"marker\":{\"color\":\"#FFA15A\",\"size\":[4.194],\"sizemode\":\"area\",\"sizeref\":0.018967499999999998,\"symbol\":\"circle\"},\"mode\":\"markers\",\"name\":\"Egypt\",\"orientation\":\"v\",\"showlegend\":true,\"x\":[0.8818],\"xaxis\":\"x\",\"y\":[4.194],\"yaxis\":\"y\",\"type\":\"scatter\"},{\"hovertemplate\":\"<b>%{hovertext}</b><br><br>Country=Yemen<br>Region=Middle East and Northern Africa<br>Economy (GDP per Capita)=%{x}<br>Happiness Score=%{marker.size}<extra></extra>\",\"hovertext\":[136.0],\"ids\":[\"Yemen\"],\"legendgroup\":\"Yemen\",\"marker\":{\"color\":\"#19d3f3\",\"size\":[4.077],\"sizemode\":\"area\",\"sizeref\":0.018967499999999998,\"symbol\":\"circle\"},\"mode\":\"markers\",\"name\":\"Yemen\",\"orientation\":\"v\",\"showlegend\":true,\"x\":[0.54649],\"xaxis\":\"x\",\"y\":[4.077],\"yaxis\":\"y\",\"type\":\"scatter\"},{\"hovertemplate\":\"<b>%{hovertext}</b><br><br>Country=Syria<br>Region=Middle East and Northern Africa<br>Economy (GDP per Capita)=%{x}<br>Happiness Score=%{marker.size}<extra></extra>\",\"hovertext\":[156.0],\"ids\":[\"Syria\"],\"legendgroup\":\"Syria\",\"marker\":{\"color\":\"#19d3f3\",\"size\":[3.006],\"sizemode\":\"area\",\"sizeref\":0.018967499999999998,\"symbol\":\"circle\"},\"mode\":\"markers\",\"name\":\"Syria\",\"orientation\":\"v\",\"showlegend\":true,\"x\":[0.6632],\"xaxis\":\"x\",\"y\":[3.006],\"yaxis\":\"y\",\"type\":\"scatter\"}],\"name\":\"Middle East and Northern Africa\"},{\"data\":[{\"hovertemplate\":\"<b>%{hovertext}</b><br><br>Country=Costa Rica<br>Region=Latin America and Caribbean<br>Economy (GDP per Capita)=%{x}<br>Happiness Score=%{marker.size}<extra></extra>\",\"hovertext\":[12.0],\"ids\":[\"Costa Rica\"],\"legendgroup\":\"Costa Rica\",\"marker\":{\"color\":\"#EF553B\",\"size\":[7.226],\"sizemode\":\"area\",\"sizeref\":0.018967499999999998,\"symbol\":\"circle\"},\"mode\":\"markers\",\"name\":\"Costa Rica\",\"orientation\":\"v\",\"showlegend\":true,\"x\":[0.95578],\"xaxis\":\"x\",\"y\":[7.226],\"yaxis\":\"y\",\"type\":\"scatter\"},{\"hovertemplate\":\"<b>%{hovertext}</b><br><br>Country=Mexico<br>Region=Latin America and Caribbean<br>Economy (GDP per Capita)=%{x}<br>Happiness Score=%{marker.size}<extra></extra>\",\"hovertext\":[14.0],\"ids\":[\"Mexico\"],\"legendgroup\":\"Mexico\",\"marker\":{\"color\":\"#ab63fa\",\"size\":[7.187],\"sizemode\":\"area\",\"sizeref\":0.018967499999999998,\"symbol\":\"circle\"},\"mode\":\"markers\",\"name\":\"Mexico\",\"orientation\":\"v\",\"showlegend\":true,\"x\":[1.02054],\"xaxis\":\"x\",\"y\":[7.187],\"yaxis\":\"y\",\"type\":\"scatter\"},{\"hovertemplate\":\"<b>%{hovertext}</b><br><br>Country=Brazil<br>Region=Latin America and Caribbean<br>Economy (GDP per Capita)=%{x}<br>Happiness Score=%{marker.size}<extra></extra>\",\"hovertext\":[16.0],\"ids\":[\"Brazil\"],\"legendgroup\":\"Brazil\",\"marker\":{\"color\":\"#19d3f3\",\"size\":[6.983],\"sizemode\":\"area\",\"sizeref\":0.018967499999999998,\"symbol\":\"circle\"},\"mode\":\"markers\",\"name\":\"Brazil\",\"orientation\":\"v\",\"showlegend\":true,\"x\":[0.98124],\"xaxis\":\"x\",\"y\":[6.983],\"yaxis\":\"y\",\"type\":\"scatter\"},{\"hovertemplate\":\"<b>%{hovertext}</b><br><br>Country=Venezuela<br>Region=Latin America and Caribbean<br>Economy (GDP per Capita)=%{x}<br>Happiness Score=%{marker.size}<extra></extra>\",\"hovertext\":[23.0],\"ids\":[\"Venezuela\"],\"legendgroup\":\"Venezuela\",\"marker\":{\"color\":\"#00cc96\",\"size\":[6.81],\"sizemode\":\"area\",\"sizeref\":0.018967499999999998,\"symbol\":\"circle\"},\"mode\":\"markers\",\"name\":\"Venezuela\",\"orientation\":\"v\",\"showlegend\":true,\"x\":[1.04424],\"xaxis\":\"x\",\"y\":[6.81],\"yaxis\":\"y\",\"type\":\"scatter\"},{\"hovertemplate\":\"<b>%{hovertext}</b><br><br>Country=Panama<br>Region=Latin America and Caribbean<br>Economy (GDP per Capita)=%{x}<br>Happiness Score=%{marker.size}<extra></extra>\",\"hovertext\":[25.0],\"ids\":[\"Panama\"],\"legendgroup\":\"Panama\",\"marker\":{\"color\":\"#FFA15A\",\"size\":[6.786],\"sizemode\":\"area\",\"sizeref\":0.018967499999999998,\"symbol\":\"circle\"},\"mode\":\"markers\",\"name\":\"Panama\",\"orientation\":\"v\",\"showlegend\":true,\"x\":[1.06353],\"xaxis\":\"x\",\"y\":[6.786],\"yaxis\":\"y\",\"type\":\"scatter\"},{\"hovertemplate\":\"<b>%{hovertext}</b><br><br>Country=Chile<br>Region=Latin America and Caribbean<br>Economy (GDP per Capita)=%{x}<br>Happiness Score=%{marker.size}<extra></extra>\",\"hovertext\":[27.0],\"ids\":[\"Chile\"],\"legendgroup\":\"Chile\",\"marker\":{\"color\":\"#FF6692\",\"size\":[6.67],\"sizemode\":\"area\",\"sizeref\":0.018967499999999998,\"symbol\":\"circle\"},\"mode\":\"markers\",\"name\":\"Chile\",\"orientation\":\"v\",\"showlegend\":true,\"x\":[1.10715],\"xaxis\":\"x\",\"y\":[6.67],\"yaxis\":\"y\",\"type\":\"scatter\"},{\"hovertemplate\":\"<b>%{hovertext}</b><br><br>Country=Argentina<br>Region=Latin America and Caribbean<br>Economy (GDP per Capita)=%{x}<br>Happiness Score=%{marker.size}<extra></extra>\",\"hovertext\":[30.0],\"ids\":[\"Argentina\"],\"legendgroup\":\"Argentina\",\"marker\":{\"color\":\"#FECB52\",\"size\":[6.574],\"sizemode\":\"area\",\"sizeref\":0.018967499999999998,\"symbol\":\"circle\"},\"mode\":\"markers\",\"name\":\"Argentina\",\"orientation\":\"v\",\"showlegend\":true,\"x\":[1.05351],\"xaxis\":\"x\",\"y\":[6.574],\"yaxis\":\"y\",\"type\":\"scatter\"},{\"hovertemplate\":\"<b>%{hovertext}</b><br><br>Country=Uruguay<br>Region=Latin America and Caribbean<br>Economy (GDP per Capita)=%{x}<br>Happiness Score=%{marker.size}<extra></extra>\",\"hovertext\":[32.0],\"ids\":[\"Uruguay\"],\"legendgroup\":\"Uruguay\",\"marker\":{\"color\":\"#EF553B\",\"size\":[6.485],\"sizemode\":\"area\",\"sizeref\":0.018967499999999998,\"symbol\":\"circle\"},\"mode\":\"markers\",\"name\":\"Uruguay\",\"orientation\":\"v\",\"showlegend\":true,\"x\":[1.06166],\"xaxis\":\"x\",\"y\":[6.485],\"yaxis\":\"y\",\"type\":\"scatter\"},{\"hovertemplate\":\"<b>%{hovertext}</b><br><br>Country=Colombia<br>Region=Latin America and Caribbean<br>Economy (GDP per Capita)=%{x}<br>Happiness Score=%{marker.size}<extra></extra>\",\"hovertext\":[33.0],\"ids\":[\"Colombia\"],\"legendgroup\":\"Colombia\",\"marker\":{\"color\":\"#00cc96\",\"size\":[6.477],\"sizemode\":\"area\",\"sizeref\":0.018967499999999998,\"symbol\":\"circle\"},\"mode\":\"markers\",\"name\":\"Colombia\",\"orientation\":\"v\",\"showlegend\":true,\"x\":[0.91861],\"xaxis\":\"x\",\"y\":[6.477],\"yaxis\":\"y\",\"type\":\"scatter\"},{\"hovertemplate\":\"<b>%{hovertext}</b><br><br>Country=Suriname<br>Region=Latin America and Caribbean<br>Economy (GDP per Capita)=%{x}<br>Happiness Score=%{marker.size}<extra></extra>\",\"hovertext\":[40.0],\"ids\":[\"Suriname\"],\"legendgroup\":\"Suriname\",\"marker\":{\"color\":\"#FECB52\",\"size\":[6.269],\"sizemode\":\"area\",\"sizeref\":0.018967499999999998,\"symbol\":\"circle\"},\"mode\":\"markers\",\"name\":\"Suriname\",\"orientation\":\"v\",\"showlegend\":true,\"x\":[0.99534],\"xaxis\":\"x\",\"y\":[6.269],\"yaxis\":\"y\",\"type\":\"scatter\"},{\"hovertemplate\":\"<b>%{hovertext}</b><br><br>Country=Trinidad and Tobago<br>Region=Latin America and Caribbean<br>Economy (GDP per Capita)=%{x}<br>Happiness Score=%{marker.size}<extra></extra>\",\"hovertext\":[41.0],\"ids\":[\"Trinidad and Tobago\"],\"legendgroup\":\"Trinidad and Tobago\",\"marker\":{\"color\":\"#636efa\",\"size\":[6.168],\"sizemode\":\"area\",\"sizeref\":0.018967499999999998,\"symbol\":\"circle\"},\"mode\":\"markers\",\"name\":\"Trinidad and Tobago\",\"orientation\":\"v\",\"showlegend\":true,\"x\":[1.21183],\"xaxis\":\"x\",\"y\":[6.168],\"yaxis\":\"y\",\"type\":\"scatter\"},{\"hovertemplate\":\"<b>%{hovertext}</b><br><br>Country=El Salvador<br>Region=Latin America and Caribbean<br>Economy (GDP per Capita)=%{x}<br>Happiness Score=%{marker.size}<extra></extra>\",\"hovertext\":[42.0],\"ids\":[\"El Salvador\"],\"legendgroup\":\"El Salvador\",\"marker\":{\"color\":\"#EF553B\",\"size\":[6.13],\"sizemode\":\"area\",\"sizeref\":0.018967499999999998,\"symbol\":\"circle\"},\"mode\":\"markers\",\"name\":\"El Salvador\",\"orientation\":\"v\",\"showlegend\":true,\"x\":[0.76454],\"xaxis\":\"x\",\"y\":[6.13],\"yaxis\":\"y\",\"type\":\"scatter\"},{\"hovertemplate\":\"<b>%{hovertext}</b><br><br>Country=Guatemala<br>Region=Latin America and Caribbean<br>Economy (GDP per Capita)=%{x}<br>Happiness Score=%{marker.size}<extra></extra>\",\"hovertext\":[43.0],\"ids\":[\"Guatemala\"],\"legendgroup\":\"Guatemala\",\"marker\":{\"color\":\"#00cc96\",\"size\":[6.123],\"sizemode\":\"area\",\"sizeref\":0.018967499999999998,\"symbol\":\"circle\"},\"mode\":\"markers\",\"name\":\"Guatemala\",\"orientation\":\"v\",\"showlegend\":true,\"x\":[0.74553],\"xaxis\":\"x\",\"y\":[6.123],\"yaxis\":\"y\",\"type\":\"scatter\"},{\"hovertemplate\":\"<b>%{hovertext}</b><br><br>Country=Ecuador<br>Region=Latin America and Caribbean<br>Economy (GDP per Capita)=%{x}<br>Happiness Score=%{marker.size}<extra></extra>\",\"hovertext\":[48.0],\"ids\":[\"Ecuador\"],\"legendgroup\":\"Ecuador\",\"marker\":{\"color\":\"#B6E880\",\"size\":[5.975],\"sizemode\":\"area\",\"sizeref\":0.018967499999999998,\"symbol\":\"circle\"},\"mode\":\"markers\",\"name\":\"Ecuador\",\"orientation\":\"v\",\"showlegend\":true,\"x\":[0.86402],\"xaxis\":\"x\",\"y\":[5.975],\"yaxis\":\"y\",\"type\":\"scatter\"},{\"hovertemplate\":\"<b>%{hovertext}</b><br><br>Country=Bolivia<br>Region=Latin America and Caribbean<br>Economy (GDP per Capita)=%{x}<br>Happiness Score=%{marker.size}<extra></extra>\",\"hovertext\":[51.0],\"ids\":[\"Bolivia\"],\"legendgroup\":\"Bolivia\",\"marker\":{\"color\":\"#636efa\",\"size\":[5.89],\"sizemode\":\"area\",\"sizeref\":0.018967499999999998,\"symbol\":\"circle\"},\"mode\":\"markers\",\"name\":\"Bolivia\",\"orientation\":\"v\",\"showlegend\":true,\"x\":[0.68133],\"xaxis\":\"x\",\"y\":[5.89],\"yaxis\":\"y\",\"type\":\"scatter\"},{\"hovertemplate\":\"<b>%{hovertext}</b><br><br>Country=Paraguay<br>Region=Latin America and Caribbean<br>Economy (GDP per Capita)=%{x}<br>Happiness Score=%{marker.size}<extra></extra>\",\"hovertext\":[53.0],\"ids\":[\"Paraguay\"],\"legendgroup\":\"Paraguay\",\"marker\":{\"color\":\"#00cc96\",\"size\":[5.878],\"sizemode\":\"area\",\"sizeref\":0.018967499999999998,\"symbol\":\"circle\"},\"mode\":\"markers\",\"name\":\"Paraguay\",\"orientation\":\"v\",\"showlegend\":true,\"x\":[0.75985],\"xaxis\":\"x\",\"y\":[5.878],\"yaxis\":\"y\",\"type\":\"scatter\"},{\"hovertemplate\":\"<b>%{hovertext}</b><br><br>Country=Nicaragua<br>Region=Latin America and Caribbean<br>Economy (GDP per Capita)=%{x}<br>Happiness Score=%{marker.size}<extra></extra>\",\"hovertext\":[57.0],\"ids\":[\"Nicaragua\"],\"legendgroup\":\"Nicaragua\",\"marker\":{\"color\":\"#FF6692\",\"size\":[5.828],\"sizemode\":\"area\",\"sizeref\":0.018967499999999998,\"symbol\":\"circle\"},\"mode\":\"markers\",\"name\":\"Nicaragua\",\"orientation\":\"v\",\"showlegend\":true,\"x\":[0.59325],\"xaxis\":\"x\",\"y\":[5.828],\"yaxis\":\"y\",\"type\":\"scatter\"},{\"hovertemplate\":\"<b>%{hovertext}</b><br><br>Country=Peru<br>Region=Latin America and Caribbean<br>Economy (GDP per Capita)=%{x}<br>Happiness Score=%{marker.size}<extra></extra>\",\"hovertext\":[58.0],\"ids\":[\"Peru\"],\"legendgroup\":\"Peru\",\"marker\":{\"color\":\"#B6E880\",\"size\":[5.824],\"sizemode\":\"area\",\"sizeref\":0.018967499999999998,\"symbol\":\"circle\"},\"mode\":\"markers\",\"name\":\"Peru\",\"orientation\":\"v\",\"showlegend\":true,\"x\":[0.90019],\"xaxis\":\"x\",\"y\":[5.824],\"yaxis\":\"y\",\"type\":\"scatter\"},{\"hovertemplate\":\"<b>%{hovertext}</b><br><br>Country=Jamaica<br>Region=Latin America and Caribbean<br>Economy (GDP per Capita)=%{x}<br>Happiness Score=%{marker.size}<extra></extra>\",\"hovertext\":[65.0],\"ids\":[\"Jamaica\"],\"legendgroup\":\"Jamaica\",\"marker\":{\"color\":\"#FFA15A\",\"size\":[5.709],\"sizemode\":\"area\",\"sizeref\":0.018967499999999998,\"symbol\":\"circle\"},\"mode\":\"markers\",\"name\":\"Jamaica\",\"orientation\":\"v\",\"showlegend\":true,\"x\":[0.81038],\"xaxis\":\"x\",\"y\":[5.709],\"yaxis\":\"y\",\"type\":\"scatter\"},{\"hovertemplate\":\"<b>%{hovertext}</b><br><br>Country=Dominican Republic<br>Region=Latin America and Caribbean<br>Economy (GDP per Capita)=%{x}<br>Happiness Score=%{marker.size}<extra></extra>\",\"hovertext\":[98.0],\"ids\":[\"Dominican Republic\"],\"legendgroup\":\"Dominican Republic\",\"marker\":{\"color\":\"#B6E880\",\"size\":[4.885],\"sizemode\":\"area\",\"sizeref\":0.018967499999999998,\"symbol\":\"circle\"},\"mode\":\"markers\",\"name\":\"Dominican Republic\",\"orientation\":\"v\",\"showlegend\":true,\"x\":[0.89537],\"xaxis\":\"x\",\"y\":[4.885],\"yaxis\":\"y\",\"type\":\"scatter\"},{\"hovertemplate\":\"<b>%{hovertext}</b><br><br>Country=Honduras<br>Region=Latin America and Caribbean<br>Economy (GDP per Capita)=%{x}<br>Happiness Score=%{marker.size}<extra></extra>\",\"hovertext\":[105.0],\"ids\":[\"Honduras\"],\"legendgroup\":\"Honduras\",\"marker\":{\"color\":\"#FFA15A\",\"size\":[4.788],\"sizemode\":\"area\",\"sizeref\":0.018967499999999998,\"symbol\":\"circle\"},\"mode\":\"markers\",\"name\":\"Honduras\",\"orientation\":\"v\",\"showlegend\":true,\"x\":[0.59532],\"xaxis\":\"x\",\"y\":[4.788],\"yaxis\":\"y\",\"type\":\"scatter\"},{\"hovertemplate\":\"<b>%{hovertext}</b><br><br>Country=Haiti<br>Region=Latin America and Caribbean<br>Economy (GDP per Capita)=%{x}<br>Happiness Score=%{marker.size}<extra></extra>\",\"hovertext\":[119.0],\"ids\":[\"Haiti\"],\"legendgroup\":\"Haiti\",\"marker\":{\"color\":\"#FF97FF\",\"size\":[4.518],\"sizemode\":\"area\",\"sizeref\":0.018967499999999998,\"symbol\":\"circle\"},\"mode\":\"markers\",\"name\":\"Haiti\",\"orientation\":\"v\",\"showlegend\":true,\"x\":[0.26673],\"xaxis\":\"x\",\"y\":[4.518],\"yaxis\":\"y\",\"type\":\"scatter\"}],\"name\":\"Latin America and Caribbean\"},{\"data\":[{\"hovertemplate\":\"<b>%{hovertext}</b><br><br>Country=Singapore<br>Region=Southeastern Asia<br>Economy (GDP per Capita)=%{x}<br>Happiness Score=%{marker.size}<extra></extra>\",\"hovertext\":[24.0],\"ids\":[\"Singapore\"],\"legendgroup\":\"Singapore\",\"marker\":{\"color\":\"#ab63fa\",\"size\":[6.798],\"sizemode\":\"area\",\"sizeref\":0.018967499999999998,\"symbol\":\"circle\"},\"mode\":\"markers\",\"name\":\"Singapore\",\"orientation\":\"v\",\"showlegend\":true,\"x\":[1.52186],\"xaxis\":\"x\",\"y\":[6.798],\"yaxis\":\"y\",\"type\":\"scatter\"},{\"hovertemplate\":\"<b>%{hovertext}</b><br><br>Country=Thailand<br>Region=Southeastern Asia<br>Economy (GDP per Capita)=%{x}<br>Happiness Score=%{marker.size}<extra></extra>\",\"hovertext\":[34.0],\"ids\":[\"Thailand\"],\"legendgroup\":\"Thailand\",\"marker\":{\"color\":\"#ab63fa\",\"size\":[6.455],\"sizemode\":\"area\",\"sizeref\":0.018967499999999998,\"symbol\":\"circle\"},\"mode\":\"markers\",\"name\":\"Thailand\",\"orientation\":\"v\",\"showlegend\":true,\"x\":[0.9669],\"xaxis\":\"x\",\"y\":[6.455],\"yaxis\":\"y\",\"type\":\"scatter\"},{\"hovertemplate\":\"<b>%{hovertext}</b><br><br>Country=Malaysia<br>Region=Southeastern Asia<br>Economy (GDP per Capita)=%{x}<br>Happiness Score=%{marker.size}<extra></extra>\",\"hovertext\":[61.0],\"ids\":[\"Malaysia\"],\"legendgroup\":\"Malaysia\",\"marker\":{\"color\":\"#636efa\",\"size\":[5.77],\"sizemode\":\"area\",\"sizeref\":0.018967499999999998,\"symbol\":\"circle\"},\"mode\":\"markers\",\"name\":\"Malaysia\",\"orientation\":\"v\",\"showlegend\":true,\"x\":[1.12486],\"xaxis\":\"x\",\"y\":[5.77],\"yaxis\":\"y\",\"type\":\"scatter\"},{\"hovertemplate\":\"<b>%{hovertext}</b><br><br>Country=Indonesia<br>Region=Southeastern Asia<br>Economy (GDP per Capita)=%{x}<br>Happiness Score=%{marker.size}<extra></extra>\",\"hovertext\":[74.0],\"ids\":[\"Indonesia\"],\"legendgroup\":\"Indonesia\",\"marker\":{\"color\":\"#ab63fa\",\"size\":[5.399],\"sizemode\":\"area\",\"sizeref\":0.018967499999999998,\"symbol\":\"circle\"},\"mode\":\"markers\",\"name\":\"Indonesia\",\"orientation\":\"v\",\"showlegend\":true,\"x\":[0.82827],\"xaxis\":\"x\",\"y\":[5.399],\"yaxis\":\"y\",\"type\":\"scatter\"},{\"hovertemplate\":\"<b>%{hovertext}</b><br><br>Country=Vietnam<br>Region=Southeastern Asia<br>Economy (GDP per Capita)=%{x}<br>Happiness Score=%{marker.size}<extra></extra>\",\"hovertext\":[75.0],\"ids\":[\"Vietnam\"],\"legendgroup\":\"Vietnam\",\"marker\":{\"color\":\"#FFA15A\",\"size\":[5.36],\"sizemode\":\"area\",\"sizeref\":0.018967499999999998,\"symbol\":\"circle\"},\"mode\":\"markers\",\"name\":\"Vietnam\",\"orientation\":\"v\",\"showlegend\":true,\"x\":[0.63216],\"xaxis\":\"x\",\"y\":[5.36],\"yaxis\":\"y\",\"type\":\"scatter\"},{\"hovertemplate\":\"<b>%{hovertext}</b><br><br>Country=Philippines<br>Region=Southeastern Asia<br>Economy (GDP per Capita)=%{x}<br>Happiness Score=%{marker.size}<extra></extra>\",\"hovertext\":[90.0],\"ids\":[\"Philippines\"],\"legendgroup\":\"Philippines\",\"marker\":{\"color\":\"#FECB52\",\"size\":[5.073],\"sizemode\":\"area\",\"sizeref\":0.018967499999999998,\"symbol\":\"circle\"},\"mode\":\"markers\",\"name\":\"Philippines\",\"orientation\":\"v\",\"showlegend\":true,\"x\":[0.70532],\"xaxis\":\"x\",\"y\":[5.073],\"yaxis\":\"y\",\"type\":\"scatter\"},{\"hovertemplate\":\"<b>%{hovertext}</b><br><br>Country=Laos<br>Region=Southeastern Asia<br>Economy (GDP per Capita)=%{x}<br>Happiness Score=%{marker.size}<extra></extra>\",\"hovertext\":[99.0],\"ids\":[\"Laos\"],\"legendgroup\":\"Laos\",\"marker\":{\"color\":\"#FF97FF\",\"size\":[4.876],\"sizemode\":\"area\",\"sizeref\":0.018967499999999998,\"symbol\":\"circle\"},\"mode\":\"markers\",\"name\":\"Laos\",\"orientation\":\"v\",\"showlegend\":true,\"x\":[0.59066],\"xaxis\":\"x\",\"y\":[4.876],\"yaxis\":\"y\",\"type\":\"scatter\"},{\"hovertemplate\":\"<b>%{hovertext}</b><br><br>Country=Myanmar<br>Region=Southeastern Asia<br>Economy (GDP per Capita)=%{x}<br>Happiness Score=%{marker.size}<extra></extra>\",\"hovertext\":[129.0],\"ids\":[\"Myanmar\"],\"legendgroup\":\"Myanmar\",\"marker\":{\"color\":\"#FF97FF\",\"size\":[4.307],\"sizemode\":\"area\",\"sizeref\":0.018967499999999998,\"symbol\":\"circle\"},\"mode\":\"markers\",\"name\":\"Myanmar\",\"orientation\":\"v\",\"showlegend\":true,\"x\":[0.27108],\"xaxis\":\"x\",\"y\":[4.307],\"yaxis\":\"y\",\"type\":\"scatter\"},{\"hovertemplate\":\"<b>%{hovertext}</b><br><br>Country=Cambodia<br>Region=Southeastern Asia<br>Economy (GDP per Capita)=%{x}<br>Happiness Score=%{marker.size}<extra></extra>\",\"hovertext\":[145.0],\"ids\":[\"Cambodia\"],\"legendgroup\":\"Cambodia\",\"marker\":{\"color\":\"#FFA15A\",\"size\":[3.819],\"sizemode\":\"area\",\"sizeref\":0.018967499999999998,\"symbol\":\"circle\"},\"mode\":\"markers\",\"name\":\"Cambodia\",\"orientation\":\"v\",\"showlegend\":true,\"x\":[0.46038],\"xaxis\":\"x\",\"y\":[3.819],\"yaxis\":\"y\",\"type\":\"scatter\"}],\"name\":\"Southeastern Asia\"},{\"data\":[{\"hovertemplate\":\"<b>%{hovertext}</b><br><br>Country=Czech Republic<br>Region=Central and Eastern Europe<br>Economy (GDP per Capita)=%{x}<br>Happiness Score=%{marker.size}<extra></extra>\",\"hovertext\":[31.0],\"ids\":[\"Czech Republic\"],\"legendgroup\":\"Czech Republic\",\"marker\":{\"color\":\"#636efa\",\"size\":[6.505],\"sizemode\":\"area\",\"sizeref\":0.018967499999999998,\"symbol\":\"circle\"},\"mode\":\"markers\",\"name\":\"Czech Republic\",\"orientation\":\"v\",\"showlegend\":true,\"x\":[1.17898],\"xaxis\":\"x\",\"y\":[6.505],\"yaxis\":\"y\",\"type\":\"scatter\"},{\"hovertemplate\":\"<b>%{hovertext}</b><br><br>Country=Uzbekistan<br>Region=Central and Eastern Europe<br>Economy (GDP per Capita)=%{x}<br>Happiness Score=%{marker.size}<extra></extra>\",\"hovertext\":[44.0],\"ids\":[\"Uzbekistan\"],\"legendgroup\":\"Uzbekistan\",\"marker\":{\"color\":\"#ab63fa\",\"size\":[6.003],\"sizemode\":\"area\",\"sizeref\":0.018967499999999998,\"symbol\":\"circle\"},\"mode\":\"markers\",\"name\":\"Uzbekistan\",\"orientation\":\"v\",\"showlegend\":true,\"x\":[0.63244],\"xaxis\":\"x\",\"y\":[6.003],\"yaxis\":\"y\",\"type\":\"scatter\"},{\"hovertemplate\":\"<b>%{hovertext}</b><br><br>Country=Slovakia<br>Region=Central and Eastern Europe<br>Economy (GDP per Capita)=%{x}<br>Happiness Score=%{marker.size}<extra></extra>\",\"hovertext\":[45.0],\"ids\":[\"Slovakia\"],\"legendgroup\":\"Slovakia\",\"marker\":{\"color\":\"#FFA15A\",\"size\":[5.995],\"sizemode\":\"area\",\"sizeref\":0.018967499999999998,\"symbol\":\"circle\"},\"mode\":\"markers\",\"name\":\"Slovakia\",\"orientation\":\"v\",\"showlegend\":true,\"x\":[1.16891],\"xaxis\":\"x\",\"y\":[5.995],\"yaxis\":\"y\",\"type\":\"scatter\"},{\"hovertemplate\":\"<b>%{hovertext}</b><br><br>Country=Moldova<br>Region=Central and Eastern Europe<br>Economy (GDP per Capita)=%{x}<br>Happiness Score=%{marker.size}<extra></extra>\",\"hovertext\":[52.0],\"ids\":[\"Moldova\"],\"legendgroup\":\"Moldova\",\"marker\":{\"color\":\"#EF553B\",\"size\":[5.889],\"sizemode\":\"area\",\"sizeref\":0.018967499999999998,\"symbol\":\"circle\"},\"mode\":\"markers\",\"name\":\"Moldova\",\"orientation\":\"v\",\"showlegend\":true,\"x\":[0.59448],\"xaxis\":\"x\",\"y\":[5.889],\"yaxis\":\"y\",\"type\":\"scatter\"},{\"hovertemplate\":\"<b>%{hovertext}</b><br><br>Country=Kazakhstan<br>Region=Central and Eastern Europe<br>Economy (GDP per Capita)=%{x}<br>Happiness Score=%{marker.size}<extra></extra>\",\"hovertext\":[54.0],\"ids\":[\"Kazakhstan\"],\"legendgroup\":\"Kazakhstan\",\"marker\":{\"color\":\"#ab63fa\",\"size\":[5.855],\"sizemode\":\"area\",\"sizeref\":0.018967499999999998,\"symbol\":\"circle\"},\"mode\":\"markers\",\"name\":\"Kazakhstan\",\"orientation\":\"v\",\"showlegend\":true,\"x\":[1.12254],\"xaxis\":\"x\",\"y\":[5.855],\"yaxis\":\"y\",\"type\":\"scatter\"},{\"hovertemplate\":\"<b>%{hovertext}</b><br><br>Country=Slovenia<br>Region=Central and Eastern Europe<br>Economy (GDP per Capita)=%{x}<br>Happiness Score=%{marker.size}<extra></extra>\",\"hovertext\":[55.0],\"ids\":[\"Slovenia\"],\"legendgroup\":\"Slovenia\",\"marker\":{\"color\":\"#FFA15A\",\"size\":[5.848],\"sizemode\":\"area\",\"sizeref\":0.018967499999999998,\"symbol\":\"circle\"},\"mode\":\"markers\",\"name\":\"Slovenia\",\"orientation\":\"v\",\"showlegend\":true,\"x\":[1.18498],\"xaxis\":\"x\",\"y\":[5.848],\"yaxis\":\"y\",\"type\":\"scatter\"},{\"hovertemplate\":\"<b>%{hovertext}</b><br><br>Country=Lithuania<br>Region=Central and Eastern Europe<br>Economy (GDP per Capita)=%{x}<br>Happiness Score=%{marker.size}<extra></extra>\",\"hovertext\":[56.0],\"ids\":[\"Lithuania\"],\"legendgroup\":\"Lithuania\",\"marker\":{\"color\":\"#19d3f3\",\"size\":[5.833],\"sizemode\":\"area\",\"sizeref\":0.018967499999999998,\"symbol\":\"circle\"},\"mode\":\"markers\",\"name\":\"Lithuania\",\"orientation\":\"v\",\"showlegend\":true,\"x\":[1.14723],\"xaxis\":\"x\",\"y\":[5.833],\"yaxis\":\"y\",\"type\":\"scatter\"},{\"hovertemplate\":\"<b>%{hovertext}</b><br><br>Country=Belarus<br>Region=Central and Eastern Europe<br>Economy (GDP per Capita)=%{x}<br>Happiness Score=%{marker.size}<extra></extra>\",\"hovertext\":[59.0],\"ids\":[\"Belarus\"],\"legendgroup\":\"Belarus\",\"marker\":{\"color\":\"#FF97FF\",\"size\":[5.813],\"sizemode\":\"area\",\"sizeref\":0.018967499999999998,\"symbol\":\"circle\"},\"mode\":\"markers\",\"name\":\"Belarus\",\"orientation\":\"v\",\"showlegend\":true,\"x\":[1.03192],\"xaxis\":\"x\",\"y\":[5.813],\"yaxis\":\"y\",\"type\":\"scatter\"},{\"hovertemplate\":\"<b>%{hovertext}</b><br><br>Country=Poland<br>Region=Central and Eastern Europe<br>Economy (GDP per Capita)=%{x}<br>Happiness Score=%{marker.size}<extra></extra>\",\"hovertext\":[60.0],\"ids\":[\"Poland\"],\"legendgroup\":\"Poland\",\"marker\":{\"color\":\"#FECB52\",\"size\":[5.791],\"sizemode\":\"area\",\"sizeref\":0.018967499999999998,\"symbol\":\"circle\"},\"mode\":\"markers\",\"name\":\"Poland\",\"orientation\":\"v\",\"showlegend\":true,\"x\":[1.12555],\"xaxis\":\"x\",\"y\":[5.791],\"yaxis\":\"y\",\"type\":\"scatter\"},{\"hovertemplate\":\"<b>%{hovertext}</b><br><br>Country=Croatia<br>Region=Central and Eastern Europe<br>Economy (GDP per Capita)=%{x}<br>Happiness Score=%{marker.size}<extra></extra>\",\"hovertext\":[62.0],\"ids\":[\"Croatia\"],\"legendgroup\":\"Croatia\",\"marker\":{\"color\":\"#EF553B\",\"size\":[5.759],\"sizemode\":\"area\",\"sizeref\":0.018967499999999998,\"symbol\":\"circle\"},\"mode\":\"markers\",\"name\":\"Croatia\",\"orientation\":\"v\",\"showlegend\":true,\"x\":[1.08254],\"xaxis\":\"x\",\"y\":[5.759],\"yaxis\":\"y\",\"type\":\"scatter\"},{\"hovertemplate\":\"<b>%{hovertext}</b><br><br>Country=Russia<br>Region=Central and Eastern Europe<br>Economy (GDP per Capita)=%{x}<br>Happiness Score=%{marker.size}<extra></extra>\",\"hovertext\":[64.0],\"ids\":[\"Russia\"],\"legendgroup\":\"Russia\",\"marker\":{\"color\":\"#ab63fa\",\"size\":[5.716],\"sizemode\":\"area\",\"sizeref\":0.018967499999999998,\"symbol\":\"circle\"},\"mode\":\"markers\",\"name\":\"Russia\",\"orientation\":\"v\",\"showlegend\":true,\"x\":[1.13764],\"xaxis\":\"x\",\"y\":[5.716],\"yaxis\":\"y\",\"type\":\"scatter\"},{\"hovertemplate\":\"<b>%{hovertext}</b><br><br>Country=Kosovo<br>Region=Central and Eastern Europe<br>Economy (GDP per Capita)=%{x}<br>Happiness Score=%{marker.size}<extra></extra>\",\"hovertext\":[69.0],\"ids\":[\"Kosovo\"],\"legendgroup\":\"Kosovo\",\"marker\":{\"color\":\"#FF97FF\",\"size\":[5.589],\"sizemode\":\"area\",\"sizeref\":0.018967499999999998,\"symbol\":\"circle\"},\"mode\":\"markers\",\"name\":\"Kosovo\",\"orientation\":\"v\",\"showlegend\":true,\"x\":[0.80148],\"xaxis\":\"x\",\"y\":[5.589],\"yaxis\":\"y\",\"type\":\"scatter\"},{\"hovertemplate\":\"<b>%{hovertext}</b><br><br>Country=Turkmenistan<br>Region=Central and Eastern Europe<br>Economy (GDP per Capita)=%{x}<br>Happiness Score=%{marker.size}<extra></extra>\",\"hovertext\":[70.0],\"ids\":[\"Turkmenistan\"],\"legendgroup\":\"Turkmenistan\",\"marker\":{\"color\":\"#FECB52\",\"size\":[5.548],\"sizemode\":\"area\",\"sizeref\":0.018967499999999998,\"symbol\":\"circle\"},\"mode\":\"markers\",\"name\":\"Turkmenistan\",\"orientation\":\"v\",\"showlegend\":true,\"x\":[0.95847],\"xaxis\":\"x\",\"y\":[5.548],\"yaxis\":\"y\",\"type\":\"scatter\"},{\"hovertemplate\":\"<b>%{hovertext}</b><br><br>Country=Estonia<br>Region=Central and Eastern Europe<br>Economy (GDP per Capita)=%{x}<br>Happiness Score=%{marker.size}<extra></extra>\",\"hovertext\":[73.0],\"ids\":[\"Estonia\"],\"legendgroup\":\"Estonia\",\"marker\":{\"color\":\"#00cc96\",\"size\":[5.429],\"sizemode\":\"area\",\"sizeref\":0.018967499999999998,\"symbol\":\"circle\"},\"mode\":\"markers\",\"name\":\"Estonia\",\"orientation\":\"v\",\"showlegend\":true,\"x\":[1.15174],\"xaxis\":\"x\",\"y\":[5.429],\"yaxis\":\"y\",\"type\":\"scatter\"},{\"hovertemplate\":\"<b>%{hovertext}</b><br><br>Country=Kyrgyzstan<br>Region=Central and Eastern Europe<br>Economy (GDP per Capita)=%{x}<br>Happiness Score=%{marker.size}<extra></extra>\",\"hovertext\":[77.0],\"ids\":[\"Kyrgyzstan\"],\"legendgroup\":\"Kyrgyzstan\",\"marker\":{\"color\":\"#FF6692\",\"size\":[5.286],\"sizemode\":\"area\",\"sizeref\":0.018967499999999998,\"symbol\":\"circle\"},\"mode\":\"markers\",\"name\":\"Kyrgyzstan\",\"orientation\":\"v\",\"showlegend\":true,\"x\":[0.47428],\"xaxis\":\"x\",\"y\":[5.286],\"yaxis\":\"y\",\"type\":\"scatter\"},{\"hovertemplate\":\"<b>%{hovertext}</b><br><br>Country=Azerbaijan<br>Region=Central and Eastern Europe<br>Economy (GDP per Capita)=%{x}<br>Happiness Score=%{marker.size}<extra></extra>\",\"hovertext\":[80.0],\"ids\":[\"Azerbaijan\"],\"legendgroup\":\"Azerbaijan\",\"marker\":{\"color\":\"#FECB52\",\"size\":[5.212],\"sizemode\":\"area\",\"sizeref\":0.018967499999999998,\"symbol\":\"circle\"},\"mode\":\"markers\",\"name\":\"Azerbaijan\",\"orientation\":\"v\",\"showlegend\":true,\"x\":[1.02389],\"xaxis\":\"x\",\"y\":[5.212],\"yaxis\":\"y\",\"type\":\"scatter\"},{\"hovertemplate\":\"<b>%{hovertext}</b><br><br>Country=Montenegro<br>Region=Central and Eastern Europe<br>Economy (GDP per Capita)=%{x}<br>Happiness Score=%{marker.size}<extra></extra>\",\"hovertext\":[82.0],\"ids\":[\"Montenegro\"],\"legendgroup\":\"Montenegro\",\"marker\":{\"color\":\"#00cc96\",\"size\":[5.192],\"sizemode\":\"area\",\"sizeref\":0.018967499999999998,\"symbol\":\"circle\"},\"mode\":\"markers\",\"name\":\"Montenegro\",\"orientation\":\"v\",\"showlegend\":true,\"x\":[0.97438],\"xaxis\":\"x\",\"y\":[5.192],\"yaxis\":\"y\",\"type\":\"scatter\"},{\"hovertemplate\":\"<b>%{hovertext}</b><br><br>Country=Romania<br>Region=Central and Eastern Europe<br>Economy (GDP per Capita)=%{x}<br>Happiness Score=%{marker.size}<extra></extra>\",\"hovertext\":[86.0],\"ids\":[\"Romania\"],\"legendgroup\":\"Romania\",\"marker\":{\"color\":\"#19d3f3\",\"size\":[5.124],\"sizemode\":\"area\",\"sizeref\":0.018967499999999998,\"symbol\":\"circle\"},\"mode\":\"markers\",\"name\":\"Romania\",\"orientation\":\"v\",\"showlegend\":true,\"x\":[1.04345],\"xaxis\":\"x\",\"y\":[5.124],\"yaxis\":\"y\",\"type\":\"scatter\"},{\"hovertemplate\":\"<b>%{hovertext}</b><br><br>Country=Serbia<br>Region=Central and Eastern Europe<br>Economy (GDP per Capita)=%{x}<br>Happiness Score=%{marker.size}<extra></extra>\",\"hovertext\":[87.0],\"ids\":[\"Serbia\"],\"legendgroup\":\"Serbia\",\"marker\":{\"color\":\"#FF6692\",\"size\":[5.123],\"sizemode\":\"area\",\"sizeref\":0.018967499999999998,\"symbol\":\"circle\"},\"mode\":\"markers\",\"name\":\"Serbia\",\"orientation\":\"v\",\"showlegend\":true,\"x\":[0.92053],\"xaxis\":\"x\",\"y\":[5.123],\"yaxis\":\"y\",\"type\":\"scatter\"},{\"hovertemplate\":\"<b>%{hovertext}</b><br><br>Country=Latvia<br>Region=Central and Eastern Europe<br>Economy (GDP per Capita)=%{x}<br>Happiness Score=%{marker.size}<extra></extra>\",\"hovertext\":[89.0],\"ids\":[\"Latvia\"],\"legendgroup\":\"Latvia\",\"marker\":{\"color\":\"#FF97FF\",\"size\":[5.098],\"sizemode\":\"area\",\"sizeref\":0.018967499999999998,\"symbol\":\"circle\"},\"mode\":\"markers\",\"name\":\"Latvia\",\"orientation\":\"v\",\"showlegend\":true,\"x\":[1.11312],\"xaxis\":\"x\",\"y\":[5.098],\"yaxis\":\"y\",\"type\":\"scatter\"},{\"hovertemplate\":\"<b>%{hovertext}</b><br><br>Country=Macedonia<br>Region=Central and Eastern Europe<br>Economy (GDP per Capita)=%{x}<br>Happiness Score=%{marker.size}<extra></extra>\",\"hovertext\":[93.0],\"ids\":[\"Macedonia\"],\"legendgroup\":\"Macedonia\",\"marker\":{\"color\":\"#00cc96\",\"size\":[5.007],\"sizemode\":\"area\",\"sizeref\":0.018967499999999998,\"symbol\":\"circle\"},\"mode\":\"markers\",\"name\":\"Macedonia\",\"orientation\":\"v\",\"showlegend\":true,\"x\":[0.91851],\"xaxis\":\"x\",\"y\":[5.007],\"yaxis\":\"y\",\"type\":\"scatter\"},{\"hovertemplate\":\"<b>%{hovertext}</b><br><br>Country=Albania<br>Region=Central and Eastern Europe<br>Economy (GDP per Capita)=%{x}<br>Happiness Score=%{marker.size}<extra></extra>\",\"hovertext\":[95.0],\"ids\":[\"Albania\"],\"legendgroup\":\"Albania\",\"marker\":{\"color\":\"#FFA15A\",\"size\":[4.959],\"sizemode\":\"area\",\"sizeref\":0.018967499999999998,\"symbol\":\"circle\"},\"mode\":\"markers\",\"name\":\"Albania\",\"orientation\":\"v\",\"showlegend\":true,\"x\":[0.87867],\"xaxis\":\"x\",\"y\":[4.959],\"yaxis\":\"y\",\"type\":\"scatter\"},{\"hovertemplate\":\"<b>%{hovertext}</b><br><br>Country=Bosnia and Herzegovina<br>Region=Central and Eastern Europe<br>Economy (GDP per Capita)=%{x}<br>Happiness Score=%{marker.size}<extra></extra>\",\"hovertext\":[96.0],\"ids\":[\"Bosnia and Herzegovina\"],\"legendgroup\":\"Bosnia and Herzegovina\",\"marker\":{\"color\":\"#19d3f3\",\"size\":[4.949],\"sizemode\":\"area\",\"sizeref\":0.018967499999999998,\"symbol\":\"circle\"},\"mode\":\"markers\",\"name\":\"Bosnia and Herzegovina\",\"orientation\":\"v\",\"showlegend\":true,\"x\":[0.83223],\"xaxis\":\"x\",\"y\":[4.949],\"yaxis\":\"y\",\"type\":\"scatter\"},{\"hovertemplate\":\"<b>%{hovertext}</b><br><br>Country=Hungary<br>Region=Central and Eastern Europe<br>Economy (GDP per Capita)=%{x}<br>Happiness Score=%{marker.size}<extra></extra>\",\"hovertext\":[104.0],\"ids\":[\"Hungary\"],\"legendgroup\":\"Hungary\",\"marker\":{\"color\":\"#ab63fa\",\"size\":[4.8],\"sizemode\":\"area\",\"sizeref\":0.018967499999999998,\"symbol\":\"circle\"},\"mode\":\"markers\",\"name\":\"Hungary\",\"orientation\":\"v\",\"showlegend\":true,\"x\":[1.12094],\"xaxis\":\"x\",\"y\":[4.8],\"yaxis\":\"y\",\"type\":\"scatter\"},{\"hovertemplate\":\"<b>%{hovertext}</b><br><br>Country=Tajikistan<br>Region=Central and Eastern Europe<br>Economy (GDP per Capita)=%{x}<br>Happiness Score=%{marker.size}<extra></extra>\",\"hovertext\":[106.0],\"ids\":[\"Tajikistan\"],\"legendgroup\":\"Tajikistan\",\"marker\":{\"color\":\"#19d3f3\",\"size\":[4.786],\"sizemode\":\"area\",\"sizeref\":0.018967499999999998,\"symbol\":\"circle\"},\"mode\":\"markers\",\"name\":\"Tajikistan\",\"orientation\":\"v\",\"showlegend\":true,\"x\":[0.39047],\"xaxis\":\"x\",\"y\":[4.786],\"yaxis\":\"y\",\"type\":\"scatter\"},{\"hovertemplate\":\"<b>%{hovertext}</b><br><br>Country=Ukraine<br>Region=Central and Eastern Europe<br>Economy (GDP per Capita)=%{x}<br>Happiness Score=%{marker.size}<extra></extra>\",\"hovertext\":[111.0],\"ids\":[\"Ukraine\"],\"legendgroup\":\"Ukraine\",\"marker\":{\"color\":\"#636efa\",\"size\":[4.681],\"sizemode\":\"area\",\"sizeref\":0.018967499999999998,\"symbol\":\"circle\"},\"mode\":\"markers\",\"name\":\"Ukraine\",\"orientation\":\"v\",\"showlegend\":true,\"x\":[0.79907],\"xaxis\":\"x\",\"y\":[4.681],\"yaxis\":\"y\",\"type\":\"scatter\"},{\"hovertemplate\":\"<b>%{hovertext}</b><br><br>Country=Armenia<br>Region=Central and Eastern Europe<br>Economy (GDP per Capita)=%{x}<br>Happiness Score=%{marker.size}<extra></extra>\",\"hovertext\":[127.0],\"ids\":[\"Armenia\"],\"legendgroup\":\"Armenia\",\"marker\":{\"color\":\"#FF6692\",\"size\":[4.35],\"sizemode\":\"area\",\"sizeref\":0.018967499999999998,\"symbol\":\"circle\"},\"mode\":\"markers\",\"name\":\"Armenia\",\"orientation\":\"v\",\"showlegend\":true,\"x\":[0.76821],\"xaxis\":\"x\",\"y\":[4.35],\"yaxis\":\"y\",\"type\":\"scatter\"},{\"hovertemplate\":\"<b>%{hovertext}</b><br><br>Country=Georgia<br>Region=Central and Eastern Europe<br>Economy (GDP per Capita)=%{x}<br>Happiness Score=%{marker.size}<extra></extra>\",\"hovertext\":[130.0],\"ids\":[\"Georgia\"],\"legendgroup\":\"Georgia\",\"marker\":{\"color\":\"#FECB52\",\"size\":[4.297],\"sizemode\":\"area\",\"sizeref\":0.018967499999999998,\"symbol\":\"circle\"},\"mode\":\"markers\",\"name\":\"Georgia\",\"orientation\":\"v\",\"showlegend\":true,\"x\":[0.7419],\"xaxis\":\"x\",\"y\":[4.297],\"yaxis\":\"y\",\"type\":\"scatter\"},{\"hovertemplate\":\"<b>%{hovertext}</b><br><br>Country=Bulgaria<br>Region=Central and Eastern Europe<br>Economy (GDP per Capita)=%{x}<br>Happiness Score=%{marker.size}<extra></extra>\",\"hovertext\":[134.0],\"ids\":[\"Bulgaria\"],\"legendgroup\":\"Bulgaria\",\"marker\":{\"color\":\"#ab63fa\",\"size\":[4.218],\"sizemode\":\"area\",\"sizeref\":0.018967499999999998,\"symbol\":\"circle\"},\"mode\":\"markers\",\"name\":\"Bulgaria\",\"orientation\":\"v\",\"showlegend\":true,\"x\":[1.01216],\"xaxis\":\"x\",\"y\":[4.218],\"yaxis\":\"y\",\"type\":\"scatter\"}],\"name\":\"Central and Eastern Europe\"},{\"data\":[{\"hovertemplate\":\"<b>%{hovertext}</b><br><br>Country=Taiwan<br>Region=Eastern Asia<br>Economy (GDP per Capita)=%{x}<br>Happiness Score=%{marker.size}<extra></extra>\",\"hovertext\":[38.0],\"ids\":[\"Taiwan\"],\"legendgroup\":\"Taiwan\",\"marker\":{\"color\":\"#B6E880\",\"size\":[6.298],\"sizemode\":\"area\",\"sizeref\":0.018967499999999998,\"symbol\":\"circle\"},\"mode\":\"markers\",\"name\":\"Taiwan\",\"orientation\":\"v\",\"showlegend\":true,\"x\":[1.29098],\"xaxis\":\"x\",\"y\":[6.298],\"yaxis\":\"y\",\"type\":\"scatter\"},{\"hovertemplate\":\"<b>%{hovertext}</b><br><br>Country=Japan<br>Region=Eastern Asia<br>Economy (GDP per Capita)=%{x}<br>Happiness Score=%{marker.size}<extra></extra>\",\"hovertext\":[46.0],\"ids\":[\"Japan\"],\"legendgroup\":\"Japan\",\"marker\":{\"color\":\"#19d3f3\",\"size\":[5.987],\"sizemode\":\"area\",\"sizeref\":0.018967499999999998,\"symbol\":\"circle\"},\"mode\":\"markers\",\"name\":\"Japan\",\"orientation\":\"v\",\"showlegend\":true,\"x\":[1.27074],\"xaxis\":\"x\",\"y\":[5.987],\"yaxis\":\"y\",\"type\":\"scatter\"},{\"hovertemplate\":\"<b>%{hovertext}</b><br><br>Country=South Korea<br>Region=Eastern Asia<br>Economy (GDP per Capita)=%{x}<br>Happiness Score=%{marker.size}<extra></extra>\",\"hovertext\":[47.0],\"ids\":[\"South Korea\"],\"legendgroup\":\"South Korea\",\"marker\":{\"color\":\"#FF6692\",\"size\":[5.984],\"sizemode\":\"area\",\"sizeref\":0.018967499999999998,\"symbol\":\"circle\"},\"mode\":\"markers\",\"name\":\"South Korea\",\"orientation\":\"v\",\"showlegend\":true,\"x\":[1.24461],\"xaxis\":\"x\",\"y\":[5.984],\"yaxis\":\"y\",\"type\":\"scatter\"},{\"hovertemplate\":\"<b>%{hovertext}</b><br><br>Country=Hong Kong<br>Region=Eastern Asia<br>Economy (GDP per Capita)=%{x}<br>Happiness Score=%{marker.size}<extra></extra>\",\"hovertext\":[72.0],\"ids\":[\"Hong Kong\"],\"legendgroup\":\"Hong Kong\",\"marker\":{\"color\":\"#EF553B\",\"size\":[5.474],\"sizemode\":\"area\",\"sizeref\":0.018967499999999998,\"symbol\":\"circle\"},\"mode\":\"markers\",\"name\":\"Hong Kong\",\"orientation\":\"v\",\"showlegend\":true,\"x\":[1.38604],\"xaxis\":\"x\",\"y\":[5.474],\"yaxis\":\"y\",\"type\":\"scatter\"},{\"hovertemplate\":\"<b>%{hovertext}</b><br><br>Country=China<br>Region=Eastern Asia<br>Economy (GDP per Capita)=%{x}<br>Happiness Score=%{marker.size}<extra></extra>\",\"hovertext\":[84.0],\"ids\":[\"China\"],\"legendgroup\":\"China\",\"marker\":{\"color\":\"#ab63fa\",\"size\":[5.14],\"sizemode\":\"area\",\"sizeref\":0.018967499999999998,\"symbol\":\"circle\"},\"mode\":\"markers\",\"name\":\"China\",\"orientation\":\"v\",\"showlegend\":true,\"x\":[0.89012],\"xaxis\":\"x\",\"y\":[5.14],\"yaxis\":\"y\",\"type\":\"scatter\"},{\"hovertemplate\":\"<b>%{hovertext}</b><br><br>Country=Mongolia<br>Region=Eastern Asia<br>Economy (GDP per Capita)=%{x}<br>Happiness Score=%{marker.size}<extra></extra>\",\"hovertext\":[100.0],\"ids\":[\"Mongolia\"],\"legendgroup\":\"Mongolia\",\"marker\":{\"color\":\"#FECB52\",\"size\":[4.874],\"sizemode\":\"area\",\"sizeref\":0.018967499999999998,\"symbol\":\"circle\"},\"mode\":\"markers\",\"name\":\"Mongolia\",\"orientation\":\"v\",\"showlegend\":true,\"x\":[0.82819],\"xaxis\":\"x\",\"y\":[4.874],\"yaxis\":\"y\",\"type\":\"scatter\"}],\"name\":\"Eastern Asia\"},{\"data\":[{\"hovertemplate\":\"<b>%{hovertext}</b><br><br>Country=Mauritius<br>Region=Sub-Saharan Africa<br>Economy (GDP per Capita)=%{x}<br>Happiness Score=%{marker.size}<extra></extra>\",\"hovertext\":[71.0],\"ids\":[\"Mauritius\"],\"legendgroup\":\"Mauritius\",\"marker\":{\"color\":\"#636efa\",\"size\":[5.477],\"sizemode\":\"area\",\"sizeref\":0.018967499999999998,\"symbol\":\"circle\"},\"mode\":\"markers\",\"name\":\"Mauritius\",\"orientation\":\"v\",\"showlegend\":true,\"x\":[1.00761],\"xaxis\":\"x\",\"y\":[5.477],\"yaxis\":\"y\",\"type\":\"scatter\"},{\"hovertemplate\":\"<b>%{hovertext}</b><br><br>Country=Nigeria<br>Region=Sub-Saharan Africa<br>Economy (GDP per Capita)=%{x}<br>Happiness Score=%{marker.size}<extra></extra>\",\"hovertext\":[78.0],\"ids\":[\"Nigeria\"],\"legendgroup\":\"Nigeria\",\"marker\":{\"color\":\"#B6E880\",\"size\":[5.268],\"sizemode\":\"area\",\"sizeref\":0.018967499999999998,\"symbol\":\"circle\"},\"mode\":\"markers\",\"name\":\"Nigeria\",\"orientation\":\"v\",\"showlegend\":true,\"x\":[0.65435],\"xaxis\":\"x\",\"y\":[5.268],\"yaxis\":\"y\",\"type\":\"scatter\"},{\"hovertemplate\":\"<b>%{hovertext}</b><br><br>Country=Zambia<br>Region=Sub-Saharan Africa<br>Economy (GDP per Capita)=%{x}<br>Happiness Score=%{marker.size}<extra></extra>\",\"hovertext\":[85.0],\"ids\":[\"Zambia\"],\"legendgroup\":\"Zambia\",\"marker\":{\"color\":\"#FFA15A\",\"size\":[5.129],\"sizemode\":\"area\",\"sizeref\":0.018967499999999998,\"symbol\":\"circle\"},\"mode\":\"markers\",\"name\":\"Zambia\",\"orientation\":\"v\",\"showlegend\":true,\"x\":[0.47038],\"xaxis\":\"x\",\"y\":[5.129],\"yaxis\":\"y\",\"type\":\"scatter\"},{\"hovertemplate\":\"<b>%{hovertext}</b><br><br>Country=Somaliland region<br>Region=Sub-Saharan Africa<br>Economy (GDP per Capita)=%{x}<br>Happiness Score=%{marker.size}<extra></extra>\",\"hovertext\":[91.0],\"ids\":[\"Somaliland region\"],\"legendgroup\":\"Somaliland region\",\"marker\":{\"color\":\"#636efa\",\"size\":[5.057],\"sizemode\":\"area\",\"sizeref\":0.018967499999999998,\"symbol\":\"circle\"},\"mode\":\"markers\",\"name\":\"Somaliland region\",\"orientation\":\"v\",\"showlegend\":true,\"x\":[0.18847],\"xaxis\":\"x\",\"y\":[5.057],\"yaxis\":\"y\",\"type\":\"scatter\"},{\"hovertemplate\":\"<b>%{hovertext}</b><br><br>Country=Mozambique<br>Region=Sub-Saharan Africa<br>Economy (GDP per Capita)=%{x}<br>Happiness Score=%{marker.size}<extra></extra>\",\"hovertext\":[94.0],\"ids\":[\"Mozambique\"],\"legendgroup\":\"Mozambique\",\"marker\":{\"color\":\"#ab63fa\",\"size\":[4.971],\"sizemode\":\"area\",\"sizeref\":0.018967499999999998,\"symbol\":\"circle\"},\"mode\":\"markers\",\"name\":\"Mozambique\",\"orientation\":\"v\",\"showlegend\":true,\"x\":[0.08308],\"xaxis\":\"x\",\"y\":[4.971],\"yaxis\":\"y\",\"type\":\"scatter\"},{\"hovertemplate\":\"<b>%{hovertext}</b><br><br>Country=Lesotho<br>Region=Sub-Saharan Africa<br>Economy (GDP per Capita)=%{x}<br>Happiness Score=%{marker.size}<extra></extra>\",\"hovertext\":[97.0],\"ids\":[\"Lesotho\"],\"legendgroup\":\"Lesotho\",\"marker\":{\"color\":\"#FF6692\",\"size\":[4.898],\"sizemode\":\"area\",\"sizeref\":0.018967499999999998,\"symbol\":\"circle\"},\"mode\":\"markers\",\"name\":\"Lesotho\",\"orientation\":\"v\",\"showlegend\":true,\"x\":[0.37545],\"xaxis\":\"x\",\"y\":[4.898],\"yaxis\":\"y\",\"type\":\"scatter\"},{\"hovertemplate\":\"<b>%{hovertext}</b><br><br>Country=Swaziland<br>Region=Sub-Saharan Africa<br>Economy (GDP per Capita)=%{x}<br>Happiness Score=%{marker.size}<extra></extra>\",\"hovertext\":[101.0],\"ids\":[\"Swaziland\"],\"legendgroup\":\"Swaziland\",\"marker\":{\"color\":\"#636efa\",\"size\":[4.867],\"sizemode\":\"area\",\"sizeref\":0.018967499999999998,\"symbol\":\"circle\"},\"mode\":\"markers\",\"name\":\"Swaziland\",\"orientation\":\"v\",\"showlegend\":true,\"x\":[0.71206],\"xaxis\":\"x\",\"y\":[4.867],\"yaxis\":\"y\",\"type\":\"scatter\"},{\"hovertemplate\":\"<b>%{hovertext}</b><br><br>Country=South Africa<br>Region=Sub-Saharan Africa<br>Economy (GDP per Capita)=%{x}<br>Happiness Score=%{marker.size}<extra></extra>\",\"hovertext\":[113.0],\"ids\":[\"South Africa\"],\"legendgroup\":\"South Africa\",\"marker\":{\"color\":\"#00cc96\",\"size\":[4.642],\"sizemode\":\"area\",\"sizeref\":0.018967499999999998,\"symbol\":\"circle\"},\"mode\":\"markers\",\"name\":\"South Africa\",\"orientation\":\"v\",\"showlegend\":true,\"x\":[0.92049],\"xaxis\":\"x\",\"y\":[4.642],\"yaxis\":\"y\",\"type\":\"scatter\"},{\"hovertemplate\":\"<b>%{hovertext}</b><br><br>Country=Ghana<br>Region=Sub-Saharan Africa<br>Economy (GDP per Capita)=%{x}<br>Happiness Score=%{marker.size}<extra></extra>\",\"hovertext\":[114.0],\"ids\":[\"Ghana\"],\"legendgroup\":\"Ghana\",\"marker\":{\"color\":\"#ab63fa\",\"size\":[4.633],\"sizemode\":\"area\",\"sizeref\":0.018967499999999998,\"symbol\":\"circle\"},\"mode\":\"markers\",\"name\":\"Ghana\",\"orientation\":\"v\",\"showlegend\":true,\"x\":[0.54558],\"xaxis\":\"x\",\"y\":[4.633],\"yaxis\":\"y\",\"type\":\"scatter\"},{\"hovertemplate\":\"<b>%{hovertext}</b><br><br>Country=Zimbabwe<br>Region=Sub-Saharan Africa<br>Economy (GDP per Capita)=%{x}<br>Happiness Score=%{marker.size}<extra></extra>\",\"hovertext\":[115.0],\"ids\":[\"Zimbabwe\"],\"legendgroup\":\"Zimbabwe\",\"marker\":{\"color\":\"#FFA15A\",\"size\":[4.61],\"sizemode\":\"area\",\"sizeref\":0.018967499999999998,\"symbol\":\"circle\"},\"mode\":\"markers\",\"name\":\"Zimbabwe\",\"orientation\":\"v\",\"showlegend\":true,\"x\":[0.271],\"xaxis\":\"x\",\"y\":[4.61],\"yaxis\":\"y\",\"type\":\"scatter\"},{\"hovertemplate\":\"<b>%{hovertext}</b><br><br>Country=Liberia<br>Region=Sub-Saharan Africa<br>Economy (GDP per Capita)=%{x}<br>Happiness Score=%{marker.size}<extra></extra>\",\"hovertext\":[116.0],\"ids\":[\"Liberia\"],\"legendgroup\":\"Liberia\",\"marker\":{\"color\":\"#19d3f3\",\"size\":[4.571],\"sizemode\":\"area\",\"sizeref\":0.018967499999999998,\"symbol\":\"circle\"},\"mode\":\"markers\",\"name\":\"Liberia\",\"orientation\":\"v\",\"showlegend\":true,\"x\":[0.0712],\"xaxis\":\"x\",\"y\":[4.571],\"yaxis\":\"y\",\"type\":\"scatter\"},{\"hovertemplate\":\"<b>%{hovertext}</b><br><br>Country=Sudan<br>Region=Sub-Saharan Africa<br>Economy (GDP per Capita)=%{x}<br>Happiness Score=%{marker.size}<extra></extra>\",\"hovertext\":[118.0],\"ids\":[\"Sudan\"],\"legendgroup\":\"Sudan\",\"marker\":{\"color\":\"#B6E880\",\"size\":[4.55],\"sizemode\":\"area\",\"sizeref\":0.018967499999999998,\"symbol\":\"circle\"},\"mode\":\"markers\",\"name\":\"Sudan\",\"orientation\":\"v\",\"showlegend\":true,\"x\":[0.52107],\"xaxis\":\"x\",\"y\":[4.55],\"yaxis\":\"y\",\"type\":\"scatter\"},{\"hovertemplate\":\"<b>%{hovertext}</b><br><br>Country=Congo (Kinshasa)<br>Region=Sub-Saharan Africa<br>Economy (GDP per Capita)=%{x}<br>Happiness Score=%{marker.size}<extra></extra>\",\"hovertext\":[120.0],\"ids\":[\"Congo (Kinshasa)\"],\"legendgroup\":\"Congo (Kinshasa)\",\"marker\":{\"color\":\"#FECB52\",\"size\":[4.517],\"sizemode\":\"area\",\"sizeref\":0.018967499999999998,\"symbol\":\"circle\"},\"mode\":\"markers\",\"name\":\"Congo (Kinshasa)\",\"orientation\":\"v\",\"showlegend\":true,\"x\":[0.0],\"xaxis\":\"x\",\"y\":[4.517],\"yaxis\":\"y\",\"type\":\"scatter\"},{\"hovertemplate\":\"<b>%{hovertext}</b><br><br>Country=Ethiopia<br>Region=Sub-Saharan Africa<br>Economy (GDP per Capita)=%{x}<br>Happiness Score=%{marker.size}<extra></extra>\",\"hovertext\":[122.0],\"ids\":[\"Ethiopia\"],\"legendgroup\":\"Ethiopia\",\"marker\":{\"color\":\"#EF553B\",\"size\":[4.512],\"sizemode\":\"area\",\"sizeref\":0.018967499999999998,\"symbol\":\"circle\"},\"mode\":\"markers\",\"name\":\"Ethiopia\",\"orientation\":\"v\",\"showlegend\":true,\"x\":[0.19073],\"xaxis\":\"x\",\"y\":[4.512],\"yaxis\":\"y\",\"type\":\"scatter\"},{\"hovertemplate\":\"<b>%{hovertext}</b><br><br>Country=Sierra Leone<br>Region=Sub-Saharan Africa<br>Economy (GDP per Capita)=%{x}<br>Happiness Score=%{marker.size}<extra></extra>\",\"hovertext\":[123.0],\"ids\":[\"Sierra Leone\"],\"legendgroup\":\"Sierra Leone\",\"marker\":{\"color\":\"#00cc96\",\"size\":[4.507],\"sizemode\":\"area\",\"sizeref\":0.018967499999999998,\"symbol\":\"circle\"},\"mode\":\"markers\",\"name\":\"Sierra Leone\",\"orientation\":\"v\",\"showlegend\":true,\"x\":[0.33024],\"xaxis\":\"x\",\"y\":[4.507],\"yaxis\":\"y\",\"type\":\"scatter\"},{\"hovertemplate\":\"<b>%{hovertext}</b><br><br>Country=Mauritania<br>Region=Sub-Saharan Africa<br>Economy (GDP per Capita)=%{x}<br>Happiness Score=%{marker.size}<extra></extra>\",\"hovertext\":[124.0],\"ids\":[\"Mauritania\"],\"legendgroup\":\"Mauritania\",\"marker\":{\"color\":\"#ab63fa\",\"size\":[4.436],\"sizemode\":\"area\",\"sizeref\":0.018967499999999998,\"symbol\":\"circle\"},\"mode\":\"markers\",\"name\":\"Mauritania\",\"orientation\":\"v\",\"showlegend\":true,\"x\":[0.45407],\"xaxis\":\"x\",\"y\":[4.436],\"yaxis\":\"y\",\"type\":\"scatter\"},{\"hovertemplate\":\"<b>%{hovertext}</b><br><br>Country=Kenya<br>Region=Sub-Saharan Africa<br>Economy (GDP per Capita)=%{x}<br>Happiness Score=%{marker.size}<extra></extra>\",\"hovertext\":[125.0],\"ids\":[\"Kenya\"],\"legendgroup\":\"Kenya\",\"marker\":{\"color\":\"#FFA15A\",\"size\":[4.419],\"sizemode\":\"area\",\"sizeref\":0.018967499999999998,\"symbol\":\"circle\"},\"mode\":\"markers\",\"name\":\"Kenya\",\"orientation\":\"v\",\"showlegend\":true,\"x\":[0.36471],\"xaxis\":\"x\",\"y\":[4.419],\"yaxis\":\"y\",\"type\":\"scatter\"},{\"hovertemplate\":\"<b>%{hovertext}</b><br><br>Country=Djibouti<br>Region=Sub-Saharan Africa<br>Economy (GDP per Capita)=%{x}<br>Happiness Score=%{marker.size}<extra></extra>\",\"hovertext\":[126.0],\"ids\":[\"Djibouti\"],\"legendgroup\":\"Djibouti\",\"marker\":{\"color\":\"#19d3f3\",\"size\":[4.369],\"sizemode\":\"area\",\"sizeref\":0.018967499999999998,\"symbol\":\"circle\"},\"mode\":\"markers\",\"name\":\"Djibouti\",\"orientation\":\"v\",\"showlegend\":true,\"x\":[0.44025],\"xaxis\":\"x\",\"y\":[4.369],\"yaxis\":\"y\",\"type\":\"scatter\"},{\"hovertemplate\":\"<b>%{hovertext}</b><br><br>Country=Botswana<br>Region=Sub-Saharan Africa<br>Economy (GDP per Capita)=%{x}<br>Happiness Score=%{marker.size}<extra></extra>\",\"hovertext\":[128.0],\"ids\":[\"Botswana\"],\"legendgroup\":\"Botswana\",\"marker\":{\"color\":\"#B6E880\",\"size\":[4.332],\"sizemode\":\"area\",\"sizeref\":0.018967499999999998,\"symbol\":\"circle\"},\"mode\":\"markers\",\"name\":\"Botswana\",\"orientation\":\"v\",\"showlegend\":true,\"x\":[0.99355],\"xaxis\":\"x\",\"y\":[4.332],\"yaxis\":\"y\",\"type\":\"scatter\"},{\"hovertemplate\":\"<b>%{hovertext}</b><br><br>Country=Malawi<br>Region=Sub-Saharan Africa<br>Economy (GDP per Capita)=%{x}<br>Happiness Score=%{marker.size}<extra></extra>\",\"hovertext\":[131.0],\"ids\":[\"Malawi\"],\"legendgroup\":\"Malawi\",\"marker\":{\"color\":\"#636efa\",\"size\":[4.292],\"sizemode\":\"area\",\"sizeref\":0.018967499999999998,\"symbol\":\"circle\"},\"mode\":\"markers\",\"name\":\"Malawi\",\"orientation\":\"v\",\"showlegend\":true,\"x\":[0.01604],\"xaxis\":\"x\",\"y\":[4.292],\"yaxis\":\"y\",\"type\":\"scatter\"},{\"hovertemplate\":\"<b>%{hovertext}</b><br><br>Country=Cameroon<br>Region=Sub-Saharan Africa<br>Economy (GDP per Capita)=%{x}<br>Happiness Score=%{marker.size}<extra></extra>\",\"hovertext\":[133.0],\"ids\":[\"Cameroon\"],\"legendgroup\":\"Cameroon\",\"marker\":{\"color\":\"#00cc96\",\"size\":[4.252],\"sizemode\":\"area\",\"sizeref\":0.018967499999999998,\"symbol\":\"circle\"},\"mode\":\"markers\",\"name\":\"Cameroon\",\"orientation\":\"v\",\"showlegend\":true,\"x\":[0.4225],\"xaxis\":\"x\",\"y\":[4.252],\"yaxis\":\"y\",\"type\":\"scatter\"},{\"hovertemplate\":\"<b>%{hovertext}</b><br><br>Country=Angola<br>Region=Sub-Saharan Africa<br>Economy (GDP per Capita)=%{x}<br>Happiness Score=%{marker.size}<extra></extra>\",\"hovertext\":[137.0],\"ids\":[\"Angola\"],\"legendgroup\":\"Angola\",\"marker\":{\"color\":\"#FF6692\",\"size\":[4.033],\"sizemode\":\"area\",\"sizeref\":0.018967499999999998,\"symbol\":\"circle\"},\"mode\":\"markers\",\"name\":\"Angola\",\"orientation\":\"v\",\"showlegend\":true,\"x\":[0.75778],\"xaxis\":\"x\",\"y\":[4.033],\"yaxis\":\"y\",\"type\":\"scatter\"},{\"hovertemplate\":\"<b>%{hovertext}</b><br><br>Country=Mali<br>Region=Sub-Saharan Africa<br>Economy (GDP per Capita)=%{x}<br>Happiness Score=%{marker.size}<extra></extra>\",\"hovertext\":[138.0],\"ids\":[\"Mali\"],\"legendgroup\":\"Mali\",\"marker\":{\"color\":\"#B6E880\",\"size\":[3.995],\"sizemode\":\"area\",\"sizeref\":0.018967499999999998,\"symbol\":\"circle\"},\"mode\":\"markers\",\"name\":\"Mali\",\"orientation\":\"v\",\"showlegend\":true,\"x\":[0.26074],\"xaxis\":\"x\",\"y\":[3.995],\"yaxis\":\"y\",\"type\":\"scatter\"},{\"hovertemplate\":\"<b>%{hovertext}</b><br><br>Country=Congo (Brazzaville)<br>Region=Sub-Saharan Africa<br>Economy (GDP per Capita)=%{x}<br>Happiness Score=%{marker.size}<extra></extra>\",\"hovertext\":[139.0],\"ids\":[\"Congo (Brazzaville)\"],\"legendgroup\":\"Congo (Brazzaville)\",\"marker\":{\"color\":\"#FF97FF\",\"size\":[3.989],\"sizemode\":\"area\",\"sizeref\":0.018967499999999998,\"symbol\":\"circle\"},\"mode\":\"markers\",\"name\":\"Congo (Brazzaville)\",\"orientation\":\"v\",\"showlegend\":true,\"x\":[0.67866],\"xaxis\":\"x\",\"y\":[3.989],\"yaxis\":\"y\",\"type\":\"scatter\"},{\"hovertemplate\":\"<b>%{hovertext}</b><br><br>Country=Comoros<br>Region=Sub-Saharan Africa<br>Economy (GDP per Capita)=%{x}<br>Happiness Score=%{marker.size}<extra></extra>\",\"hovertext\":[140.0],\"ids\":[\"Comoros\"],\"legendgroup\":\"Comoros\",\"marker\":{\"color\":\"#FECB52\",\"size\":[3.956],\"sizemode\":\"area\",\"sizeref\":0.018967499999999998,\"symbol\":\"circle\"},\"mode\":\"markers\",\"name\":\"Comoros\",\"orientation\":\"v\",\"showlegend\":true,\"x\":[0.23906],\"xaxis\":\"x\",\"y\":[3.956],\"yaxis\":\"y\",\"type\":\"scatter\"},{\"hovertemplate\":\"<b>%{hovertext}</b><br><br>Country=Uganda<br>Region=Sub-Saharan Africa<br>Economy (GDP per Capita)=%{x}<br>Happiness Score=%{marker.size}<extra></extra>\",\"hovertext\":[141.0],\"ids\":[\"Uganda\"],\"legendgroup\":\"Uganda\",\"marker\":{\"color\":\"#636efa\",\"size\":[3.931],\"sizemode\":\"area\",\"sizeref\":0.018967499999999998,\"symbol\":\"circle\"},\"mode\":\"markers\",\"name\":\"Uganda\",\"orientation\":\"v\",\"showlegend\":true,\"x\":[0.21102],\"xaxis\":\"x\",\"y\":[3.931],\"yaxis\":\"y\",\"type\":\"scatter\"},{\"hovertemplate\":\"<b>%{hovertext}</b><br><br>Country=Senegal<br>Region=Sub-Saharan Africa<br>Economy (GDP per Capita)=%{x}<br>Happiness Score=%{marker.size}<extra></extra>\",\"hovertext\":[142.0],\"ids\":[\"Senegal\"],\"legendgroup\":\"Senegal\",\"marker\":{\"color\":\"#EF553B\",\"size\":[3.904],\"sizemode\":\"area\",\"sizeref\":0.018967499999999998,\"symbol\":\"circle\"},\"mode\":\"markers\",\"name\":\"Senegal\",\"orientation\":\"v\",\"showlegend\":true,\"x\":[0.36498],\"xaxis\":\"x\",\"y\":[3.904],\"yaxis\":\"y\",\"type\":\"scatter\"},{\"hovertemplate\":\"<b>%{hovertext}</b><br><br>Country=Gabon<br>Region=Sub-Saharan Africa<br>Economy (GDP per Capita)=%{x}<br>Happiness Score=%{marker.size}<extra></extra>\",\"hovertext\":[143.0],\"ids\":[\"Gabon\"],\"legendgroup\":\"Gabon\",\"marker\":{\"color\":\"#00cc96\",\"size\":[3.896],\"sizemode\":\"area\",\"sizeref\":0.018967499999999998,\"symbol\":\"circle\"},\"mode\":\"markers\",\"name\":\"Gabon\",\"orientation\":\"v\",\"showlegend\":true,\"x\":[1.06024],\"xaxis\":\"x\",\"y\":[3.896],\"yaxis\":\"y\",\"type\":\"scatter\"},{\"hovertemplate\":\"<b>%{hovertext}</b><br><br>Country=Niger<br>Region=Sub-Saharan Africa<br>Economy (GDP per Capita)=%{x}<br>Happiness Score=%{marker.size}<extra></extra>\",\"hovertext\":[144.0],\"ids\":[\"Niger\"],\"legendgroup\":\"Niger\",\"marker\":{\"color\":\"#ab63fa\",\"size\":[3.845],\"sizemode\":\"area\",\"sizeref\":0.018967499999999998,\"symbol\":\"circle\"},\"mode\":\"markers\",\"name\":\"Niger\",\"orientation\":\"v\",\"showlegend\":true,\"x\":[0.0694],\"xaxis\":\"x\",\"y\":[3.845],\"yaxis\":\"y\",\"type\":\"scatter\"},{\"hovertemplate\":\"<b>%{hovertext}</b><br><br>Country=Tanzania<br>Region=Sub-Saharan Africa<br>Economy (GDP per Capita)=%{x}<br>Happiness Score=%{marker.size}<extra></extra>\",\"hovertext\":[146.0],\"ids\":[\"Tanzania\"],\"legendgroup\":\"Tanzania\",\"marker\":{\"color\":\"#19d3f3\",\"size\":[3.781],\"sizemode\":\"area\",\"sizeref\":0.018967499999999998,\"symbol\":\"circle\"},\"mode\":\"markers\",\"name\":\"Tanzania\",\"orientation\":\"v\",\"showlegend\":true,\"x\":[0.2852],\"xaxis\":\"x\",\"y\":[3.781],\"yaxis\":\"y\",\"type\":\"scatter\"},{\"hovertemplate\":\"<b>%{hovertext}</b><br><br>Country=Madagascar<br>Region=Sub-Saharan Africa<br>Economy (GDP per Capita)=%{x}<br>Happiness Score=%{marker.size}<extra></extra>\",\"hovertext\":[147.0],\"ids\":[\"Madagascar\"],\"legendgroup\":\"Madagascar\",\"marker\":{\"color\":\"#FF6692\",\"size\":[3.681],\"sizemode\":\"area\",\"sizeref\":0.018967499999999998,\"symbol\":\"circle\"},\"mode\":\"markers\",\"name\":\"Madagascar\",\"orientation\":\"v\",\"showlegend\":true,\"x\":[0.20824],\"xaxis\":\"x\",\"y\":[3.681],\"yaxis\":\"y\",\"type\":\"scatter\"},{\"hovertemplate\":\"<b>%{hovertext}</b><br><br>Country=Central African Republic<br>Region=Sub-Saharan Africa<br>Economy (GDP per Capita)=%{x}<br>Happiness Score=%{marker.size}<extra></extra>\",\"hovertext\":[148.0],\"ids\":[\"Central African Republic\"],\"legendgroup\":\"Central African Republic\",\"marker\":{\"color\":\"#B6E880\",\"size\":[3.678],\"sizemode\":\"area\",\"sizeref\":0.018967499999999998,\"symbol\":\"circle\"},\"mode\":\"markers\",\"name\":\"Central African Republic\",\"orientation\":\"v\",\"showlegend\":true,\"x\":[0.0785],\"xaxis\":\"x\",\"y\":[3.678],\"yaxis\":\"y\",\"type\":\"scatter\"},{\"hovertemplate\":\"<b>%{hovertext}</b><br><br>Country=Chad<br>Region=Sub-Saharan Africa<br>Economy (GDP per Capita)=%{x}<br>Happiness Score=%{marker.size}<extra></extra>\",\"hovertext\":[149.0],\"ids\":[\"Chad\"],\"legendgroup\":\"Chad\",\"marker\":{\"color\":\"#FF97FF\",\"size\":[3.667],\"sizemode\":\"area\",\"sizeref\":0.018967499999999998,\"symbol\":\"circle\"},\"mode\":\"markers\",\"name\":\"Chad\",\"orientation\":\"v\",\"showlegend\":true,\"x\":[0.34193],\"xaxis\":\"x\",\"y\":[3.667],\"yaxis\":\"y\",\"type\":\"scatter\"},{\"hovertemplate\":\"<b>%{hovertext}</b><br><br>Country=Guinea<br>Region=Sub-Saharan Africa<br>Economy (GDP per Capita)=%{x}<br>Happiness Score=%{marker.size}<extra></extra>\",\"hovertext\":[150.0],\"ids\":[\"Guinea\"],\"legendgroup\":\"Guinea\",\"marker\":{\"color\":\"#FECB52\",\"size\":[3.656],\"sizemode\":\"area\",\"sizeref\":0.018967499999999998,\"symbol\":\"circle\"},\"mode\":\"markers\",\"name\":\"Guinea\",\"orientation\":\"v\",\"showlegend\":true,\"x\":[0.17417],\"xaxis\":\"x\",\"y\":[3.656],\"yaxis\":\"y\",\"type\":\"scatter\"},{\"hovertemplate\":\"<b>%{hovertext}</b><br><br>Country=Ivory Coast<br>Region=Sub-Saharan Africa<br>Economy (GDP per Capita)=%{x}<br>Happiness Score=%{marker.size}<extra></extra>\",\"hovertext\":[151.0],\"ids\":[\"Ivory Coast\"],\"legendgroup\":\"Ivory Coast\",\"marker\":{\"color\":\"#636efa\",\"size\":[3.655],\"sizemode\":\"area\",\"sizeref\":0.018967499999999998,\"symbol\":\"circle\"},\"mode\":\"markers\",\"name\":\"Ivory Coast\",\"orientation\":\"v\",\"showlegend\":true,\"x\":[0.46534],\"xaxis\":\"x\",\"y\":[3.655],\"yaxis\":\"y\",\"type\":\"scatter\"},{\"hovertemplate\":\"<b>%{hovertext}</b><br><br>Country=Burkina Faso<br>Region=Sub-Saharan Africa<br>Economy (GDP per Capita)=%{x}<br>Happiness Score=%{marker.size}<extra></extra>\",\"hovertext\":[152.0],\"ids\":[\"Burkina Faso\"],\"legendgroup\":\"Burkina Faso\",\"marker\":{\"color\":\"#EF553B\",\"size\":[3.587],\"sizemode\":\"area\",\"sizeref\":0.018967499999999998,\"symbol\":\"circle\"},\"mode\":\"markers\",\"name\":\"Burkina Faso\",\"orientation\":\"v\",\"showlegend\":true,\"x\":[0.25812],\"xaxis\":\"x\",\"y\":[3.587],\"yaxis\":\"y\",\"type\":\"scatter\"},{\"hovertemplate\":\"<b>%{hovertext}</b><br><br>Country=Rwanda<br>Region=Sub-Saharan Africa<br>Economy (GDP per Capita)=%{x}<br>Happiness Score=%{marker.size}<extra></extra>\",\"hovertext\":[154.0],\"ids\":[\"Rwanda\"],\"legendgroup\":\"Rwanda\",\"marker\":{\"color\":\"#ab63fa\",\"size\":[3.465],\"sizemode\":\"area\",\"sizeref\":0.018967499999999998,\"symbol\":\"circle\"},\"mode\":\"markers\",\"name\":\"Rwanda\",\"orientation\":\"v\",\"showlegend\":true,\"x\":[0.22208],\"xaxis\":\"x\",\"y\":[3.465],\"yaxis\":\"y\",\"type\":\"scatter\"},{\"hovertemplate\":\"<b>%{hovertext}</b><br><br>Country=Benin<br>Region=Sub-Saharan Africa<br>Economy (GDP per Capita)=%{x}<br>Happiness Score=%{marker.size}<extra></extra>\",\"hovertext\":[155.0],\"ids\":[\"Benin\"],\"legendgroup\":\"Benin\",\"marker\":{\"color\":\"#FFA15A\",\"size\":[3.34],\"sizemode\":\"area\",\"sizeref\":0.018967499999999998,\"symbol\":\"circle\"},\"mode\":\"markers\",\"name\":\"Benin\",\"orientation\":\"v\",\"showlegend\":true,\"x\":[0.28665],\"xaxis\":\"x\",\"y\":[3.34],\"yaxis\":\"y\",\"type\":\"scatter\"},{\"hovertemplate\":\"<b>%{hovertext}</b><br><br>Country=Burundi<br>Region=Sub-Saharan Africa<br>Economy (GDP per Capita)=%{x}<br>Happiness Score=%{marker.size}<extra></extra>\",\"hovertext\":[157.0],\"ids\":[\"Burundi\"],\"legendgroup\":\"Burundi\",\"marker\":{\"color\":\"#FF6692\",\"size\":[2.905],\"sizemode\":\"area\",\"sizeref\":0.018967499999999998,\"symbol\":\"circle\"},\"mode\":\"markers\",\"name\":\"Burundi\",\"orientation\":\"v\",\"showlegend\":true,\"x\":[0.0153],\"xaxis\":\"x\",\"y\":[2.905],\"yaxis\":\"y\",\"type\":\"scatter\"},{\"hovertemplate\":\"<b>%{hovertext}</b><br><br>Country=Togo<br>Region=Sub-Saharan Africa<br>Economy (GDP per Capita)=%{x}<br>Happiness Score=%{marker.size}<extra></extra>\",\"hovertext\":[158.0],\"ids\":[\"Togo\"],\"legendgroup\":\"Togo\",\"marker\":{\"color\":\"#B6E880\",\"size\":[2.839],\"sizemode\":\"area\",\"sizeref\":0.018967499999999998,\"symbol\":\"circle\"},\"mode\":\"markers\",\"name\":\"Togo\",\"orientation\":\"v\",\"showlegend\":true,\"x\":[0.20868],\"xaxis\":\"x\",\"y\":[2.839],\"yaxis\":\"y\",\"type\":\"scatter\"}],\"name\":\"Sub-Saharan Africa\"},{\"data\":[{\"hovertemplate\":\"<b>%{hovertext}</b><br><br>Country=Bhutan<br>Region=Southern Asia<br>Economy (GDP per Capita)=%{x}<br>Happiness Score=%{marker.size}<extra></extra>\",\"hovertext\":[79.0],\"ids\":[\"Bhutan\"],\"legendgroup\":\"Bhutan\",\"marker\":{\"color\":\"#FF97FF\",\"size\":[5.253],\"sizemode\":\"area\",\"sizeref\":0.018967499999999998,\"symbol\":\"circle\"},\"mode\":\"markers\",\"name\":\"Bhutan\",\"orientation\":\"v\",\"showlegend\":true,\"x\":[0.77042],\"xaxis\":\"x\",\"y\":[5.253],\"yaxis\":\"y\",\"type\":\"scatter\"},{\"hovertemplate\":\"<b>%{hovertext}</b><br><br>Country=Pakistan<br>Region=Southern Asia<br>Economy (GDP per Capita)=%{x}<br>Happiness Score=%{marker.size}<extra></extra>\",\"hovertext\":[81.0],\"ids\":[\"Pakistan\"],\"legendgroup\":\"Pakistan\",\"marker\":{\"color\":\"#636efa\",\"size\":[5.194],\"sizemode\":\"area\",\"sizeref\":0.018967499999999998,\"symbol\":\"circle\"},\"mode\":\"markers\",\"name\":\"Pakistan\",\"orientation\":\"v\",\"showlegend\":true,\"x\":[0.59543],\"xaxis\":\"x\",\"y\":[5.194],\"yaxis\":\"y\",\"type\":\"scatter\"},{\"hovertemplate\":\"<b>%{hovertext}</b><br><br>Country=Bangladesh<br>Region=Southern Asia<br>Economy (GDP per Capita)=%{x}<br>Happiness Score=%{marker.size}<extra></extra>\",\"hovertext\":[109.0],\"ids\":[\"Bangladesh\"],\"legendgroup\":\"Bangladesh\",\"marker\":{\"color\":\"#FF97FF\",\"size\":[4.694],\"sizemode\":\"area\",\"sizeref\":0.018967499999999998,\"symbol\":\"circle\"},\"mode\":\"markers\",\"name\":\"Bangladesh\",\"orientation\":\"v\",\"showlegend\":true,\"x\":[0.39753],\"xaxis\":\"x\",\"y\":[4.694],\"yaxis\":\"y\",\"type\":\"scatter\"},{\"hovertemplate\":\"<b>%{hovertext}</b><br><br>Country=India<br>Region=Southern Asia<br>Economy (GDP per Capita)=%{x}<br>Happiness Score=%{marker.size}<extra></extra>\",\"hovertext\":[117.0],\"ids\":[\"India\"],\"legendgroup\":\"India\",\"marker\":{\"color\":\"#FF6692\",\"size\":[4.565],\"sizemode\":\"area\",\"sizeref\":0.018967499999999998,\"symbol\":\"circle\"},\"mode\":\"markers\",\"name\":\"India\",\"orientation\":\"v\",\"showlegend\":true,\"x\":[0.64499],\"xaxis\":\"x\",\"y\":[4.565],\"yaxis\":\"y\",\"type\":\"scatter\"},{\"hovertemplate\":\"<b>%{hovertext}</b><br><br>Country=Nepal<br>Region=Southern Asia<br>Economy (GDP per Capita)=%{x}<br>Happiness Score=%{marker.size}<extra></extra>\",\"hovertext\":[121.0],\"ids\":[\"Nepal\"],\"legendgroup\":\"Nepal\",\"marker\":{\"color\":\"#636efa\",\"size\":[4.514],\"sizemode\":\"area\",\"sizeref\":0.018967499999999998,\"symbol\":\"circle\"},\"mode\":\"markers\",\"name\":\"Nepal\",\"orientation\":\"v\",\"showlegend\":true,\"x\":[0.35997],\"xaxis\":\"x\",\"y\":[4.514],\"yaxis\":\"y\",\"type\":\"scatter\"},{\"hovertemplate\":\"<b>%{hovertext}</b><br><br>Country=Sri Lanka<br>Region=Southern Asia<br>Economy (GDP per Capita)=%{x}<br>Happiness Score=%{marker.size}<extra></extra>\",\"hovertext\":[132.0],\"ids\":[\"Sri Lanka\"],\"legendgroup\":\"Sri Lanka\",\"marker\":{\"color\":\"#EF553B\",\"size\":[4.271],\"sizemode\":\"area\",\"sizeref\":0.018967499999999998,\"symbol\":\"circle\"},\"mode\":\"markers\",\"name\":\"Sri Lanka\",\"orientation\":\"v\",\"showlegend\":true,\"x\":[0.83524],\"xaxis\":\"x\",\"y\":[4.271],\"yaxis\":\"y\",\"type\":\"scatter\"},{\"hovertemplate\":\"<b>%{hovertext}</b><br><br>Country=Afghanistan<br>Region=Southern Asia<br>Economy (GDP per Capita)=%{x}<br>Happiness Score=%{marker.size}<extra></extra>\",\"hovertext\":[153.0],\"ids\":[\"Afghanistan\"],\"legendgroup\":\"Afghanistan\",\"marker\":{\"color\":\"#00cc96\",\"size\":[3.575],\"sizemode\":\"area\",\"sizeref\":0.018967499999999998,\"symbol\":\"circle\"},\"mode\":\"markers\",\"name\":\"Afghanistan\",\"orientation\":\"v\",\"showlegend\":true,\"x\":[0.31982],\"xaxis\":\"x\",\"y\":[3.575],\"yaxis\":\"y\",\"type\":\"scatter\"}],\"name\":\"Southern Asia\"}]);\n",
       "                        }).then(function(){\n",
       "                            \n",
       "var gd = document.getElementById('11011413-928b-4be3-a86a-7510357de8ac');\n",
       "var x = new MutationObserver(function (mutations, observer) {{\n",
       "        var display = window.getComputedStyle(gd).display;\n",
       "        if (!display || display === 'none') {{\n",
       "            console.log([gd, 'removed!']);\n",
       "            Plotly.purge(gd);\n",
       "            observer.disconnect();\n",
       "        }}\n",
       "}});\n",
       "\n",
       "// Listen for the removal of the full notebook cells\n",
       "var notebookContainer = gd.closest('#notebook-container');\n",
       "if (notebookContainer) {{\n",
       "    x.observe(notebookContainer, {childList: true});\n",
       "}}\n",
       "\n",
       "// Listen for the clearing of the current output cell\n",
       "var outputEl = gd.closest('.output');\n",
       "if (outputEl) {{\n",
       "    x.observe(outputEl, {childList: true});\n",
       "}}\n",
       "\n",
       "                        })                };                });            </script>        </div>"
      ]
     },
     "metadata": {},
     "output_type": "display_data"
    }
   ],
   "source": [
    "px.scatter(data_frame = df15,\n",
    "           x = 'Economy (GDP per Capita)', \n",
    "           y = 'Happiness Score', \n",
    "           animation_frame = 'Region',\n",
    "           animation_group = 'Country',\n",
    "           size = 'Happiness Score', \n",
    "           color = 'Country', \n",
    "           hover_name = 'Happiness Rank', \n",
    "           title = 'Happiness Scores vs GDP')\n",
    "#Так же нашел как сделать более наглядную иллюстрацию отношения счастья к уровню экономики. Похожий график делал выше однако тут более нагляднее."
   ]
  },
  {
   "cell_type": "code",
   "execution_count": null,
   "id": "228d566c",
   "metadata": {},
   "outputs": [],
   "source": []
  }
 ],
 "metadata": {
  "kernelspec": {
   "display_name": "Python 3 (ipykernel)",
   "language": "python",
   "name": "python3"
  },
  "language_info": {
   "codemirror_mode": {
    "name": "ipython",
    "version": 3
   },
   "file_extension": ".py",
   "mimetype": "text/x-python",
   "name": "python",
   "nbconvert_exporter": "python",
   "pygments_lexer": "ipython3",
   "version": "3.11.3"
  }
 },
 "nbformat": 4,
 "nbformat_minor": 5
}
